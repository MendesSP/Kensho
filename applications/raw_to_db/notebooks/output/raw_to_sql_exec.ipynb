{
 "cells": [
  {
   "cell_type": "markdown",
   "metadata": {
    "papermill": {
     "duration": 0.008498,
     "end_time": "2020-07-18T14:22:32.508995",
     "exception": false,
     "start_time": "2020-07-18T14:22:32.500497",
     "status": "completed"
    },
    "tags": []
   },
   "source": [
    "# Description\n",
    "\n",
    "Create the ETL process to transfer data from the raw format to a working relational database\n",
    "\n",
    "The database used here is a MYSQL database initialized using DOCKER.\n",
    "\n",
    "To create and initialize the database:\n",
    "- docker pull mysql:latest\n",
    "- docker run --name=user_mysql_1 --env=\"MYSQL_ROOT_PASSWORD=root_password\" -p 3306:3306 -d mysql:latest\n",
    "\n",
    "To run the database:\n",
    "- docker exec -it user_mysql_1 mysql -uroot -p\n",
    "\n",
    "Inside the database:\n",
    "- CREATE DATABASE test_db;\n",
    "- CREATE USER 'newuser'@'%' IDENTIFIED BY 'newpassword';\n",
    "- GRANT ALL PRIVILEGES ON test_db.* to 'newuser'@'%';\n",
    "\n",
    "Reference\n",
    "https://medium.com/swlh/how-to-connect-to-mysql-docker-from-python-application-on-macos-mojave-32c7834e5afa"
   ]
  },
  {
   "cell_type": "markdown",
   "metadata": {
    "papermill": {
     "duration": 0.006581,
     "end_time": "2020-07-18T14:22:32.522363",
     "exception": false,
     "start_time": "2020-07-18T14:22:32.515782",
     "status": "completed"
    },
    "tags": []
   },
   "source": [
    "# Import libraries and define functions and paths"
   ]
  },
  {
   "cell_type": "markdown",
   "metadata": {
    "papermill": {
     "duration": 0.006282,
     "end_time": "2020-07-18T14:22:32.534331",
     "exception": false,
     "start_time": "2020-07-18T14:22:32.528049",
     "status": "completed"
    },
    "tags": []
   },
   "source": [
    "## libraries"
   ]
  },
  {
   "cell_type": "code",
   "execution_count": 1,
   "metadata": {
    "ExecuteTime": {
     "end_time": "2020-07-18T14:05:21.952092Z",
     "start_time": "2020-07-18T14:05:21.949705Z"
    },
    "execution": {
     "iopub.execute_input": "2020-07-18T14:22:32.550953Z",
     "iopub.status.busy": "2020-07-18T14:22:32.550260Z",
     "iopub.status.idle": "2020-07-18T14:22:32.796591Z",
     "shell.execute_reply": "2020-07-18T14:22:32.797075Z"
    },
    "papermill": {
     "duration": 0.256609,
     "end_time": "2020-07-18T14:22:32.797370",
     "exception": false,
     "start_time": "2020-07-18T14:22:32.540761",
     "status": "completed"
    },
    "tags": []
   },
   "outputs": [],
   "source": [
    "import pandas as pd\n",
    "import datetime"
   ]
  },
  {
   "cell_type": "markdown",
   "metadata": {
    "papermill": {
     "duration": 0.006105,
     "end_time": "2020-07-18T14:22:32.810294",
     "exception": false,
     "start_time": "2020-07-18T14:22:32.804189",
     "status": "completed"
    },
    "tags": []
   },
   "source": [
    "## functions"
   ]
  },
  {
   "cell_type": "code",
   "execution_count": 2,
   "metadata": {
    "ExecuteTime": {
     "end_time": "2020-07-18T14:21:30.845657Z",
     "start_time": "2020-07-18T14:21:30.842114Z"
    },
    "execution": {
     "iopub.execute_input": "2020-07-18T14:22:32.832625Z",
     "iopub.status.busy": "2020-07-18T14:22:32.832023Z",
     "iopub.status.idle": "2020-07-18T14:22:32.834487Z",
     "shell.execute_reply": "2020-07-18T14:22:32.834906Z"
    },
    "papermill": {
     "duration": 0.017918,
     "end_time": "2020-07-18T14:22:32.835195",
     "exception": false,
     "start_time": "2020-07-18T14:22:32.817277",
     "status": "completed"
    },
    "tags": []
   },
   "outputs": [
    {
     "data": {
      "text/plain": [
       "'/Users/mendes/tech_interview/Kensho/applications/raw_to_db'"
      ]
     },
     "execution_count": 2,
     "metadata": {},
     "output_type": "execute_result"
    }
   ],
   "source": [
    "pwd"
   ]
  },
  {
   "cell_type": "markdown",
   "metadata": {
    "papermill": {
     "duration": 0.007179,
     "end_time": "2020-07-18T14:22:32.849151",
     "exception": false,
     "start_time": "2020-07-18T14:22:32.841972",
     "status": "completed"
    },
    "tags": []
   },
   "source": [
    "## Paths"
   ]
  },
  {
   "cell_type": "code",
   "execution_count": 3,
   "metadata": {
    "ExecuteTime": {
     "end_time": "2020-07-18T14:22:21.125667Z",
     "start_time": "2020-07-18T14:22:21.123183Z"
    },
    "execution": {
     "iopub.execute_input": "2020-07-18T14:22:32.866398Z",
     "iopub.status.busy": "2020-07-18T14:22:32.865752Z",
     "iopub.status.idle": "2020-07-18T14:22:32.867852Z",
     "shell.execute_reply": "2020-07-18T14:22:32.868322Z"
    },
    "papermill": {
     "duration": 0.012834,
     "end_time": "2020-07-18T14:22:32.868569",
     "exception": false,
     "start_time": "2020-07-18T14:22:32.855735",
     "status": "completed"
    },
    "tags": []
   },
   "outputs": [],
   "source": [
    "path_root = '/Users/mendes/tech_interview/Kensho/'\n",
    "path_raw_data_folder = path_root+'/data/raw/'"
   ]
  },
  {
   "cell_type": "markdown",
   "metadata": {
    "papermill": {
     "duration": 0.007163,
     "end_time": "2020-07-18T14:22:32.882797",
     "exception": false,
     "start_time": "2020-07-18T14:22:32.875634",
     "status": "completed"
    },
    "tags": []
   },
   "source": [
    "# Read Raw data"
   ]
  },
  {
   "cell_type": "code",
   "execution_count": 4,
   "metadata": {
    "ExecuteTime": {
     "end_time": "2020-07-18T14:22:24.208587Z",
     "start_time": "2020-07-18T14:22:24.195383Z"
    },
    "execution": {
     "iopub.execute_input": "2020-07-18T14:22:32.908658Z",
     "iopub.status.busy": "2020-07-18T14:22:32.900677Z",
     "iopub.status.idle": "2020-07-18T14:22:32.915418Z",
     "shell.execute_reply": "2020-07-18T14:22:32.915962Z"
    },
    "papermill": {
     "duration": 0.026247,
     "end_time": "2020-07-18T14:22:32.916258",
     "exception": false,
     "start_time": "2020-07-18T14:22:32.890011",
     "status": "completed"
    },
    "tags": []
   },
   "outputs": [
    {
     "data": {
      "text/html": [
       "<div>\n",
       "<style scoped>\n",
       "    .dataframe tbody tr th:only-of-type {\n",
       "        vertical-align: middle;\n",
       "    }\n",
       "\n",
       "    .dataframe tbody tr th {\n",
       "        vertical-align: top;\n",
       "    }\n",
       "\n",
       "    .dataframe thead th {\n",
       "        text-align: right;\n",
       "    }\n",
       "</style>\n",
       "<table border=\"1\" class=\"dataframe\">\n",
       "  <thead>\n",
       "    <tr style=\"text-align: right;\">\n",
       "      <th></th>\n",
       "      <th>sepal_length</th>\n",
       "      <th>sepal_width</th>\n",
       "      <th>petal_length</th>\n",
       "      <th>petal_width</th>\n",
       "      <th>species</th>\n",
       "      <th>timestamp</th>\n",
       "    </tr>\n",
       "  </thead>\n",
       "  <tbody>\n",
       "    <tr>\n",
       "      <th>0</th>\n",
       "      <td>5.1</td>\n",
       "      <td>3.5</td>\n",
       "      <td>1.4</td>\n",
       "      <td>0.2</td>\n",
       "      <td>setosa</td>\n",
       "      <td>2020-07-18 10:22:32.902035</td>\n",
       "    </tr>\n",
       "    <tr>\n",
       "      <th>1</th>\n",
       "      <td>4.9</td>\n",
       "      <td>3.0</td>\n",
       "      <td>1.4</td>\n",
       "      <td>0.2</td>\n",
       "      <td>setosa</td>\n",
       "      <td>2020-07-18 10:22:32.902035</td>\n",
       "    </tr>\n",
       "    <tr>\n",
       "      <th>2</th>\n",
       "      <td>4.7</td>\n",
       "      <td>3.2</td>\n",
       "      <td>1.3</td>\n",
       "      <td>0.2</td>\n",
       "      <td>setosa</td>\n",
       "      <td>2020-07-18 10:22:32.902035</td>\n",
       "    </tr>\n",
       "    <tr>\n",
       "      <th>3</th>\n",
       "      <td>4.6</td>\n",
       "      <td>3.1</td>\n",
       "      <td>1.5</td>\n",
       "      <td>0.2</td>\n",
       "      <td>setosa</td>\n",
       "      <td>2020-07-18 10:22:32.902035</td>\n",
       "    </tr>\n",
       "    <tr>\n",
       "      <th>4</th>\n",
       "      <td>5.0</td>\n",
       "      <td>3.6</td>\n",
       "      <td>1.4</td>\n",
       "      <td>0.2</td>\n",
       "      <td>setosa</td>\n",
       "      <td>2020-07-18 10:22:32.902035</td>\n",
       "    </tr>\n",
       "  </tbody>\n",
       "</table>\n",
       "</div>"
      ],
      "text/plain": [
       "   sepal_length  sepal_width  petal_length  petal_width species  \\\n",
       "0           5.1          3.5           1.4          0.2  setosa   \n",
       "1           4.9          3.0           1.4          0.2  setosa   \n",
       "2           4.7          3.2           1.3          0.2  setosa   \n",
       "3           4.6          3.1           1.5          0.2  setosa   \n",
       "4           5.0          3.6           1.4          0.2  setosa   \n",
       "\n",
       "                   timestamp  \n",
       "0 2020-07-18 10:22:32.902035  \n",
       "1 2020-07-18 10:22:32.902035  \n",
       "2 2020-07-18 10:22:32.902035  \n",
       "3 2020-07-18 10:22:32.902035  \n",
       "4 2020-07-18 10:22:32.902035  "
      ]
     },
     "execution_count": 4,
     "metadata": {},
     "output_type": "execute_result"
    }
   ],
   "source": [
    "data = pd.read_csv(path_raw_data_folder+'iris.csv')\n",
    "data['timestamp'] = datetime.datetime.now()\n",
    "data.head()"
   ]
  },
  {
   "cell_type": "markdown",
   "metadata": {
    "papermill": {
     "duration": 0.007512,
     "end_time": "2020-07-18T14:22:32.932762",
     "exception": false,
     "start_time": "2020-07-18T14:22:32.925250",
     "status": "completed"
    },
    "tags": []
   },
   "source": [
    "# Connect SQL DB and transfer data"
   ]
  },
  {
   "cell_type": "markdown",
   "metadata": {
    "papermill": {
     "duration": 0.008084,
     "end_time": "2020-07-18T14:22:32.948268",
     "exception": false,
     "start_time": "2020-07-18T14:22:32.940184",
     "status": "completed"
    },
    "tags": []
   },
   "source": [
    "## Define connection parameters"
   ]
  },
  {
   "cell_type": "code",
   "execution_count": 5,
   "metadata": {
    "ExecuteTime": {
     "end_time": "2020-07-18T14:05:55.824891Z",
     "start_time": "2020-07-18T14:05:55.820102Z"
    },
    "execution": {
     "iopub.execute_input": "2020-07-18T14:22:32.969940Z",
     "iopub.status.busy": "2020-07-18T14:22:32.969318Z",
     "iopub.status.idle": "2020-07-18T14:22:33.059922Z",
     "shell.execute_reply": "2020-07-18T14:22:33.060401Z"
    },
    "papermill": {
     "duration": 0.103958,
     "end_time": "2020-07-18T14:22:33.060595",
     "exception": false,
     "start_time": "2020-07-18T14:22:32.956637",
     "status": "completed"
    },
    "tags": []
   },
   "outputs": [],
   "source": [
    "import sqlalchemy as db\n",
    "\n",
    "# specify database configurations\n",
    "config = {\n",
    "    'host': 'localhost',\n",
    "    'port': 3306,\n",
    "    'user': 'mendes',\n",
    "    'password': 'test',\n",
    "    'database': 'test_db'\n",
    "}\n",
    "db_user = config.get('user')\n",
    "db_pwd = config.get('password')\n",
    "db_host = config.get('host')\n",
    "db_port = config.get('port')\n",
    "db_name = config.get('database')\n",
    "# specify connection string\n",
    "connection_str = f'mysql+pymysql://{db_user}:{db_pwd}@{db_host}:{db_port}/{db_name}'\n",
    "# connect to database\n",
    "engine = db.create_engine(connection_str)"
   ]
  },
  {
   "cell_type": "markdown",
   "metadata": {
    "papermill": {
     "duration": 0.006815,
     "end_time": "2020-07-18T14:22:33.075307",
     "exception": false,
     "start_time": "2020-07-18T14:22:33.068492",
     "status": "completed"
    },
    "tags": []
   },
   "source": [
    "## Create or append to table"
   ]
  },
  {
   "cell_type": "code",
   "execution_count": 6,
   "metadata": {
    "ExecuteTime": {
     "end_time": "2020-07-18T14:06:04.285326Z",
     "start_time": "2020-07-18T14:06:04.196674Z"
    },
    "execution": {
     "iopub.execute_input": "2020-07-18T14:22:33.095895Z",
     "iopub.status.busy": "2020-07-18T14:22:33.095317Z",
     "iopub.status.idle": "2020-07-18T14:22:33.182397Z",
     "shell.execute_reply": "2020-07-18T14:22:33.182881Z"
    },
    "papermill": {
     "duration": 0.10029,
     "end_time": "2020-07-18T14:22:33.183122",
     "exception": false,
     "start_time": "2020-07-18T14:22:33.082832",
     "status": "completed"
    },
    "tags": []
   },
   "outputs": [],
   "source": [
    "with engine.connect() as conn:\n",
    "# pull metadata of a table\n",
    "    metadata = db.MetaData(bind=engine)\n",
    "    metadata.reflect(only=['test_table'])\n",
    "\n",
    "    test_table = metadata.tables['test_table']\n",
    "    frame = data.to_sql('iris',conn, if_exists='append');"
   ]
  },
  {
   "cell_type": "code",
   "execution_count": null,
   "metadata": {
    "papermill": {
     "duration": 0.007606,
     "end_time": "2020-07-18T14:22:33.198295",
     "exception": false,
     "start_time": "2020-07-18T14:22:33.190689",
     "status": "completed"
    },
    "tags": []
   },
   "outputs": [],
   "source": []
  }
 ],
 "metadata": {
  "hide_input": false,
  "kernelspec": {
   "display_name": "Python (raw-to-db)",
   "language": "python",
   "name": "venv-kensho-raw-to-db"
  },
  "language_info": {
   "codemirror_mode": {
    "name": "ipython",
    "version": 3
   },
   "file_extension": ".py",
   "mimetype": "text/x-python",
   "name": "python",
   "nbconvert_exporter": "python",
   "pygments_lexer": "ipython3",
   "version": "3.7.7"
  },
  "papermill": {
   "duration": 1.955166,
   "end_time": "2020-07-18T14:22:33.523185",
   "environment_variables": {},
   "exception": null,
   "input_path": "notebooks/raw_to_sql.ipynb",
   "output_path": "notebooks/output/raw_to_sql_exec.ipynb",
   "parameters": {},
   "start_time": "2020-07-18T14:22:31.568019",
   "version": "2.1.2"
  },
  "toc": {
   "base_numbering": 1,
   "nav_menu": {},
   "number_sections": true,
   "sideBar": true,
   "skip_h1_title": false,
   "title_cell": "Table of Contents",
   "title_sidebar": "Contents",
   "toc_cell": false,
   "toc_position": {},
   "toc_section_display": true,
   "toc_window_display": false
  },
  "varInspector": {
   "cols": {
    "lenName": 16,
    "lenType": 16,
    "lenVar": 40
   },
   "kernels_config": {
    "python": {
     "delete_cmd_postfix": "",
     "delete_cmd_prefix": "del ",
     "library": "var_list.py",
     "varRefreshCmd": "print(var_dic_list())"
    },
    "r": {
     "delete_cmd_postfix": ") ",
     "delete_cmd_prefix": "rm(",
     "library": "var_list.r",
     "varRefreshCmd": "cat(var_dic_list()) "
    }
   },
   "types_to_exclude": [
    "module",
    "function",
    "builtin_function_or_method",
    "instance",
    "_Feature"
   ],
   "window_display": false
  }
 },
 "nbformat": 4,
 "nbformat_minor": 4
}