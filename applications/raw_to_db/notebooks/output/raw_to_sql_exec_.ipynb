{
 "cells": [
  {
   "cell_type": "markdown",
   "metadata": {
    "papermill": {
     "duration": 0.008736,
     "end_time": "2020-07-18T15:26:08.286555",
     "exception": false,
     "start_time": "2020-07-18T15:26:08.277819",
     "status": "completed"
    },
    "tags": []
   },
   "source": [
    "# Description\n",
    "\n",
    "Create the ETL process to transfer data from the raw format to a working relational database\n",
    "\n",
    "The database used here is a MYSQL database initialized using DOCKER.\n",
    "\n",
    "To create and initialize the database:\n",
    "- docker pull mysql:latest\n",
    "- docker run --name=user_mysql_1 --env=\"MYSQL_ROOT_PASSWORD=root_password\" -p 3306:3306 -d mysql:latest\n",
    "\n",
    "To run the database:\n",
    "- docker exec -it user_mysql_1 mysql -uroot -p\n",
    "\n",
    "Inside the database:\n",
    "- CREATE DATABASE test_db;\n",
    "- CREATE USER 'newuser'@'%' IDENTIFIED BY 'newpassword';\n",
    "- GRANT ALL PRIVILEGES ON test_db.* to 'newuser'@'%';\n",
    "\n",
    "Reference\n",
    "https://medium.com/swlh/how-to-connect-to-mysql-docker-from-python-application-on-macos-mojave-32c7834e5afa"
   ]
  },
  {
   "cell_type": "markdown",
   "metadata": {
    "papermill": {
     "duration": 0.006364,
     "end_time": "2020-07-18T15:26:08.299382",
     "exception": false,
     "start_time": "2020-07-18T15:26:08.293018",
     "status": "completed"
    },
    "tags": []
   },
   "source": [
    "# Import libraries and define functions and paths"
   ]
  },
  {
   "cell_type": "markdown",
   "metadata": {
    "papermill": {
     "duration": 0.007021,
     "end_time": "2020-07-18T15:26:08.312609",
     "exception": false,
     "start_time": "2020-07-18T15:26:08.305588",
     "status": "completed"
    },
    "tags": []
   },
   "source": [
    "## libraries"
   ]
  },
  {
   "cell_type": "code",
   "execution_count": 1,
   "metadata": {
    "ExecuteTime": {
     "end_time": "2020-07-18T15:21:56.879515Z",
     "start_time": "2020-07-18T15:21:56.877083Z"
    },
    "execution": {
     "iopub.execute_input": "2020-07-18T15:26:08.330552Z",
     "iopub.status.busy": "2020-07-18T15:26:08.329661Z",
     "iopub.status.idle": "2020-07-18T15:26:08.589993Z",
     "shell.execute_reply": "2020-07-18T15:26:08.590422Z"
    },
    "papermill": {
     "duration": 0.271547,
     "end_time": "2020-07-18T15:26:08.590725",
     "exception": false,
     "start_time": "2020-07-18T15:26:08.319178",
     "status": "completed"
    },
    "tags": []
   },
   "outputs": [],
   "source": [
    "import pandas as pd\n",
    "import datetime\n",
    "import os"
   ]
  },
  {
   "cell_type": "markdown",
   "metadata": {
    "papermill": {
     "duration": 0.007117,
     "end_time": "2020-07-18T15:26:08.605444",
     "exception": false,
     "start_time": "2020-07-18T15:26:08.598327",
     "status": "completed"
    },
    "tags": []
   },
   "source": [
    "## functions"
   ]
  },
  {
   "cell_type": "code",
   "execution_count": null,
   "metadata": {
    "ExecuteTime": {
     "end_time": "2020-07-18T15:22:34.117145Z",
     "start_time": "2020-07-18T15:22:34.114162Z"
    },
    "papermill": {
     "duration": 0.006277,
     "end_time": "2020-07-18T15:26:08.618953",
     "exception": false,
     "start_time": "2020-07-18T15:26:08.612676",
     "status": "completed"
    },
    "tags": []
   },
   "outputs": [],
   "source": []
  },
  {
   "cell_type": "markdown",
   "metadata": {
    "papermill": {
     "duration": 0.007325,
     "end_time": "2020-07-18T15:26:08.633035",
     "exception": false,
     "start_time": "2020-07-18T15:26:08.625710",
     "status": "completed"
    },
    "tags": []
   },
   "source": [
    "## Paths"
   ]
  },
  {
   "cell_type": "code",
   "execution_count": 2,
   "metadata": {
    "ExecuteTime": {
     "end_time": "2020-07-18T15:22:41.036880Z",
     "start_time": "2020-07-18T15:22:41.033775Z"
    },
    "execution": {
     "iopub.execute_input": "2020-07-18T15:26:08.652287Z",
     "iopub.status.busy": "2020-07-18T15:26:08.651593Z",
     "iopub.status.idle": "2020-07-18T15:26:08.653693Z",
     "shell.execute_reply": "2020-07-18T15:26:08.654121Z"
    },
    "papermill": {
     "duration": 0.014405,
     "end_time": "2020-07-18T15:26:08.654338",
     "exception": false,
     "start_time": "2020-07-18T15:26:08.639933",
     "status": "completed"
    },
    "tags": []
   },
   "outputs": [],
   "source": [
    "if 'mendes' in os.path.abspath(os.getcwd()):\n",
    "    path_root = '/Users/mendes/tech_interview/Kensho/'\n",
    "else:\n",
    "    path_root = ''\n",
    "\n",
    "path_raw_data_folder = path_root+'data/raw/'"
   ]
  },
  {
   "cell_type": "markdown",
   "metadata": {
    "papermill": {
     "duration": 0.0068,
     "end_time": "2020-07-18T15:26:08.668369",
     "exception": false,
     "start_time": "2020-07-18T15:26:08.661569",
     "status": "completed"
    },
    "tags": []
   },
   "source": [
    "# Read Raw data"
   ]
  },
  {
   "cell_type": "code",
   "execution_count": 3,
   "metadata": {
    "ExecuteTime": {
     "end_time": "2020-07-18T14:22:24.208587Z",
     "start_time": "2020-07-18T14:22:24.195383Z"
    },
    "execution": {
     "iopub.execute_input": "2020-07-18T15:26:08.687403Z",
     "iopub.status.busy": "2020-07-18T15:26:08.686694Z",
     "iopub.status.idle": "2020-07-18T15:26:08.707709Z",
     "shell.execute_reply": "2020-07-18T15:26:08.708162Z"
    },
    "papermill": {
     "duration": 0.033028,
     "end_time": "2020-07-18T15:26:08.708388",
     "exception": false,
     "start_time": "2020-07-18T15:26:08.675360",
     "status": "completed"
    },
    "tags": []
   },
   "outputs": [
    {
     "data": {
      "text/html": [
       "<div>\n",
       "<style scoped>\n",
       "    .dataframe tbody tr th:only-of-type {\n",
       "        vertical-align: middle;\n",
       "    }\n",
       "\n",
       "    .dataframe tbody tr th {\n",
       "        vertical-align: top;\n",
       "    }\n",
       "\n",
       "    .dataframe thead th {\n",
       "        text-align: right;\n",
       "    }\n",
       "</style>\n",
       "<table border=\"1\" class=\"dataframe\">\n",
       "  <thead>\n",
       "    <tr style=\"text-align: right;\">\n",
       "      <th></th>\n",
       "      <th>sepal_length</th>\n",
       "      <th>sepal_width</th>\n",
       "      <th>petal_length</th>\n",
       "      <th>petal_width</th>\n",
       "      <th>species</th>\n",
       "      <th>timestamp</th>\n",
       "    </tr>\n",
       "  </thead>\n",
       "  <tbody>\n",
       "    <tr>\n",
       "      <th>0</th>\n",
       "      <td>5.1</td>\n",
       "      <td>3.5</td>\n",
       "      <td>1.4</td>\n",
       "      <td>0.2</td>\n",
       "      <td>setosa</td>\n",
       "      <td>2020-07-18 11:26:08.688525</td>\n",
       "    </tr>\n",
       "    <tr>\n",
       "      <th>1</th>\n",
       "      <td>4.9</td>\n",
       "      <td>3.0</td>\n",
       "      <td>1.4</td>\n",
       "      <td>0.2</td>\n",
       "      <td>setosa</td>\n",
       "      <td>2020-07-18 11:26:08.688525</td>\n",
       "    </tr>\n",
       "    <tr>\n",
       "      <th>2</th>\n",
       "      <td>4.7</td>\n",
       "      <td>3.2</td>\n",
       "      <td>1.3</td>\n",
       "      <td>0.2</td>\n",
       "      <td>setosa</td>\n",
       "      <td>2020-07-18 11:26:08.688525</td>\n",
       "    </tr>\n",
       "    <tr>\n",
       "      <th>3</th>\n",
       "      <td>4.6</td>\n",
       "      <td>3.1</td>\n",
       "      <td>1.5</td>\n",
       "      <td>0.2</td>\n",
       "      <td>setosa</td>\n",
       "      <td>2020-07-18 11:26:08.688525</td>\n",
       "    </tr>\n",
       "    <tr>\n",
       "      <th>4</th>\n",
       "      <td>5.0</td>\n",
       "      <td>3.6</td>\n",
       "      <td>1.4</td>\n",
       "      <td>0.2</td>\n",
       "      <td>setosa</td>\n",
       "      <td>2020-07-18 11:26:08.688525</td>\n",
       "    </tr>\n",
       "  </tbody>\n",
       "</table>\n",
       "</div>"
      ],
      "text/plain": [
       "   sepal_length  sepal_width  petal_length  petal_width species  \\\n",
       "0           5.1          3.5           1.4          0.2  setosa   \n",
       "1           4.9          3.0           1.4          0.2  setosa   \n",
       "2           4.7          3.2           1.3          0.2  setosa   \n",
       "3           4.6          3.1           1.5          0.2  setosa   \n",
       "4           5.0          3.6           1.4          0.2  setosa   \n",
       "\n",
       "                   timestamp  \n",
       "0 2020-07-18 11:26:08.688525  \n",
       "1 2020-07-18 11:26:08.688525  \n",
       "2 2020-07-18 11:26:08.688525  \n",
       "3 2020-07-18 11:26:08.688525  \n",
       "4 2020-07-18 11:26:08.688525  "
      ]
     },
     "execution_count": 3,
     "metadata": {},
     "output_type": "execute_result"
    }
   ],
   "source": [
    "data = pd.read_csv(path_raw_data_folder+'iris.csv')\n",
    "data['timestamp'] = datetime.datetime.now()\n",
    "data.head()"
   ]
  },
  {
   "cell_type": "markdown",
   "metadata": {
    "papermill": {
     "duration": 0.00683,
     "end_time": "2020-07-18T15:26:08.723483",
     "exception": false,
     "start_time": "2020-07-18T15:26:08.716653",
     "status": "completed"
    },
    "tags": []
   },
   "source": [
    "# Connect SQL DB and transfer data"
   ]
  },
  {
   "cell_type": "markdown",
   "metadata": {
    "papermill": {
     "duration": 0.006669,
     "end_time": "2020-07-18T15:26:08.737362",
     "exception": false,
     "start_time": "2020-07-18T15:26:08.730693",
     "status": "completed"
    },
    "tags": []
   },
   "source": [
    "## Define connection parameters"
   ]
  },
  {
   "cell_type": "code",
   "execution_count": 4,
   "metadata": {
    "ExecuteTime": {
     "end_time": "2020-07-18T15:07:12.357867Z",
     "start_time": "2020-07-18T15:07:12.352385Z"
    },
    "execution": {
     "iopub.execute_input": "2020-07-18T15:26:08.758270Z",
     "iopub.status.busy": "2020-07-18T15:26:08.757489Z",
     "iopub.status.idle": "2020-07-18T15:26:08.851658Z",
     "shell.execute_reply": "2020-07-18T15:26:08.852070Z"
    },
    "papermill": {
     "duration": 0.107232,
     "end_time": "2020-07-18T15:26:08.852265",
     "exception": false,
     "start_time": "2020-07-18T15:26:08.745033",
     "status": "completed"
    },
    "tags": []
   },
   "outputs": [],
   "source": [
    "import sqlalchemy as db\n",
    "\n",
    "# specify database configurations\n",
    "config = {\n",
    "    'host': 'localhost',\n",
    "    'port': 3306,\n",
    "    'user': 'mendes',\n",
    "    'password': 'test',\n",
    "    'database': 'test_db'\n",
    "}\n",
    "db_user = config.get('user')\n",
    "db_pwd = config.get('password')\n",
    "db_host = config.get('host')\n",
    "db_port = config.get('port')\n",
    "db_name = config.get('database')\n",
    "# specify connection string\n",
    "connection_str = f'mysql+pymysql://{db_user}:{db_pwd}@{db_host}:{db_port}/{db_name}'\n",
    "# connect to database\n",
    "engine = db.create_engine(connection_str)"
   ]
  },
  {
   "cell_type": "code",
   "execution_count": 5,
   "metadata": {
    "ExecuteTime": {
     "end_time": "2020-07-18T15:07:13.834836Z",
     "start_time": "2020-07-18T15:07:13.832538Z"
    },
    "execution": {
     "iopub.execute_input": "2020-07-18T15:26:08.870126Z",
     "iopub.status.busy": "2020-07-18T15:26:08.869428Z",
     "iopub.status.idle": "2020-07-18T15:26:08.871605Z",
     "shell.execute_reply": "2020-07-18T15:26:08.872027Z"
    },
    "papermill": {
     "duration": 0.012682,
     "end_time": "2020-07-18T15:26:08.872233",
     "exception": false,
     "start_time": "2020-07-18T15:26:08.859551",
     "status": "completed"
    },
    "tags": []
   },
   "outputs": [],
   "source": [
    "# import pyodbc\n",
    "# print(\"About to insert Hagi:\")\n",
    "# #Add your own SQL Server IP address, PORT, UID, PWD and Database\n",
    "# conn = pyodbc.connect(\n",
    "#     'DRIVER={FreeTDS};SERVER=**;PORT=**;DATABASE=**;UID=**;PWD=**', autocommit=True)\n",
    "# cur = conn.cursor()\n",
    "# #This is just an example\n",
    "# cur.execute(\n",
    "#     f\"INSERT INTO [FootballPLayers] ([Name],[Age],[Job],[Country],[Married],[YearsEmployed]) VALUES ('Gheorghe Hagi','55','Manager','Romania','Y','6')\")\n",
    "# conn.commit()\n",
    "# print('Should have inserted Hagi')\n",
    "# cur.close()\n",
    "# conn.close()"
   ]
  },
  {
   "cell_type": "markdown",
   "metadata": {
    "papermill": {
     "duration": 0.007184,
     "end_time": "2020-07-18T15:26:08.887131",
     "exception": false,
     "start_time": "2020-07-18T15:26:08.879947",
     "status": "completed"
    },
    "tags": []
   },
   "source": [
    "## Create or append to table"
   ]
  },
  {
   "cell_type": "code",
   "execution_count": 6,
   "metadata": {
    "ExecuteTime": {
     "end_time": "2020-07-18T14:06:04.285326Z",
     "start_time": "2020-07-18T14:06:04.196674Z"
    },
    "execution": {
     "iopub.execute_input": "2020-07-18T15:26:08.907449Z",
     "iopub.status.busy": "2020-07-18T15:26:08.906892Z",
     "iopub.status.idle": "2020-07-18T15:26:09.020018Z",
     "shell.execute_reply": "2020-07-18T15:26:09.020538Z"
    },
    "papermill": {
     "duration": 0.125815,
     "end_time": "2020-07-18T15:26:09.020752",
     "exception": false,
     "start_time": "2020-07-18T15:26:08.894937",
     "status": "completed"
    },
    "tags": []
   },
   "outputs": [],
   "source": [
    "with engine.connect() as conn:\n",
    "# pull metadata of a table\n",
    "    metadata = db.MetaData(bind=engine)\n",
    "    metadata.reflect(only=['test_table'])\n",
    "\n",
    "    test_table = metadata.tables['test_table']\n",
    "    frame = data.to_sql('iris',conn, if_exists='append');"
   ]
  },
  {
   "cell_type": "code",
   "execution_count": null,
   "metadata": {
    "papermill": {
     "duration": 0.007505,
     "end_time": "2020-07-18T15:26:09.036141",
     "exception": false,
     "start_time": "2020-07-18T15:26:09.028636",
     "status": "completed"
    },
    "tags": []
   },
   "outputs": [],
   "source": []
  }
 ],
 "metadata": {
  "hide_input": false,
  "kernelspec": {
   "display_name": "Python (raw-to-db)",
   "language": "python",
   "name": "venv-kensho-raw-to-db"
  },
  "language_info": {
   "codemirror_mode": {
    "name": "ipython",
    "version": 3
   },
   "file_extension": ".py",
   "mimetype": "text/x-python",
   "name": "python",
   "nbconvert_exporter": "python",
   "pygments_lexer": "ipython3",
   "version": "3.7.7"
  },
  "papermill": {
   "duration": 2.049748,
   "end_time": "2020-07-18T15:26:09.354933",
   "environment_variables": {},
   "exception": null,
   "input_path": "notebooks/raw_to_sql.ipynb",
   "output_path": "notebooks/output/raw_to_sql_exec_.ipynb",
   "parameters": {},
   "start_time": "2020-07-18T15:26:07.305185",
   "version": "2.1.2"
  },
  "toc": {
   "base_numbering": 1,
   "nav_menu": {},
   "number_sections": true,
   "sideBar": true,
   "skip_h1_title": false,
   "title_cell": "Table of Contents",
   "title_sidebar": "Contents",
   "toc_cell": false,
   "toc_position": {},
   "toc_section_display": true,
   "toc_window_display": false
  },
  "varInspector": {
   "cols": {
    "lenName": 16,
    "lenType": 16,
    "lenVar": 40
   },
   "kernels_config": {
    "python": {
     "delete_cmd_postfix": "",
     "delete_cmd_prefix": "del ",
     "library": "var_list.py",
     "varRefreshCmd": "print(var_dic_list())"
    },
    "r": {
     "delete_cmd_postfix": ") ",
     "delete_cmd_prefix": "rm(",
     "library": "var_list.r",
     "varRefreshCmd": "cat(var_dic_list()) "
    }
   },
   "types_to_exclude": [
    "module",
    "function",
    "builtin_function_or_method",
    "instance",
    "_Feature"
   ],
   "window_display": false
  }
 },
 "nbformat": 4,
 "nbformat_minor": 4
}