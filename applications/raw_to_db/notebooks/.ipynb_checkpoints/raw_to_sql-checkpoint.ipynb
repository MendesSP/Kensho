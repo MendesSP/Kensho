{
 "cells": [
  {
   "cell_type": "markdown",
   "metadata": {},
   "source": [
    "# Description\n",
    "\n",
    "Create the ETL process to transfer data from the raw format to a working relational database\n",
    "\n",
    "sudo service docker start\n",
    "\n",
    "The database used here is a MYSQL database initialized using DOCKER.\n",
    "\n",
    "To create and initialize the database:\n",
    "- docker pull mysql:latest\n",
    "- docker run --name=mysql_test --env=\"MYSQL_ROOT_PASSWORD=test\" -p 3306:3306 -d mysql:latest\n",
    "\n",
    "To run the database:\n",
    "- docker exec -it mysql_test mysql -uroot -p\n",
    "\n",
    "Inside the database:\n",
    "- CREATE DATABASE test_db;\n",
    "- CREATE USER 'newuser'@'%' IDENTIFIED BY 'newpassword';\n",
    "- GRANT ALL PRIVILEGES ON test_db.* to 'newuser'@'%';\n",
    "\n",
    "Reference\n",
    "https://medium.com/swlh/how-to-connect-to-mysql-docker-from-python-application-on-macos-mojave-32c7834e5afa\n",
    "\n",
    "Run from a docker image\n",
    "- to build: docker build . -t raw_to_db\n",
    "- to run: docker run -it -e EXECUTION_ID=444444 -e DB_HOST=docker.for.mac.host.internal raw_to_db -p 3306:3306\n",
    "\n",
    "obs: Change the DB_HOST env variable when not in MAC\n",
    "\n",
    "Another way to run the docker builder is using docker-compose\n",
    "\n",
    "- define the docker-compose.yml with the services. In the services, the port biding and the enviroment variables are defined\n",
    "- then run: docker-compose up --build\n"
   ]
  },
  {
   "cell_type": "markdown",
   "metadata": {},
   "source": [
    "# Import libraries and define functions and paths"
   ]
  },
  {
   "cell_type": "markdown",
   "metadata": {},
   "source": [
    "## libraries"
   ]
  },
  {
   "cell_type": "code",
   "execution_count": 1,
   "metadata": {
    "ExecuteTime": {
     "end_time": "2020-07-18T20:32:24.989463Z",
     "start_time": "2020-07-18T20:32:24.629024Z"
    }
   },
   "outputs": [],
   "source": [
    "import pandas as pd\n",
    "import datetime\n",
    "import os"
   ]
  },
  {
   "cell_type": "markdown",
   "metadata": {},
   "source": [
    "## functions"
   ]
  },
  {
   "cell_type": "code",
   "execution_count": null,
   "metadata": {
    "ExecuteTime": {
     "end_time": "2020-07-18T15:22:34.117145Z",
     "start_time": "2020-07-18T15:22:34.114162Z"
    }
   },
   "outputs": [],
   "source": []
  },
  {
   "cell_type": "markdown",
   "metadata": {},
   "source": [
    "## Paths"
   ]
  },
  {
   "cell_type": "code",
   "execution_count": 2,
   "metadata": {
    "ExecuteTime": {
     "end_time": "2020-07-18T20:32:24.993777Z",
     "start_time": "2020-07-18T20:32:24.991793Z"
    }
   },
   "outputs": [],
   "source": [
    "path_raw_data_folder = '../data/raw/'"
   ]
  },
  {
   "cell_type": "markdown",
   "metadata": {},
   "source": [
    "# Read Raw data"
   ]
  },
  {
   "cell_type": "code",
   "execution_count": 3,
   "metadata": {
    "ExecuteTime": {
     "end_time": "2020-07-18T20:32:25.015853Z",
     "start_time": "2020-07-18T20:32:24.995628Z"
    }
   },
   "outputs": [
    {
     "data": {
      "text/html": [
       "<div>\n",
       "<style scoped>\n",
       "    .dataframe tbody tr th:only-of-type {\n",
       "        vertical-align: middle;\n",
       "    }\n",
       "\n",
       "    .dataframe tbody tr th {\n",
       "        vertical-align: top;\n",
       "    }\n",
       "\n",
       "    .dataframe thead th {\n",
       "        text-align: right;\n",
       "    }\n",
       "</style>\n",
       "<table border=\"1\" class=\"dataframe\">\n",
       "  <thead>\n",
       "    <tr style=\"text-align: right;\">\n",
       "      <th></th>\n",
       "      <th>sepal_length</th>\n",
       "      <th>sepal_width</th>\n",
       "      <th>petal_length</th>\n",
       "      <th>petal_width</th>\n",
       "      <th>species</th>\n",
       "      <th>timestamp</th>\n",
       "    </tr>\n",
       "  </thead>\n",
       "  <tbody>\n",
       "    <tr>\n",
       "      <th>0</th>\n",
       "      <td>5.1</td>\n",
       "      <td>3.5</td>\n",
       "      <td>1.4</td>\n",
       "      <td>0.2</td>\n",
       "      <td>setosa</td>\n",
       "      <td>2020-07-18 16:32:24.999793</td>\n",
       "    </tr>\n",
       "    <tr>\n",
       "      <th>1</th>\n",
       "      <td>4.9</td>\n",
       "      <td>3.0</td>\n",
       "      <td>1.4</td>\n",
       "      <td>0.2</td>\n",
       "      <td>setosa</td>\n",
       "      <td>2020-07-18 16:32:24.999793</td>\n",
       "    </tr>\n",
       "    <tr>\n",
       "      <th>2</th>\n",
       "      <td>4.7</td>\n",
       "      <td>3.2</td>\n",
       "      <td>1.3</td>\n",
       "      <td>0.2</td>\n",
       "      <td>setosa</td>\n",
       "      <td>2020-07-18 16:32:24.999793</td>\n",
       "    </tr>\n",
       "    <tr>\n",
       "      <th>3</th>\n",
       "      <td>4.6</td>\n",
       "      <td>3.1</td>\n",
       "      <td>1.5</td>\n",
       "      <td>0.2</td>\n",
       "      <td>setosa</td>\n",
       "      <td>2020-07-18 16:32:24.999793</td>\n",
       "    </tr>\n",
       "    <tr>\n",
       "      <th>4</th>\n",
       "      <td>5.0</td>\n",
       "      <td>3.6</td>\n",
       "      <td>1.4</td>\n",
       "      <td>0.2</td>\n",
       "      <td>setosa</td>\n",
       "      <td>2020-07-18 16:32:24.999793</td>\n",
       "    </tr>\n",
       "  </tbody>\n",
       "</table>\n",
       "</div>"
      ],
      "text/plain": [
       "   sepal_length  sepal_width  petal_length  petal_width species  \\\n",
       "0           5.1          3.5           1.4          0.2  setosa   \n",
       "1           4.9          3.0           1.4          0.2  setosa   \n",
       "2           4.7          3.2           1.3          0.2  setosa   \n",
       "3           4.6          3.1           1.5          0.2  setosa   \n",
       "4           5.0          3.6           1.4          0.2  setosa   \n",
       "\n",
       "                   timestamp  \n",
       "0 2020-07-18 16:32:24.999793  \n",
       "1 2020-07-18 16:32:24.999793  \n",
       "2 2020-07-18 16:32:24.999793  \n",
       "3 2020-07-18 16:32:24.999793  \n",
       "4 2020-07-18 16:32:24.999793  "
      ]
     },
     "execution_count": 3,
     "metadata": {},
     "output_type": "execute_result"
    }
   ],
   "source": [
    "data = pd.read_csv(path_raw_data_folder+'iris.csv')\n",
    "data['timestamp'] = datetime.datetime.now()\n",
    "data.head()"
   ]
  },
  {
   "cell_type": "markdown",
   "metadata": {},
   "source": [
    "# Connect SQL DB and transfer data"
   ]
  },
  {
   "cell_type": "markdown",
   "metadata": {},
   "source": [
    "## Define connection parameters"
   ]
  },
  {
   "cell_type": "code",
   "execution_count": 4,
   "metadata": {
    "ExecuteTime": {
     "end_time": "2020-07-18T20:32:25.020059Z",
     "start_time": "2020-07-18T20:32:25.017533Z"
    }
   },
   "outputs": [],
   "source": [
    "try:\n",
    "    os.environ[\"DB_HOST\"]\n",
    "except:\n",
    "    os.environ[\"DB_HOST\"] = \"localhost\""
   ]
  },
  {
   "cell_type": "code",
   "execution_count": 9,
   "metadata": {
    "ExecuteTime": {
     "end_time": "2020-07-18T20:40:38.166493Z",
     "start_time": "2020-07-18T20:40:38.163718Z"
    }
   },
   "outputs": [
    {
     "name": "stdout",
     "output_type": "stream",
     "text": [
      "localhost\n"
     ]
    }
   ],
   "source": [
    "print(os.environ['DB_HOST'])"
   ]
  },
  {
   "cell_type": "code",
   "execution_count": 5,
   "metadata": {
    "ExecuteTime": {
     "end_time": "2020-07-18T20:32:25.143704Z",
     "start_time": "2020-07-18T20:32:25.021839Z"
    }
   },
   "outputs": [],
   "source": [
    "import sqlalchemy as db\n",
    "\n",
    "# specify database configurations\n",
    "config = {\n",
    "    'host': os.environ['DB_HOST'],\n",
    "    'port': 3306,\n",
    "    'user': 'mendes',\n",
    "    'password': 'test',\n",
    "    'database': 'test_db'\n",
    "}\n",
    "db_user = config.get('user')\n",
    "db_pwd = config.get('password')\n",
    "db_host = config.get('host')\n",
    "db_port = config.get('port')\n",
    "db_name = config.get('database')\n",
    "# specify connection string\n",
    "connection_str = f'mysql+pymysql://{db_user}:{db_pwd}@{db_host}:{db_port}/{db_name}'\n",
    "# connect to database\n",
    "engine = db.create_engine(connection_str)"
   ]
  },
  {
   "cell_type": "code",
   "execution_count": 6,
   "metadata": {
    "ExecuteTime": {
     "end_time": "2020-07-18T20:32:25.151149Z",
     "start_time": "2020-07-18T20:32:25.147030Z"
    }
   },
   "outputs": [
    {
     "name": "stdout",
     "output_type": "stream",
     "text": [
      "localhost\n"
     ]
    }
   ],
   "source": [
    "print(os.environ['DB_HOST'])"
   ]
  },
  {
   "cell_type": "markdown",
   "metadata": {},
   "source": [
    "## Create or append to table"
   ]
  },
  {
   "cell_type": "code",
   "execution_count": 7,
   "metadata": {
    "ExecuteTime": {
     "end_time": "2020-07-18T20:32:25.240554Z",
     "start_time": "2020-07-18T20:32:25.154045Z"
    }
   },
   "outputs": [
    {
     "name": "stdout",
     "output_type": "stream",
     "text": [
      "worked on run 3\n"
     ]
    }
   ],
   "source": [
    "with engine.connect() as conn:\n",
    "# pull metadata of a table\n",
    "    frame = data.to_sql('iris',conn, if_exists='append');\n",
    "    \n",
    "print('worked on run 3')"
   ]
  },
  {
   "cell_type": "code",
   "execution_count": 8,
   "metadata": {
    "ExecuteTime": {
     "end_time": "2020-07-18T20:32:25.247437Z",
     "start_time": "2020-07-18T20:32:25.243307Z"
    }
   },
   "outputs": [
    {
     "data": {
      "text/plain": [
       "{'host': 'localhost',\n",
       " 'port': 3306,\n",
       " 'user': 'mendes',\n",
       " 'password': 'test',\n",
       " 'database': 'test_db'}"
      ]
     },
     "execution_count": 8,
     "metadata": {},
     "output_type": "execute_result"
    }
   ],
   "source": [
    "config"
   ]
  },
  {
   "cell_type": "code",
   "execution_count": null,
   "metadata": {},
   "outputs": [],
   "source": []
  }
 ],
 "metadata": {
  "hide_input": false,
  "kernelspec": {
   "display_name": "Python (raw-to-db)",
   "language": "python",
   "name": "venv-kensho-raw-to-db"
  },
  "language_info": {
   "codemirror_mode": {
    "name": "ipython",
    "version": 3
   },
   "file_extension": ".py",
   "mimetype": "text/x-python",
   "name": "python",
   "nbconvert_exporter": "python",
   "pygments_lexer": "ipython3",
   "version": "3.7.7"
  },
  "toc": {
   "base_numbering": 1,
   "nav_menu": {},
   "number_sections": true,
   "sideBar": true,
   "skip_h1_title": false,
   "title_cell": "Table of Contents",
   "title_sidebar": "Contents",
   "toc_cell": false,
   "toc_position": {},
   "toc_section_display": true,
   "toc_window_display": false
  },
  "varInspector": {
   "cols": {
    "lenName": 16,
    "lenType": 16,
    "lenVar": 40
   },
   "kernels_config": {
    "python": {
     "delete_cmd_postfix": "",
     "delete_cmd_prefix": "del ",
     "library": "var_list.py",
     "varRefreshCmd": "print(var_dic_list())"
    },
    "r": {
     "delete_cmd_postfix": ") ",
     "delete_cmd_prefix": "rm(",
     "library": "var_list.r",
     "varRefreshCmd": "cat(var_dic_list()) "
    }
   },
   "types_to_exclude": [
    "module",
    "function",
    "builtin_function_or_method",
    "instance",
    "_Feature"
   ],
   "window_display": false
  }
 },
 "nbformat": 4,
 "nbformat_minor": 4
}
