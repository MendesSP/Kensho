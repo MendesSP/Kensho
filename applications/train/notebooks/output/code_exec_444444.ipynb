{
 "cells": [
  {
   "cell_type": "markdown",
   "metadata": {
    "papermill": {
     "duration": 0.014881,
     "end_time": "2020-07-18T22:29:30.143130",
     "exception": false,
     "start_time": "2020-07-18T22:29:30.128249",
     "status": "completed"
    },
    "tags": []
   },
   "source": [
    "# Description\n",
    "\n",
    "- Train a model to make predictions\n",
    "\n",
    "to test the notebook\n",
    "- papermill notebooks/train.ipynb notebooks/output/code_exec.ipynb --log-output"
   ]
  },
  {
   "cell_type": "markdown",
   "metadata": {
    "papermill": {
     "duration": 0.012767,
     "end_time": "2020-07-18T22:29:30.167813",
     "exception": false,
     "start_time": "2020-07-18T22:29:30.155046",
     "status": "completed"
    },
    "tags": []
   },
   "source": [
    "# Import libraries and define functions and paths"
   ]
  },
  {
   "cell_type": "markdown",
   "metadata": {
    "papermill": {
     "duration": 0.013109,
     "end_time": "2020-07-18T22:29:30.193492",
     "exception": false,
     "start_time": "2020-07-18T22:29:30.180383",
     "status": "completed"
    },
    "tags": []
   },
   "source": [
    "## libraries"
   ]
  },
  {
   "cell_type": "code",
   "execution_count": 1,
   "metadata": {
    "ExecuteTime": {
     "end_time": "2020-07-18T22:26:13.674093Z",
     "start_time": "2020-07-18T22:26:03.463239Z"
    },
    "execution": {
     "iopub.execute_input": "2020-07-18T22:29:30.235548Z",
     "iopub.status.busy": "2020-07-18T22:29:30.234987Z",
     "iopub.status.idle": "2020-07-18T22:29:31.013768Z",
     "shell.execute_reply": "2020-07-18T22:29:31.014309Z"
    },
    "papermill": {
     "duration": 0.804387,
     "end_time": "2020-07-18T22:29:31.014537",
     "exception": false,
     "start_time": "2020-07-18T22:29:30.210150",
     "status": "completed"
    },
    "tags": []
   },
   "outputs": [],
   "source": [
    "import pandas as pd\n",
    "import datetime\n",
    "import os\n",
    "import sqlalchemy as db\n",
    "from sklearn.preprocessing import LabelEncoder\n",
    "import pickle\n",
    "from sklearn.ensemble import RandomForestClassifier\n",
    "from sklearn.metrics import f1_score, precision_recall_fscore_support, classification_report"
   ]
  },
  {
   "cell_type": "markdown",
   "metadata": {
    "papermill": {
     "duration": 0.012346,
     "end_time": "2020-07-18T22:29:31.039945",
     "exception": false,
     "start_time": "2020-07-18T22:29:31.027599",
     "status": "completed"
    },
    "tags": []
   },
   "source": [
    "## functions"
   ]
  },
  {
   "cell_type": "code",
   "execution_count": 2,
   "metadata": {
    "ExecuteTime": {
     "end_time": "2020-07-18T22:26:13.681595Z",
     "start_time": "2020-07-18T22:26:13.676092Z"
    },
    "code_folding": [
     0
    ],
    "execution": {
     "iopub.execute_input": "2020-07-18T22:29:31.069564Z",
     "iopub.status.busy": "2020-07-18T22:29:31.068885Z",
     "iopub.status.idle": "2020-07-18T22:29:31.077431Z",
     "shell.execute_reply": "2020-07-18T22:29:31.077855Z"
    },
    "papermill": {
     "duration": 0.025427,
     "end_time": "2020-07-18T22:29:31.078052",
     "exception": false,
     "start_time": "2020-07-18T22:29:31.052625",
     "status": "completed"
    },
    "tags": []
   },
   "outputs": [],
   "source": [
    "def get_connection():\n",
    "    try:\n",
    "        os.environ[\"DB_HOST\"]\n",
    "    except:\n",
    "        os.environ[\"DB_HOST\"] = \"localhost\"\n",
    "        \n",
    "    print(os.environ[\"DB_HOST\"])\n",
    "\n",
    "\n",
    "\n",
    "    # specify database configurations\n",
    "    config = {\n",
    "        'host': os.environ['DB_HOST'],\n",
    "        'port': 3306,\n",
    "        'user': 'mendes',\n",
    "        'password': 'test',\n",
    "        'database': 'test_db'\n",
    "    }\n",
    "    db_user = config.get('user')\n",
    "    db_pwd = config.get('password')\n",
    "    db_host = config.get('host')\n",
    "    db_port = config.get('port')\n",
    "    db_name = config.get('database')\n",
    "    # specify connection string\n",
    "    connection_str = f'mysql+pymysql://{db_user}:{db_pwd}@{db_host}:{db_port}/{db_name}'\n",
    "    # connect to database\n",
    "    engine = db.create_engine(connection_str)\n",
    "    return engine"
   ]
  },
  {
   "cell_type": "markdown",
   "metadata": {
    "papermill": {
     "duration": 0.013485,
     "end_time": "2020-07-18T22:29:31.105912",
     "exception": false,
     "start_time": "2020-07-18T22:29:31.092427",
     "status": "completed"
    },
    "tags": []
   },
   "source": [
    "## Paths"
   ]
  },
  {
   "cell_type": "code",
   "execution_count": null,
   "metadata": {
    "ExecuteTime": {
     "end_time": "2020-07-18T15:35:00.147397Z",
     "start_time": "2020-07-18T15:35:00.145003Z"
    },
    "papermill": {
     "duration": 0.01325,
     "end_time": "2020-07-18T22:29:31.131677",
     "exception": false,
     "start_time": "2020-07-18T22:29:31.118427",
     "status": "completed"
    },
    "tags": []
   },
   "outputs": [],
   "source": []
  },
  {
   "cell_type": "markdown",
   "metadata": {
    "papermill": {
     "duration": 0.013426,
     "end_time": "2020-07-18T22:29:31.157897",
     "exception": false,
     "start_time": "2020-07-18T22:29:31.144471",
     "status": "completed"
    },
    "tags": []
   },
   "source": [
    "# Connect SQL DB and transfer data"
   ]
  },
  {
   "cell_type": "code",
   "execution_count": 3,
   "metadata": {
    "ExecuteTime": {
     "end_time": "2020-07-18T22:26:13.712623Z",
     "start_time": "2020-07-18T22:26:13.683893Z"
    },
    "execution": {
     "iopub.execute_input": "2020-07-18T22:29:31.188254Z",
     "iopub.status.busy": "2020-07-18T22:29:31.187698Z",
     "iopub.status.idle": "2020-07-18T22:29:31.213557Z",
     "shell.execute_reply": "2020-07-18T22:29:31.213986Z"
    },
    "papermill": {
     "duration": 0.042284,
     "end_time": "2020-07-18T22:29:31.214135",
     "exception": false,
     "start_time": "2020-07-18T22:29:31.171851",
     "status": "completed"
    },
    "tags": []
   },
   "outputs": [
    {
     "name": "stdout",
     "output_type": "stream",
     "text": [
      "docker.for.mac.host.internal\n"
     ]
    }
   ],
   "source": [
    "engine = get_connection()"
   ]
  },
  {
   "cell_type": "markdown",
   "metadata": {
    "papermill": {
     "duration": 0.013236,
     "end_time": "2020-07-18T22:29:31.240752",
     "exception": false,
     "start_time": "2020-07-18T22:29:31.227516",
     "status": "completed"
    },
    "tags": []
   },
   "source": [
    "## Process dataset"
   ]
  },
  {
   "cell_type": "code",
   "execution_count": 4,
   "metadata": {
    "ExecuteTime": {
     "end_time": "2020-07-18T22:26:13.792454Z",
     "start_time": "2020-07-18T22:26:13.715343Z"
    },
    "execution": {
     "iopub.execute_input": "2020-07-18T22:29:31.271866Z",
     "iopub.status.busy": "2020-07-18T22:29:31.271323Z",
     "iopub.status.idle": "2020-07-18T22:29:31.364101Z",
     "shell.execute_reply": "2020-07-18T22:29:31.363525Z"
    },
    "papermill": {
     "duration": 0.110034,
     "end_time": "2020-07-18T22:29:31.364253",
     "exception": false,
     "start_time": "2020-07-18T22:29:31.254219",
     "status": "completed"
    },
    "tags": []
   },
   "outputs": [],
   "source": [
    "with engine.connect() as conn:\n",
    "    sql = f'SELECT * FROM train_preprocessed;'\n",
    "    train = pd.read_sql(sql,conn)\n",
    "    \n",
    "    sql = f'SELECT * FROM test_preprocessed;'\n",
    "    test = pd.read_sql(sql,conn)"
   ]
  },
  {
   "cell_type": "code",
   "execution_count": 5,
   "metadata": {
    "ExecuteTime": {
     "end_time": "2020-07-18T22:26:13.799258Z",
     "start_time": "2020-07-18T22:26:13.794373Z"
    },
    "execution": {
     "iopub.execute_input": "2020-07-18T22:29:31.394106Z",
     "iopub.status.busy": "2020-07-18T22:29:31.393408Z",
     "iopub.status.idle": "2020-07-18T22:29:31.400681Z",
     "shell.execute_reply": "2020-07-18T22:29:31.401178Z"
    },
    "papermill": {
     "duration": 0.024063,
     "end_time": "2020-07-18T22:29:31.401370",
     "exception": false,
     "start_time": "2020-07-18T22:29:31.377307",
     "status": "completed"
    },
    "tags": []
   },
   "outputs": [],
   "source": [
    "X_train,y_train = train.drop(['label'],axis=1), train['label']\n",
    "X_test,y_test = test.drop(['label'],axis=1), test['label']"
   ]
  },
  {
   "cell_type": "code",
   "execution_count": 6,
   "metadata": {
    "ExecuteTime": {
     "end_time": "2020-07-18T22:26:13.970118Z",
     "start_time": "2020-07-18T22:26:13.801093Z"
    },
    "execution": {
     "iopub.execute_input": "2020-07-18T22:29:31.433395Z",
     "iopub.status.busy": "2020-07-18T22:29:31.432798Z",
     "iopub.status.idle": "2020-07-18T22:29:31.604615Z",
     "shell.execute_reply": "2020-07-18T22:29:31.605090Z"
    },
    "papermill": {
     "duration": 0.188937,
     "end_time": "2020-07-18T22:29:31.605311",
     "exception": false,
     "start_time": "2020-07-18T22:29:31.416374",
     "status": "completed"
    },
    "tags": []
   },
   "outputs": [
    {
     "name": "stdout",
     "output_type": "stream",
     "text": [
      "THIS IS THE:///notebooks/\n"
     ]
    }
   ],
   "source": [
    "path = os.path.abspath(os.getcwd())+'/'\n",
    "\n",
    "if 'notebooks' not in path:\n",
    "    path = path+'/notebooks/'\n",
    "    \n",
    "print('THIS IS THE:'+path)\n",
    "\n",
    "clf = RandomForestClassifier()\n",
    "clf.fit(X_train,y_train)\n",
    "clf.score(X_test,y_test)\n",
    "\n",
    "with open(path+'model.p','wb') as handle:\n",
    "    pickle.dump(clf,handle,protocol=pickle.HIGHEST_PROTOCOL) "
   ]
  },
  {
   "cell_type": "code",
   "execution_count": 7,
   "metadata": {
    "ExecuteTime": {
     "end_time": "2020-07-18T22:26:14.000973Z",
     "start_time": "2020-07-18T22:26:13.972079Z"
    },
    "execution": {
     "iopub.execute_input": "2020-07-18T22:29:31.636309Z",
     "iopub.status.busy": "2020-07-18T22:29:31.635737Z",
     "iopub.status.idle": "2020-07-18T22:29:31.667543Z",
     "shell.execute_reply": "2020-07-18T22:29:31.667988Z"
    },
    "papermill": {
     "duration": 0.048527,
     "end_time": "2020-07-18T22:29:31.668231",
     "exception": false,
     "start_time": "2020-07-18T22:29:31.619704",
     "status": "completed"
    },
    "tags": []
   },
   "outputs": [
    {
     "data": {
      "text/plain": [
       "1.0"
      ]
     },
     "execution_count": 7,
     "metadata": {},
     "output_type": "execute_result"
    }
   ],
   "source": [
    "f1_score(y_test,clf.predict(X_test),average='weighted')"
   ]
  },
  {
   "cell_type": "code",
   "execution_count": 8,
   "metadata": {
    "ExecuteTime": {
     "end_time": "2020-07-18T22:26:14.140475Z",
     "start_time": "2020-07-18T22:26:14.005110Z"
    },
    "execution": {
     "iopub.execute_input": "2020-07-18T22:29:31.699841Z",
     "iopub.status.busy": "2020-07-18T22:29:31.699323Z",
     "iopub.status.idle": "2020-07-18T22:29:31.827808Z",
     "shell.execute_reply": "2020-07-18T22:29:31.828397Z"
    },
    "papermill": {
     "duration": 0.146204,
     "end_time": "2020-07-18T22:29:31.828600",
     "exception": false,
     "start_time": "2020-07-18T22:29:31.682396",
     "status": "completed"
    },
    "tags": []
   },
   "outputs": [
    {
     "name": "stdout",
     "output_type": "stream",
     "text": [
      "              precision    recall  f1-score   support\n",
      "\n",
      "           0       1.00      1.00      1.00       450\n",
      "           1       1.00      1.00      1.00       450\n",
      "           2       1.00      1.00      1.00       450\n",
      "\n",
      "    accuracy                           1.00      1350\n",
      "   macro avg       1.00      1.00      1.00      1350\n",
      "weighted avg       1.00      1.00      1.00      1350\n",
      "\n"
     ]
    }
   ],
   "source": [
    "print(classification_report(y_test,clf.predict(X_test)))\n",
    "df=pd.DataFrame(precision_recall_fscore_support(y_test,clf.predict(X_test)))\n",
    "with engine.connect() as conn:\n",
    "    df.to_sql('model_stats',conn,if_exists='replace')"
   ]
  },
  {
   "cell_type": "code",
   "execution_count": null,
   "metadata": {
    "papermill": {
     "duration": 0.014706,
     "end_time": "2020-07-18T22:29:31.858331",
     "exception": false,
     "start_time": "2020-07-18T22:29:31.843625",
     "status": "completed"
    },
    "tags": []
   },
   "outputs": [],
   "source": []
  }
 ],
 "metadata": {
  "hide_input": false,
  "kernelspec": {
   "display_name": "Python (train)\n",
   "language": "python",
   "name": "venv-kensho-train"
  },
  "language_info": {
   "codemirror_mode": {
    "name": "ipython",
    "version": 3
   },
   "file_extension": ".py",
   "mimetype": "text/x-python",
   "name": "python",
   "nbconvert_exporter": "python",
   "pygments_lexer": "ipython3",
   "version": "3.7.8"
  },
  "papermill": {
   "duration": 2.921312,
   "end_time": "2020-07-18T22:29:32.183740",
   "environment_variables": {},
   "exception": null,
   "input_path": "notebooks/train.ipynb",
   "output_path": "notebooks/output/code_exec_444444.ipynb",
   "parameters": {},
   "start_time": "2020-07-18T22:29:29.262428",
   "version": "2.1.2"
  },
  "toc": {
   "base_numbering": 1,
   "nav_menu": {},
   "number_sections": true,
   "sideBar": true,
   "skip_h1_title": false,
   "title_cell": "Table of Contents",
   "title_sidebar": "Contents",
   "toc_cell": false,
   "toc_position": {},
   "toc_section_display": true,
   "toc_window_display": false
  },
  "varInspector": {
   "cols": {
    "lenName": 16,
    "lenType": 16,
    "lenVar": 40
   },
   "kernels_config": {
    "python": {
     "delete_cmd_postfix": "",
     "delete_cmd_prefix": "del ",
     "library": "var_list.py",
     "varRefreshCmd": "print(var_dic_list())"
    },
    "r": {
     "delete_cmd_postfix": ") ",
     "delete_cmd_prefix": "rm(",
     "library": "var_list.r",
     "varRefreshCmd": "cat(var_dic_list()) "
    }
   },
   "types_to_exclude": [
    "module",
    "function",
    "builtin_function_or_method",
    "instance",
    "_Feature"
   ],
   "window_display": false
  }
 },
 "nbformat": 4,
 "nbformat_minor": 4
}