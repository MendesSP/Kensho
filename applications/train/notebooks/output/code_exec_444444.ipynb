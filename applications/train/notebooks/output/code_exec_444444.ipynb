{
 "cells": [
  {
   "cell_type": "markdown",
   "metadata": {
    "papermill": {
     "duration": 0.024398,
     "end_time": "2020-07-19T02:30:19.181883",
     "exception": false,
     "start_time": "2020-07-19T02:30:19.157485",
     "status": "completed"
    },
    "tags": []
   },
   "source": [
    "# Description\n",
    "\n",
    "- Train a model to make predictions\n",
    "\n",
    "to test the notebook\n",
    "- papermill notebooks/train.ipynb notebooks/output/code_exec.ipynb --log-output"
   ]
  },
  {
   "cell_type": "markdown",
   "metadata": {
    "papermill": {
     "duration": 0.022091,
     "end_time": "2020-07-19T02:30:19.227363",
     "exception": false,
     "start_time": "2020-07-19T02:30:19.205272",
     "status": "completed"
    },
    "tags": []
   },
   "source": [
    "# Import libraries and define functions and paths"
   ]
  },
  {
   "cell_type": "markdown",
   "metadata": {
    "papermill": {
     "duration": 0.023973,
     "end_time": "2020-07-19T02:30:19.276734",
     "exception": false,
     "start_time": "2020-07-19T02:30:19.252761",
     "status": "completed"
    },
    "tags": []
   },
   "source": [
    "## libraries"
   ]
  },
  {
   "cell_type": "code",
   "execution_count": 1,
   "metadata": {
    "ExecuteTime": {
     "end_time": "2020-07-18T22:26:13.674093Z",
     "start_time": "2020-07-18T22:26:03.463239Z"
    },
    "execution": {
     "iopub.execute_input": "2020-07-19T02:30:19.333120Z",
     "iopub.status.busy": "2020-07-19T02:30:19.332001Z",
     "iopub.status.idle": "2020-07-19T02:30:20.566475Z",
     "shell.execute_reply": "2020-07-19T02:30:20.569049Z"
    },
    "papermill": {
     "duration": 1.268068,
     "end_time": "2020-07-19T02:30:20.569714",
     "exception": false,
     "start_time": "2020-07-19T02:30:19.301646",
     "status": "completed"
    },
    "tags": []
   },
   "outputs": [],
   "source": [
    "import pandas as pd\n",
    "import datetime\n",
    "import os\n",
    "import sqlalchemy as db\n",
    "from sklearn.preprocessing import LabelEncoder\n",
    "import pickle\n",
    "from sklearn.ensemble import RandomForestClassifier\n",
    "from sklearn.metrics import f1_score, precision_recall_fscore_support, classification_report"
   ]
  },
  {
   "cell_type": "markdown",
   "metadata": {
    "papermill": {
     "duration": 0.020546,
     "end_time": "2020-07-19T02:30:20.611798",
     "exception": false,
     "start_time": "2020-07-19T02:30:20.591252",
     "status": "completed"
    },
    "tags": []
   },
   "source": [
    "## functions"
   ]
  },
  {
   "cell_type": "code",
   "execution_count": 2,
   "metadata": {
    "ExecuteTime": {
     "end_time": "2020-07-18T22:26:13.681595Z",
     "start_time": "2020-07-18T22:26:13.676092Z"
    },
    "code_folding": [
     0
    ],
    "execution": {
     "iopub.execute_input": "2020-07-19T02:30:20.674465Z",
     "iopub.status.busy": "2020-07-19T02:30:20.667709Z",
     "iopub.status.idle": "2020-07-19T02:30:20.679521Z",
     "shell.execute_reply": "2020-07-19T02:30:20.680787Z"
    },
    "papermill": {
     "duration": 0.048194,
     "end_time": "2020-07-19T02:30:20.681092",
     "exception": false,
     "start_time": "2020-07-19T02:30:20.632898",
     "status": "completed"
    },
    "tags": []
   },
   "outputs": [],
   "source": [
    "def get_connection():\n",
    "    try:\n",
    "        os.environ[\"DB_HOST\"]\n",
    "    except:\n",
    "        os.environ[\"DB_HOST\"] = \"localhost\"\n",
    "        \n",
    "    print(os.environ[\"DB_HOST\"])\n",
    "\n",
    "\n",
    "\n",
    "    # specify database configurations\n",
    "    config = {\n",
    "        'host': os.environ['DB_HOST'],\n",
    "        'port': 3306,\n",
    "        'user': 'mendes',\n",
    "        'password': 'test',\n",
    "        'database': 'test_db'\n",
    "    }\n",
    "    db_user = config.get('user')\n",
    "    db_pwd = config.get('password')\n",
    "    db_host = config.get('host')\n",
    "    db_port = config.get('port')\n",
    "    db_name = config.get('database')\n",
    "    # specify connection string\n",
    "    connection_str = f'mysql+pymysql://{db_user}:{db_pwd}@{db_host}:{db_port}/{db_name}'\n",
    "    # connect to database\n",
    "    engine = db.create_engine(connection_str)\n",
    "    return engine"
   ]
  },
  {
   "cell_type": "markdown",
   "metadata": {
    "papermill": {
     "duration": 0.019824,
     "end_time": "2020-07-19T02:30:20.725340",
     "exception": false,
     "start_time": "2020-07-19T02:30:20.705516",
     "status": "completed"
    },
    "tags": []
   },
   "source": [
    "## Paths"
   ]
  },
  {
   "cell_type": "code",
   "execution_count": null,
   "metadata": {
    "ExecuteTime": {
     "end_time": "2020-07-18T15:35:00.147397Z",
     "start_time": "2020-07-18T15:35:00.145003Z"
    },
    "papermill": {
     "duration": 0.02689,
     "end_time": "2020-07-19T02:30:20.775042",
     "exception": false,
     "start_time": "2020-07-19T02:30:20.748152",
     "status": "completed"
    },
    "tags": []
   },
   "outputs": [],
   "source": []
  },
  {
   "cell_type": "markdown",
   "metadata": {
    "papermill": {
     "duration": 0.021726,
     "end_time": "2020-07-19T02:30:20.826050",
     "exception": false,
     "start_time": "2020-07-19T02:30:20.804324",
     "status": "completed"
    },
    "tags": []
   },
   "source": [
    "# Connect SQL DB and transfer data"
   ]
  },
  {
   "cell_type": "code",
   "execution_count": 3,
   "metadata": {
    "ExecuteTime": {
     "end_time": "2020-07-18T22:26:13.712623Z",
     "start_time": "2020-07-18T22:26:13.683893Z"
    },
    "execution": {
     "iopub.execute_input": "2020-07-19T02:30:20.890438Z",
     "iopub.status.busy": "2020-07-19T02:30:20.889168Z",
     "iopub.status.idle": "2020-07-19T02:30:20.927756Z",
     "shell.execute_reply": "2020-07-19T02:30:20.926932Z"
    },
    "papermill": {
     "duration": 0.081278,
     "end_time": "2020-07-19T02:30:20.927968",
     "exception": false,
     "start_time": "2020-07-19T02:30:20.846690",
     "status": "completed"
    },
    "tags": []
   },
   "outputs": [
    {
     "name": "stdout",
     "output_type": "stream",
     "text": [
      "docker.for.mac.host.internal\n"
     ]
    }
   ],
   "source": [
    "engine = get_connection()"
   ]
  },
  {
   "cell_type": "markdown",
   "metadata": {
    "papermill": {
     "duration": 0.0275,
     "end_time": "2020-07-19T02:30:20.979105",
     "exception": false,
     "start_time": "2020-07-19T02:30:20.951605",
     "status": "completed"
    },
    "tags": []
   },
   "source": [
    "## Process dataset"
   ]
  },
  {
   "cell_type": "code",
   "execution_count": 4,
   "metadata": {
    "ExecuteTime": {
     "end_time": "2020-07-18T22:26:13.792454Z",
     "start_time": "2020-07-18T22:26:13.715343Z"
    },
    "execution": {
     "iopub.execute_input": "2020-07-19T02:30:21.049092Z",
     "iopub.status.busy": "2020-07-19T02:30:21.044250Z",
     "iopub.status.idle": "2020-07-19T02:30:21.208483Z",
     "shell.execute_reply": "2020-07-19T02:30:21.207628Z"
    },
    "papermill": {
     "duration": 0.201003,
     "end_time": "2020-07-19T02:30:21.208717",
     "exception": false,
     "start_time": "2020-07-19T02:30:21.007714",
     "status": "completed"
    },
    "tags": []
   },
   "outputs": [],
   "source": [
    "with engine.connect() as conn:\n",
    "    sql = f'SELECT * FROM train_preprocessed;'\n",
    "    train = pd.read_sql(sql,conn)\n",
    "    \n",
    "    sql = f'SELECT * FROM test_preprocessed;'\n",
    "    test = pd.read_sql(sql,conn)"
   ]
  },
  {
   "cell_type": "code",
   "execution_count": 5,
   "metadata": {
    "ExecuteTime": {
     "end_time": "2020-07-18T22:26:13.799258Z",
     "start_time": "2020-07-18T22:26:13.794373Z"
    },
    "execution": {
     "iopub.execute_input": "2020-07-19T02:30:21.275307Z",
     "iopub.status.busy": "2020-07-19T02:30:21.273525Z",
     "iopub.status.idle": "2020-07-19T02:30:21.276879Z",
     "shell.execute_reply": "2020-07-19T02:30:21.276126Z"
    },
    "papermill": {
     "duration": 0.044163,
     "end_time": "2020-07-19T02:30:21.277062",
     "exception": false,
     "start_time": "2020-07-19T02:30:21.232899",
     "status": "completed"
    },
    "tags": []
   },
   "outputs": [],
   "source": [
    "X_train,y_train = train.drop(['label'],axis=1), train['label']\n",
    "X_test,y_test = test.drop(['label'],axis=1), test['label']"
   ]
  },
  {
   "cell_type": "code",
   "execution_count": 6,
   "metadata": {
    "ExecuteTime": {
     "end_time": "2020-07-18T22:26:13.970118Z",
     "start_time": "2020-07-18T22:26:13.801093Z"
    },
    "execution": {
     "iopub.execute_input": "2020-07-19T02:30:21.355285Z",
     "iopub.status.busy": "2020-07-19T02:30:21.352761Z",
     "iopub.status.idle": "2020-07-19T02:30:21.676022Z",
     "shell.execute_reply": "2020-07-19T02:30:21.675170Z"
    },
    "papermill": {
     "duration": 0.373324,
     "end_time": "2020-07-19T02:30:21.676220",
     "exception": false,
     "start_time": "2020-07-19T02:30:21.302896",
     "status": "completed"
    },
    "tags": []
   },
   "outputs": [
    {
     "name": "stdout",
     "output_type": "stream",
     "text": [
      "THIS IS THE:///notebooks/\n"
     ]
    }
   ],
   "source": [
    "path = os.path.abspath(os.getcwd())+'/'\n",
    "\n",
    "if 'notebooks' not in path:\n",
    "    path = path+'/notebooks/'\n",
    "    \n",
    "print('THIS IS THE:'+path)\n",
    "\n",
    "clf = RandomForestClassifier()\n",
    "clf.fit(X_train,y_train)\n",
    "clf.score(X_test,y_test)\n",
    "\n",
    "with open(path+'model.p','wb') as handle:\n",
    "    pickle.dump(clf,handle,protocol=pickle.HIGHEST_PROTOCOL) "
   ]
  },
  {
   "cell_type": "code",
   "execution_count": 7,
   "metadata": {
    "ExecuteTime": {
     "end_time": "2020-07-18T22:26:14.000973Z",
     "start_time": "2020-07-18T22:26:13.972079Z"
    },
    "execution": {
     "iopub.execute_input": "2020-07-19T02:30:21.748237Z",
     "iopub.status.busy": "2020-07-19T02:30:21.745856Z",
     "iopub.status.idle": "2020-07-19T02:30:21.793178Z",
     "shell.execute_reply": "2020-07-19T02:30:21.793927Z"
    },
    "papermill": {
     "duration": 0.095409,
     "end_time": "2020-07-19T02:30:21.794158",
     "exception": false,
     "start_time": "2020-07-19T02:30:21.698749",
     "status": "completed"
    },
    "tags": []
   },
   "outputs": [
    {
     "data": {
      "text/plain": [
       "1.0"
      ]
     },
     "execution_count": 7,
     "metadata": {},
     "output_type": "execute_result"
    }
   ],
   "source": [
    "f1_score(y_test,clf.predict(X_test),average='weighted')"
   ]
  },
  {
   "cell_type": "code",
   "execution_count": 8,
   "metadata": {
    "ExecuteTime": {
     "end_time": "2020-07-18T22:26:14.140475Z",
     "start_time": "2020-07-18T22:26:14.005110Z"
    },
    "execution": {
     "iopub.execute_input": "2020-07-19T02:30:21.867650Z",
     "iopub.status.busy": "2020-07-19T02:30:21.863309Z",
     "iopub.status.idle": "2020-07-19T02:30:22.114490Z",
     "shell.execute_reply": "2020-07-19T02:30:22.115194Z"
    },
    "papermill": {
     "duration": 0.296806,
     "end_time": "2020-07-19T02:30:22.115503",
     "exception": false,
     "start_time": "2020-07-19T02:30:21.818697",
     "status": "completed"
    },
    "tags": []
   },
   "outputs": [
    {
     "name": "stdout",
     "output_type": "stream",
     "text": [
      "              precision    recall  f1-score   support\n",
      "\n",
      "           0       1.00      1.00      1.00       450\n",
      "           1       1.00      1.00      1.00       450\n",
      "           2       1.00      1.00      1.00       450\n",
      "\n",
      "    accuracy                           1.00      1350\n",
      "   macro avg       1.00      1.00      1.00      1350\n",
      "weighted avg       1.00      1.00      1.00      1350\n",
      "\n"
     ]
    }
   ],
   "source": [
    "print(classification_report(y_test,clf.predict(X_test)))\n",
    "df=pd.DataFrame(precision_recall_fscore_support(y_test,clf.predict(X_test)))\n",
    "with engine.connect() as conn:\n",
    "    df.to_sql('model_stats',conn,if_exists='replace')"
   ]
  },
  {
   "cell_type": "code",
   "execution_count": null,
   "metadata": {
    "papermill": {
     "duration": 0.03175,
     "end_time": "2020-07-19T02:30:22.174208",
     "exception": false,
     "start_time": "2020-07-19T02:30:22.142458",
     "status": "completed"
    },
    "tags": []
   },
   "outputs": [],
   "source": []
  }
 ],
 "metadata": {
  "hide_input": false,
  "kernelspec": {
   "display_name": "Python (train)\n",
   "language": "python",
   "name": "venv-kensho-train"
  },
  "language_info": {
   "codemirror_mode": {
    "name": "ipython",
    "version": 3
   },
   "file_extension": ".py",
   "mimetype": "text/x-python",
   "name": "python",
   "nbconvert_exporter": "python",
   "pygments_lexer": "ipython3",
   "version": "3.7.8"
  },
  "papermill": {
   "duration": 4.907489,
   "end_time": "2020-07-19T02:30:22.717296",
   "environment_variables": {},
   "exception": null,
   "input_path": "notebooks/train.ipynb",
   "output_path": "notebooks/output/code_exec_444444.ipynb",
   "parameters": {},
   "start_time": "2020-07-19T02:30:17.809807",
   "version": "2.1.2"
  },
  "toc": {
   "base_numbering": 1,
   "nav_menu": {},
   "number_sections": true,
   "sideBar": true,
   "skip_h1_title": false,
   "title_cell": "Table of Contents",
   "title_sidebar": "Contents",
   "toc_cell": false,
   "toc_position": {},
   "toc_section_display": true,
   "toc_window_display": false
  },
  "varInspector": {
   "cols": {
    "lenName": 16,
    "lenType": 16,
    "lenVar": 40
   },
   "kernels_config": {
    "python": {
     "delete_cmd_postfix": "",
     "delete_cmd_prefix": "del ",
     "library": "var_list.py",
     "varRefreshCmd": "print(var_dic_list())"
    },
    "r": {
     "delete_cmd_postfix": ") ",
     "delete_cmd_prefix": "rm(",
     "library": "var_list.r",
     "varRefreshCmd": "cat(var_dic_list()) "
    }
   },
   "types_to_exclude": [
    "module",
    "function",
    "builtin_function_or_method",
    "instance",
    "_Feature"
   ],
   "window_display": false
  }
 },
 "nbformat": 4,
 "nbformat_minor": 4
}