{
 "cells": [
  {
   "cell_type": "markdown",
   "metadata": {},
   "source": [
    "# Description\n",
    "\n",
    "- Train a model to make predictions\n",
    "\n",
    "to test the notebook\n",
    "- papermill notebooks/train.ipynb notebooks/output/code_exec.ipynb --log-output"
   ]
  },
  {
   "cell_type": "markdown",
   "metadata": {},
   "source": [
    "# Import libraries and define functions and paths"
   ]
  },
  {
   "cell_type": "markdown",
   "metadata": {},
   "source": [
    "## libraries"
   ]
  },
  {
   "cell_type": "code",
   "execution_count": 1,
   "metadata": {
    "ExecuteTime": {
     "end_time": "2020-07-18T22:25:16.808926Z",
     "start_time": "2020-07-18T22:25:16.078842Z"
    }
   },
   "outputs": [],
   "source": [
    "import pandas as pd\n",
    "import datetime\n",
    "import os\n",
    "import sqlalchemy as db\n",
    "from sklearn.preprocessing import LabelEncoder\n",
    "import pickle\n",
    "from sklearn.ensemble import RandomForestClassifier\n",
    "from sklearn.metrics import f1_score, precision_recall_fscore_support, classification_report"
   ]
  },
  {
   "cell_type": "markdown",
   "metadata": {},
   "source": [
    "## functions"
   ]
  },
  {
   "cell_type": "code",
   "execution_count": 2,
   "metadata": {
    "ExecuteTime": {
     "end_time": "2020-07-18T22:25:16.816581Z",
     "start_time": "2020-07-18T22:25:16.811042Z"
    },
    "code_folding": [
     0
    ]
   },
   "outputs": [],
   "source": [
    "def get_connection():\n",
    "    try:\n",
    "        os.environ[\"DB_HOST\"]\n",
    "    except:\n",
    "        os.environ[\"DB_HOST\"] = \"localhost\"\n",
    "        \n",
    "    print(os.environ[\"DB_HOST\"])\n",
    "\n",
    "\n",
    "\n",
    "    # specify database configurations\n",
    "    config = {\n",
    "        'host': os.environ['DB_HOST'],\n",
    "        'port': 3306,\n",
    "        'user': 'mendes',\n",
    "        'password': 'test',\n",
    "        'database': 'test_db'\n",
    "    }\n",
    "    db_user = config.get('user')\n",
    "    db_pwd = config.get('password')\n",
    "    db_host = config.get('host')\n",
    "    db_port = config.get('port')\n",
    "    db_name = config.get('database')\n",
    "    # specify connection string\n",
    "    connection_str = f'mysql+pymysql://{db_user}:{db_pwd}@{db_host}:{db_port}/{db_name}'\n",
    "    # connect to database\n",
    "    engine = db.create_engine(connection_str)\n",
    "    return engine"
   ]
  },
  {
   "cell_type": "markdown",
   "metadata": {},
   "source": [
    "## Paths"
   ]
  },
  {
   "cell_type": "code",
   "execution_count": null,
   "metadata": {
    "ExecuteTime": {
     "end_time": "2020-07-18T15:35:00.147397Z",
     "start_time": "2020-07-18T15:35:00.145003Z"
    }
   },
   "outputs": [],
   "source": []
  },
  {
   "cell_type": "markdown",
   "metadata": {},
   "source": [
    "# Connect SQL DB and transfer data"
   ]
  },
  {
   "cell_type": "code",
   "execution_count": 3,
   "metadata": {
    "ExecuteTime": {
     "end_time": "2020-07-18T22:25:16.842509Z",
     "start_time": "2020-07-18T22:25:16.819032Z"
    }
   },
   "outputs": [
    {
     "name": "stdout",
     "output_type": "stream",
     "text": [
      "localhost\n"
     ]
    }
   ],
   "source": [
    "engine = get_connection()"
   ]
  },
  {
   "cell_type": "markdown",
   "metadata": {},
   "source": [
    "## Process dataset"
   ]
  },
  {
   "cell_type": "code",
   "execution_count": 4,
   "metadata": {
    "ExecuteTime": {
     "end_time": "2020-07-18T22:25:16.919943Z",
     "start_time": "2020-07-18T22:25:16.844937Z"
    }
   },
   "outputs": [],
   "source": [
    "with engine.connect() as conn:\n",
    "    sql = f'SELECT * FROM train_preprocessed;'\n",
    "    train = pd.read_sql(sql,conn)\n",
    "    \n",
    "    sql = f'SELECT * FROM test_preprocessed;'\n",
    "    test = pd.read_sql(sql,conn)"
   ]
  },
  {
   "cell_type": "code",
   "execution_count": 5,
   "metadata": {
    "ExecuteTime": {
     "end_time": "2020-07-18T22:25:16.926819Z",
     "start_time": "2020-07-18T22:25:16.921540Z"
    }
   },
   "outputs": [],
   "source": [
    "X_train,y_train = train.drop(['label'],axis=1), train['label']\n",
    "X_test,y_test = test.drop(['label'],axis=1), test['label']"
   ]
  },
  {
   "cell_type": "code",
   "execution_count": 6,
   "metadata": {
    "ExecuteTime": {
     "end_time": "2020-07-18T22:25:17.095854Z",
     "start_time": "2020-07-18T22:25:16.928632Z"
    }
   },
   "outputs": [
    {
     "name": "stdout",
     "output_type": "stream",
     "text": [
      "THIS IS THE:/Users/mendes/tech_interview/Kensho/applications/train/notebooks/\n"
     ]
    }
   ],
   "source": [
    "path = os.path.abspath(os.getcwd())+'/'\n",
    "\n",
    "if 'notebooks' not in path:\n",
    "    path = path+'/notebooks/'\n",
    "    \n",
    "print('THIS IS THE:'+path)\n",
    "\n",
    "clf = RandomForestClassifier()\n",
    "clf.fit(X_train,y_train)\n",
    "clf.score(X_test,y_test)\n",
    "\n",
    "with open(path+'model.p','wb') as handle:\n",
    "    pickle.dump(clf,handle,protocol=pickle.HIGHEST_PROTOCOL) "
   ]
  },
  {
   "cell_type": "code",
   "execution_count": 7,
   "metadata": {
    "ExecuteTime": {
     "end_time": "2020-07-18T22:25:17.124390Z",
     "start_time": "2020-07-18T22:25:17.097572Z"
    }
   },
   "outputs": [
    {
     "data": {
      "text/plain": [
       "1.0"
      ]
     },
     "execution_count": 7,
     "metadata": {},
     "output_type": "execute_result"
    }
   ],
   "source": [
    "f1_score(y_test,clf.predict(X_test),average='weighted')"
   ]
  },
  {
   "cell_type": "code",
   "execution_count": 9,
   "metadata": {
    "ExecuteTime": {
     "end_time": "2020-07-18T22:25:34.359337Z",
     "start_time": "2020-07-18T22:25:34.234056Z"
    }
   },
   "outputs": [
    {
     "name": "stdout",
     "output_type": "stream",
     "text": [
      "              precision    recall  f1-score   support\n",
      "\n",
      "           0       1.00      1.00      1.00       450\n",
      "           1       1.00      1.00      1.00       450\n",
      "           2       1.00      1.00      1.00       450\n",
      "\n",
      "    accuracy                           1.00      1350\n",
      "   macro avg       1.00      1.00      1.00      1350\n",
      "weighted avg       1.00      1.00      1.00      1350\n",
      "\n"
     ]
    }
   ],
   "source": [
    "print(classification_report(y_test,clf.predict(X_test)))\n",
    "df=pd.DataFrame(precision_recall_fscore_support(y_test,clf.predict(X_test)))\n",
    "with engine.connect() as conn:\n",
    "    df.to_sql('model_stats',conn,if_exists='replace')"
   ]
  },
  {
   "cell_type": "code",
   "execution_count": null,
   "metadata": {},
   "outputs": [],
   "source": []
  }
 ],
 "metadata": {
  "hide_input": false,
  "kernelspec": {
   "display_name": "Python (feature-selection)",
   "language": "python",
   "name": "venv-kensho-feature-selection"
  },
  "language_info": {
   "codemirror_mode": {
    "name": "ipython",
    "version": 3
   },
   "file_extension": ".py",
   "mimetype": "text/x-python",
   "name": "python",
   "nbconvert_exporter": "python",
   "pygments_lexer": "ipython3",
   "version": "3.7.7"
  },
  "toc": {
   "base_numbering": 1,
   "nav_menu": {},
   "number_sections": true,
   "sideBar": true,
   "skip_h1_title": false,
   "title_cell": "Table of Contents",
   "title_sidebar": "Contents",
   "toc_cell": false,
   "toc_position": {},
   "toc_section_display": true,
   "toc_window_display": false
  },
  "varInspector": {
   "cols": {
    "lenName": 16,
    "lenType": 16,
    "lenVar": 40
   },
   "kernels_config": {
    "python": {
     "delete_cmd_postfix": "",
     "delete_cmd_prefix": "del ",
     "library": "var_list.py",
     "varRefreshCmd": "print(var_dic_list())"
    },
    "r": {
     "delete_cmd_postfix": ") ",
     "delete_cmd_prefix": "rm(",
     "library": "var_list.r",
     "varRefreshCmd": "cat(var_dic_list()) "
    }
   },
   "types_to_exclude": [
    "module",
    "function",
    "builtin_function_or_method",
    "instance",
    "_Feature"
   ],
   "window_display": false
  }
 },
 "nbformat": 4,
 "nbformat_minor": 4
}
