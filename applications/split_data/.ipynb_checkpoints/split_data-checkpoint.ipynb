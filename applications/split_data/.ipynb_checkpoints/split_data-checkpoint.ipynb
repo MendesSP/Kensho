{
 "cells": [
  {
   "cell_type": "markdown",
   "metadata": {},
   "source": [
    "# Description\n",
    "\n",
    "Create the datasets for training, testing and validating the model"
   ]
  },
  {
   "cell_type": "markdown",
   "metadata": {},
   "source": [
    "# Import libraries and define functions and paths"
   ]
  },
  {
   "cell_type": "markdown",
   "metadata": {},
   "source": [
    "## libraries"
   ]
  },
  {
   "cell_type": "code",
   "execution_count": 4,
   "metadata": {
    "ExecuteTime": {
     "end_time": "2020-07-18T16:23:28.307693Z",
     "start_time": "2020-07-18T16:23:28.005627Z"
    }
   },
   "outputs": [],
   "source": [
    "import pandas as pd\n",
    "import datetime\n",
    "import os\n",
    "import sqlalchemy as db"
   ]
  },
  {
   "cell_type": "markdown",
   "metadata": {},
   "source": [
    "## functions"
   ]
  },
  {
   "cell_type": "code",
   "execution_count": null,
   "metadata": {
    "ExecuteTime": {
     "end_time": "2020-07-18T15:22:34.117145Z",
     "start_time": "2020-07-18T15:22:34.114162Z"
    }
   },
   "outputs": [],
   "source": []
  },
  {
   "cell_type": "markdown",
   "metadata": {},
   "source": [
    "## Paths"
   ]
  },
  {
   "cell_type": "code",
   "execution_count": null,
   "metadata": {
    "ExecuteTime": {
     "end_time": "2020-07-18T15:35:00.147397Z",
     "start_time": "2020-07-18T15:35:00.145003Z"
    }
   },
   "outputs": [],
   "source": []
  },
  {
   "cell_type": "markdown",
   "metadata": {},
   "source": [
    "# Connect SQL DB and Divide data"
   ]
  },
  {
   "cell_type": "markdown",
   "metadata": {},
   "source": [
    "## Define connection parameters"
   ]
  },
  {
   "cell_type": "code",
   "execution_count": 5,
   "metadata": {
    "ExecuteTime": {
     "end_time": "2020-07-18T16:23:31.332357Z",
     "start_time": "2020-07-18T16:23:31.308864Z"
    }
   },
   "outputs": [],
   "source": [
    "try:\n",
    "    os.environ[\"DB_HOST\"]\n",
    "except:\n",
    "    os.environ[\"DB_HOST\"] = \"localhost\"\n",
    "\n",
    "\n",
    "\n",
    "# specify database configurations\n",
    "config = {\n",
    "    'host': os.environ['DB_HOST'],\n",
    "    'port': 3306,\n",
    "    'user': 'mendes',\n",
    "    'password': 'test',\n",
    "    'database': 'test_db'\n",
    "}\n",
    "db_user = config.get('user')\n",
    "db_pwd = config.get('password')\n",
    "db_host = config.get('host')\n",
    "db_port = config.get('port')\n",
    "db_name = config.get('database')\n",
    "# specify connection string\n",
    "connection_str = f'mysql+pymysql://{db_user}:{db_pwd}@{db_host}:{db_port}/{db_name}'\n",
    "# connect to database\n",
    "engine = db.create_engine(connection_str)"
   ]
  },
  {
   "cell_type": "markdown",
   "metadata": {},
   "source": [
    "## Create or append to table"
   ]
  },
  {
   "cell_type": "code",
   "execution_count": 77,
   "metadata": {
    "ExecuteTime": {
     "end_time": "2020-07-18T16:55:25.493698Z",
     "start_time": "2020-07-18T16:55:25.476059Z"
    }
   },
   "outputs": [],
   "source": [
    "with engine.connect() as conn:\n",
    "    sql = '''SELECT MIN(timestamp), MAX(timestamp) FROM iris;'''\n",
    "    results = conn.execute(sql)\n",
    "    results = results.fetchall()\n",
    "\n",
    "    start_training = (results[0][0] + datetime.timedelta(minutes=60)) #.strftime(\"%Y-%m-%d %H:%M:%S.%f\")\n",
    "    end_training = start_training + datetime.timedelta(minutes=60)\n",
    "\n",
    "    start_test = end_training + datetime.timedelta(minutes=60)\n",
    "    end_test = start_test + datetime.timedelta(minutes=60)\n",
    "\n",
    "    start_val = end_test + datetime.timedelta(minutes=60)\n",
    "    end_val = start_val + datetime.timedelta(minutes=60)\n",
    "\n",
    "\n",
    "    sql = f'''\n",
    "            CREATE TABLE IF NOT EXISTS train AS\n",
    "            SELECT * \n",
    "            FROM iris\n",
    "            WHERE timestamp > '{start_training.strftime(\"%Y-%m-%d %H:%M:%S\")}'\n",
    "                AND timestamp < '{end_training.strftime(\"%Y-%m-%d %H:%M:%S\")}';\n",
    "            '''\n",
    "    results = conn.execute(sql)\n",
    "\n",
    "    sql = f'''\n",
    "            CREATE TABLE IF NOT EXISTS test AS\n",
    "            SELECT * \n",
    "            FROM iris\n",
    "            WHERE timestamp > '{start_test.strftime(\"%Y-%m-%d %H:%M:%S\")}'\n",
    "                AND timestamp < '{end_test.strftime(\"%Y-%m-%d %H:%M:%S\")}';\n",
    "            '''\n",
    "    results = conn.execute(sql)\n",
    "\n",
    "    sql = f'''\n",
    "            CREATE TABLE IF NOT EXISTS validation AS\n",
    "            SELECT * \n",
    "            FROM iris\n",
    "            WHERE timestamp > '{start_val.strftime(\"%Y-%m-%d %H:%M:%S\")}'\n",
    "                AND timestamp < '{end_val.strftime(\"%Y-%m-%d %H:%M:%S\")}';\n",
    "            '''\n",
    "    results = conn.execute(sql)"
   ]
  },
  {
   "cell_type": "code",
   "execution_count": 79,
   "metadata": {
    "ExecuteTime": {
     "end_time": "2020-07-18T17:00:39.220032Z",
     "start_time": "2020-07-18T17:00:39.217364Z"
    }
   },
   "outputs": [
    {
     "name": "stdout",
     "output_type": "stream",
     "text": [
      "worked sql_data\n"
     ]
    }
   ],
   "source": [
    "print('worked sql_data')"
   ]
  },
  {
   "cell_type": "code",
   "execution_count": null,
   "metadata": {},
   "outputs": [],
   "source": []
  }
 ],
 "metadata": {
  "hide_input": false,
  "kernelspec": {
   "display_name": "Python (split-data)",
   "language": "python",
   "name": "venv-kensho-split-data"
  },
  "language_info": {
   "codemirror_mode": {
    "name": "ipython",
    "version": 3
   },
   "file_extension": ".py",
   "mimetype": "text/x-python",
   "name": "python",
   "nbconvert_exporter": "python",
   "pygments_lexer": "ipython3",
   "version": "3.7.7"
  },
  "toc": {
   "base_numbering": 1,
   "nav_menu": {},
   "number_sections": true,
   "sideBar": true,
   "skip_h1_title": false,
   "title_cell": "Table of Contents",
   "title_sidebar": "Contents",
   "toc_cell": false,
   "toc_position": {},
   "toc_section_display": true,
   "toc_window_display": false
  },
  "varInspector": {
   "cols": {
    "lenName": 16,
    "lenType": 16,
    "lenVar": 40
   },
   "kernels_config": {
    "python": {
     "delete_cmd_postfix": "",
     "delete_cmd_prefix": "del ",
     "library": "var_list.py",
     "varRefreshCmd": "print(var_dic_list())"
    },
    "r": {
     "delete_cmd_postfix": ") ",
     "delete_cmd_prefix": "rm(",
     "library": "var_list.r",
     "varRefreshCmd": "cat(var_dic_list()) "
    }
   },
   "types_to_exclude": [
    "module",
    "function",
    "builtin_function_or_method",
    "instance",
    "_Feature"
   ],
   "window_display": false
  }
 },
 "nbformat": 4,
 "nbformat_minor": 4
}
