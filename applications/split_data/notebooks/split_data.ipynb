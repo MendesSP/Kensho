{
 "cells": [
  {
   "cell_type": "markdown",
   "metadata": {},
   "source": [
    "# Description\n",
    "\n",
    "Create the datasets for training, testing and validating the model"
   ]
  },
  {
   "cell_type": "markdown",
   "metadata": {},
   "source": [
    "# Import libraries and define functions and paths"
   ]
  },
  {
   "cell_type": "markdown",
   "metadata": {},
   "source": [
    "## libraries"
   ]
  },
  {
   "cell_type": "code",
   "execution_count": 1,
   "metadata": {
    "ExecuteTime": {
     "end_time": "2020-07-18T21:53:15.726297Z",
     "start_time": "2020-07-18T21:53:15.281071Z"
    }
   },
   "outputs": [],
   "source": [
    "import pandas as pd\n",
    "import datetime\n",
    "import os\n",
    "import sqlalchemy as db"
   ]
  },
  {
   "cell_type": "markdown",
   "metadata": {},
   "source": [
    "## functions"
   ]
  },
  {
   "cell_type": "code",
   "execution_count": null,
   "metadata": {
    "ExecuteTime": {
     "end_time": "2020-07-18T15:22:34.117145Z",
     "start_time": "2020-07-18T15:22:34.114162Z"
    }
   },
   "outputs": [],
   "source": []
  },
  {
   "cell_type": "markdown",
   "metadata": {},
   "source": [
    "## Paths"
   ]
  },
  {
   "cell_type": "code",
   "execution_count": null,
   "metadata": {
    "ExecuteTime": {
     "end_time": "2020-07-18T15:35:00.147397Z",
     "start_time": "2020-07-18T15:35:00.145003Z"
    }
   },
   "outputs": [],
   "source": []
  },
  {
   "cell_type": "markdown",
   "metadata": {},
   "source": [
    "# Connect SQL DB and Divide data"
   ]
  },
  {
   "cell_type": "markdown",
   "metadata": {},
   "source": [
    "## Define connection parameters"
   ]
  },
  {
   "cell_type": "code",
   "execution_count": 2,
   "metadata": {
    "ExecuteTime": {
     "end_time": "2020-07-18T21:53:18.290869Z",
     "start_time": "2020-07-18T21:53:18.255942Z"
    }
   },
   "outputs": [],
   "source": [
    "try:\n",
    "    os.environ[\"DB_HOST\"]\n",
    "except:\n",
    "    os.environ[\"DB_HOST\"] = \"localhost\"\n",
    "\n",
    "\n",
    "\n",
    "# specify database configurations\n",
    "config = {\n",
    "    'host': os.environ['DB_HOST'],\n",
    "    'port': 3306,\n",
    "    'user': 'mendes',\n",
    "    'password': 'test',\n",
    "    'database': 'test_db'\n",
    "}\n",
    "db_user = config.get('user')\n",
    "db_pwd = config.get('password')\n",
    "db_host = config.get('host')\n",
    "db_port = config.get('port')\n",
    "db_name = config.get('database')\n",
    "# specify connection string\n",
    "connection_str = f'mysql+pymysql://{db_user}:{db_pwd}@{db_host}:{db_port}/{db_name}'\n",
    "# connect to database\n",
    "engine = db.create_engine(connection_str)"
   ]
  },
  {
   "cell_type": "markdown",
   "metadata": {},
   "source": [
    "## Create or append to table"
   ]
  },
  {
   "cell_type": "code",
   "execution_count": 45,
   "metadata": {
    "ExecuteTime": {
     "end_time": "2020-07-18T22:04:59.416545Z",
     "start_time": "2020-07-18T22:04:59.199690Z"
    }
   },
   "outputs": [],
   "source": [
    "with engine.connect() as conn:\n",
    "    sql = '''SELECT MIN(timestamp), MAX(timestamp) FROM iris;'''\n",
    "    results = conn.execute(sql)\n",
    "    results = results.fetchall()\n",
    "\n",
    "    start_training = (results[0][0] + datetime.timedelta(minutes=60)) #.strftime(\"%Y-%m-%d %H:%M:%S.%f\")\n",
    "    end_training = start_training + datetime.timedelta(minutes=60)\n",
    "\n",
    "    start_test = end_training\n",
    "    end_test = start_test + datetime.timedelta(minutes=300)\n",
    "\n",
    "    start_val = end_test\n",
    "    end_val = start_val + datetime.timedelta(minutes=800)\n",
    "\n",
    "    conn.execute('DROP TABLE IF EXISTS train;')\n",
    "    sql = f'''\n",
    "            CREATE TABLE IF NOT EXISTS train AS\n",
    "            SELECT * \n",
    "            FROM iris\n",
    "            WHERE timestamp > '{start_training.strftime(\"%Y-%m-%d %H:%M:%S\")}'\n",
    "                AND timestamp < '{end_training.strftime(\"%Y-%m-%d %H:%M:%S\")}';\n",
    "            '''\n",
    "    results = conn.execute(sql)\n",
    "\n",
    "    conn.execute('DROP TABLE IF EXISTS test;')\n",
    "    sql = f'''\n",
    "            CREATE TABLE IF NOT EXISTS test AS\n",
    "            SELECT * \n",
    "            FROM iris\n",
    "            WHERE timestamp > '{start_test.strftime(\"%Y-%m-%d %H:%M:%S\")}'\n",
    "                AND timestamp < '{end_test.strftime(\"%Y-%m-%d %H:%M:%S\")}';\n",
    "            '''\n",
    "    results = conn.execute(sql)\n",
    "\n",
    "    conn.execute('DROP TABLE IF EXISTS validation;')\n",
    "    sql = f'''\n",
    "            CREATE TABLE IF NOT EXISTS validation AS\n",
    "            SELECT * \n",
    "            FROM iris\n",
    "            WHERE timestamp > '{start_val.strftime(\"%Y-%m-%d %H:%M:%S\")}'\n",
    "                AND timestamp < '{end_val.strftime(\"%Y-%m-%d %H:%M:%S\")}';\n",
    "            '''\n",
    "    results = conn.execute(sql)"
   ]
  },
  {
   "cell_type": "code",
   "execution_count": 46,
   "metadata": {
    "ExecuteTime": {
     "end_time": "2020-07-18T22:05:00.124252Z",
     "start_time": "2020-07-18T22:05:00.120725Z"
    }
   },
   "outputs": [
    {
     "data": {
      "text/plain": [
       "datetime.datetime(2020, 7, 18, 12, 5, 52)"
      ]
     },
     "execution_count": 46,
     "metadata": {},
     "output_type": "execute_result"
    }
   ],
   "source": [
    "start_test"
   ]
  },
  {
   "cell_type": "code",
   "execution_count": 47,
   "metadata": {
    "ExecuteTime": {
     "end_time": "2020-07-18T22:05:00.584289Z",
     "start_time": "2020-07-18T22:05:00.543757Z"
    }
   },
   "outputs": [],
   "source": [
    "conn = engine.connect()\n",
    "sql = f'''\n",
    "        SELECT * \n",
    "        FROM iris\n",
    "        WHERE timestamp > '{start_test.strftime(\"%Y-%m-%d %H:%M:%S\")}'\n",
    "            AND timestamp < '{end_test.strftime(\"%Y-%m-%d %H:%M:%S\")}';\n",
    "        '''\n",
    "data = pd.read_sql(sql,conn)"
   ]
  },
  {
   "cell_type": "code",
   "execution_count": 48,
   "metadata": {
    "ExecuteTime": {
     "end_time": "2020-07-18T22:05:01.019920Z",
     "start_time": "2020-07-18T22:05:00.905661Z"
    }
   },
   "outputs": [],
   "source": [
    "conn = engine.connect()\n",
    "sql = f'''\n",
    "        SELECT * \n",
    "        FROM iris\n",
    "        '''\n",
    "data = pd.read_sql(sql,conn)"
   ]
  },
  {
   "cell_type": "code",
   "execution_count": 49,
   "metadata": {
    "ExecuteTime": {
     "end_time": "2020-07-18T22:05:01.276684Z",
     "start_time": "2020-07-18T22:05:01.272912Z"
    }
   },
   "outputs": [
    {
     "data": {
      "text/plain": [
       "{'2020-07-18 12:05:52'}"
      ]
     },
     "execution_count": 49,
     "metadata": {},
     "output_type": "execute_result"
    }
   ],
   "source": [
    "{start_test.strftime(\"%Y-%m-%d %H:%M:%S\")}\n"
   ]
  },
  {
   "cell_type": "code",
   "execution_count": 50,
   "metadata": {
    "ExecuteTime": {
     "end_time": "2020-07-18T22:05:02.108044Z",
     "start_time": "2020-07-18T22:05:02.104517Z"
    }
   },
   "outputs": [
    {
     "data": {
      "text/plain": [
       "{'2020-07-18 17:05:52'}"
      ]
     },
     "execution_count": 50,
     "metadata": {},
     "output_type": "execute_result"
    }
   ],
   "source": [
    "{end_test.strftime(\"%Y-%m-%d %H:%M:%S\")}"
   ]
  },
  {
   "cell_type": "code",
   "execution_count": 51,
   "metadata": {
    "ExecuteTime": {
     "end_time": "2020-07-18T22:05:02.576915Z",
     "start_time": "2020-07-18T22:05:02.561214Z"
    }
   },
   "outputs": [
    {
     "data": {
      "text/html": [
       "<div>\n",
       "<style scoped>\n",
       "    .dataframe tbody tr th:only-of-type {\n",
       "        vertical-align: middle;\n",
       "    }\n",
       "\n",
       "    .dataframe tbody tr th {\n",
       "        vertical-align: top;\n",
       "    }\n",
       "\n",
       "    .dataframe thead th {\n",
       "        text-align: right;\n",
       "    }\n",
       "</style>\n",
       "<table border=\"1\" class=\"dataframe\">\n",
       "  <thead>\n",
       "    <tr style=\"text-align: right;\">\n",
       "      <th></th>\n",
       "      <th>index</th>\n",
       "      <th>sepal_length</th>\n",
       "      <th>sepal_width</th>\n",
       "      <th>petal_length</th>\n",
       "      <th>petal_width</th>\n",
       "      <th>species</th>\n",
       "      <th>timestamp</th>\n",
       "    </tr>\n",
       "  </thead>\n",
       "  <tbody>\n",
       "    <tr>\n",
       "      <th>600</th>\n",
       "      <td>0</td>\n",
       "      <td>5.1</td>\n",
       "      <td>3.5</td>\n",
       "      <td>1.4</td>\n",
       "      <td>0.2</td>\n",
       "      <td>setosa</td>\n",
       "      <td>2020-07-18 16:04:35</td>\n",
       "    </tr>\n",
       "    <tr>\n",
       "      <th>601</th>\n",
       "      <td>1</td>\n",
       "      <td>4.9</td>\n",
       "      <td>3.0</td>\n",
       "      <td>1.4</td>\n",
       "      <td>0.2</td>\n",
       "      <td>setosa</td>\n",
       "      <td>2020-07-18 16:04:35</td>\n",
       "    </tr>\n",
       "    <tr>\n",
       "      <th>602</th>\n",
       "      <td>2</td>\n",
       "      <td>4.7</td>\n",
       "      <td>3.2</td>\n",
       "      <td>1.3</td>\n",
       "      <td>0.2</td>\n",
       "      <td>setosa</td>\n",
       "      <td>2020-07-18 16:04:35</td>\n",
       "    </tr>\n",
       "    <tr>\n",
       "      <th>603</th>\n",
       "      <td>3</td>\n",
       "      <td>4.6</td>\n",
       "      <td>3.1</td>\n",
       "      <td>1.5</td>\n",
       "      <td>0.2</td>\n",
       "      <td>setosa</td>\n",
       "      <td>2020-07-18 16:04:35</td>\n",
       "    </tr>\n",
       "    <tr>\n",
       "      <th>604</th>\n",
       "      <td>4</td>\n",
       "      <td>5.0</td>\n",
       "      <td>3.6</td>\n",
       "      <td>1.4</td>\n",
       "      <td>0.2</td>\n",
       "      <td>setosa</td>\n",
       "      <td>2020-07-18 16:04:35</td>\n",
       "    </tr>\n",
       "    <tr>\n",
       "      <th>...</th>\n",
       "      <td>...</td>\n",
       "      <td>...</td>\n",
       "      <td>...</td>\n",
       "      <td>...</td>\n",
       "      <td>...</td>\n",
       "      <td>...</td>\n",
       "      <td>...</td>\n",
       "    </tr>\n",
       "    <tr>\n",
       "      <th>2845</th>\n",
       "      <td>145</td>\n",
       "      <td>6.7</td>\n",
       "      <td>3.0</td>\n",
       "      <td>5.2</td>\n",
       "      <td>2.3</td>\n",
       "      <td>virginica</td>\n",
       "      <td>2020-07-18 16:32:25</td>\n",
       "    </tr>\n",
       "    <tr>\n",
       "      <th>2846</th>\n",
       "      <td>146</td>\n",
       "      <td>6.3</td>\n",
       "      <td>2.5</td>\n",
       "      <td>5.0</td>\n",
       "      <td>1.9</td>\n",
       "      <td>virginica</td>\n",
       "      <td>2020-07-18 16:32:25</td>\n",
       "    </tr>\n",
       "    <tr>\n",
       "      <th>2847</th>\n",
       "      <td>147</td>\n",
       "      <td>6.5</td>\n",
       "      <td>3.0</td>\n",
       "      <td>5.2</td>\n",
       "      <td>2.0</td>\n",
       "      <td>virginica</td>\n",
       "      <td>2020-07-18 16:32:25</td>\n",
       "    </tr>\n",
       "    <tr>\n",
       "      <th>2848</th>\n",
       "      <td>148</td>\n",
       "      <td>6.2</td>\n",
       "      <td>3.4</td>\n",
       "      <td>5.4</td>\n",
       "      <td>2.3</td>\n",
       "      <td>virginica</td>\n",
       "      <td>2020-07-18 16:32:25</td>\n",
       "    </tr>\n",
       "    <tr>\n",
       "      <th>2849</th>\n",
       "      <td>149</td>\n",
       "      <td>5.9</td>\n",
       "      <td>3.0</td>\n",
       "      <td>5.1</td>\n",
       "      <td>1.8</td>\n",
       "      <td>virginica</td>\n",
       "      <td>2020-07-18 16:32:25</td>\n",
       "    </tr>\n",
       "  </tbody>\n",
       "</table>\n",
       "<p>1350 rows × 7 columns</p>\n",
       "</div>"
      ],
      "text/plain": [
       "      index  sepal_length  sepal_width  petal_length  petal_width    species  \\\n",
       "600       0           5.1          3.5           1.4          0.2     setosa   \n",
       "601       1           4.9          3.0           1.4          0.2     setosa   \n",
       "602       2           4.7          3.2           1.3          0.2     setosa   \n",
       "603       3           4.6          3.1           1.5          0.2     setosa   \n",
       "604       4           5.0          3.6           1.4          0.2     setosa   \n",
       "...     ...           ...          ...           ...          ...        ...   \n",
       "2845    145           6.7          3.0           5.2          2.3  virginica   \n",
       "2846    146           6.3          2.5           5.0          1.9  virginica   \n",
       "2847    147           6.5          3.0           5.2          2.0  virginica   \n",
       "2848    148           6.2          3.4           5.4          2.3  virginica   \n",
       "2849    149           5.9          3.0           5.1          1.8  virginica   \n",
       "\n",
       "               timestamp  \n",
       "600  2020-07-18 16:04:35  \n",
       "601  2020-07-18 16:04:35  \n",
       "602  2020-07-18 16:04:35  \n",
       "603  2020-07-18 16:04:35  \n",
       "604  2020-07-18 16:04:35  \n",
       "...                  ...  \n",
       "2845 2020-07-18 16:32:25  \n",
       "2846 2020-07-18 16:32:25  \n",
       "2847 2020-07-18 16:32:25  \n",
       "2848 2020-07-18 16:32:25  \n",
       "2849 2020-07-18 16:32:25  \n",
       "\n",
       "[1350 rows x 7 columns]"
      ]
     },
     "execution_count": 51,
     "metadata": {},
     "output_type": "execute_result"
    }
   ],
   "source": [
    "f=(data['timestamp']<end_test) & (data['timestamp']>start_test)\n",
    "data[f]"
   ]
  },
  {
   "cell_type": "code",
   "execution_count": 44,
   "metadata": {
    "ExecuteTime": {
     "end_time": "2020-07-18T22:04:40.525750Z",
     "start_time": "2020-07-18T22:04:40.521619Z"
    }
   },
   "outputs": [
    {
     "data": {
      "text/plain": [
       "'2020-07-18 21:25:06'"
      ]
     },
     "execution_count": 44,
     "metadata": {},
     "output_type": "execute_result"
    }
   ],
   "source": [
    "data['timestamp'].max().strftime(\"%Y-%m-%d %H:%M:%S\")"
   ]
  },
  {
   "cell_type": "code",
   "execution_count": null,
   "metadata": {},
   "outputs": [],
   "source": []
  }
 ],
 "metadata": {
  "hide_input": false,
  "kernelspec": {
   "display_name": "Python (split-data)",
   "language": "python",
   "name": "venv-kensho-split-data"
  },
  "language_info": {
   "codemirror_mode": {
    "name": "ipython",
    "version": 3
   },
   "file_extension": ".py",
   "mimetype": "text/x-python",
   "name": "python",
   "nbconvert_exporter": "python",
   "pygments_lexer": "ipython3",
   "version": "3.7.7"
  },
  "toc": {
   "base_numbering": 1,
   "nav_menu": {},
   "number_sections": true,
   "sideBar": true,
   "skip_h1_title": false,
   "title_cell": "Table of Contents",
   "title_sidebar": "Contents",
   "toc_cell": false,
   "toc_position": {},
   "toc_section_display": true,
   "toc_window_display": false
  },
  "varInspector": {
   "cols": {
    "lenName": 16,
    "lenType": 16,
    "lenVar": 40
   },
   "kernels_config": {
    "python": {
     "delete_cmd_postfix": "",
     "delete_cmd_prefix": "del ",
     "library": "var_list.py",
     "varRefreshCmd": "print(var_dic_list())"
    },
    "r": {
     "delete_cmd_postfix": ") ",
     "delete_cmd_prefix": "rm(",
     "library": "var_list.r",
     "varRefreshCmd": "cat(var_dic_list()) "
    }
   },
   "types_to_exclude": [
    "module",
    "function",
    "builtin_function_or_method",
    "instance",
    "_Feature"
   ],
   "window_display": false
  }
 },
 "nbformat": 4,
 "nbformat_minor": 4
}
