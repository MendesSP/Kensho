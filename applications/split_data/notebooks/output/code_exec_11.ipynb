{
 "cells": [
  {
   "cell_type": "markdown",
   "metadata": {
    "papermill": {
     "duration": 0.007954,
     "end_time": "2020-07-18T17:04:51.881825",
     "exception": false,
     "start_time": "2020-07-18T17:04:51.873871",
     "status": "completed"
    },
    "tags": []
   },
   "source": [
    "# Description\n",
    "\n",
    "Create the datasets for training, testing and validating the model"
   ]
  },
  {
   "cell_type": "markdown",
   "metadata": {
    "papermill": {
     "duration": 0.00596,
     "end_time": "2020-07-18T17:04:51.894010",
     "exception": false,
     "start_time": "2020-07-18T17:04:51.888050",
     "status": "completed"
    },
    "tags": []
   },
   "source": [
    "# Import libraries and define functions and paths"
   ]
  },
  {
   "cell_type": "markdown",
   "metadata": {
    "papermill": {
     "duration": 0.006275,
     "end_time": "2020-07-18T17:04:51.905984",
     "exception": false,
     "start_time": "2020-07-18T17:04:51.899709",
     "status": "completed"
    },
    "tags": []
   },
   "source": [
    "## libraries"
   ]
  },
  {
   "cell_type": "code",
   "execution_count": 1,
   "metadata": {
    "ExecuteTime": {
     "end_time": "2020-07-18T16:23:28.307693Z",
     "start_time": "2020-07-18T16:23:28.005627Z"
    },
    "execution": {
     "iopub.execute_input": "2020-07-18T17:04:51.923090Z",
     "iopub.status.busy": "2020-07-18T17:04:51.922201Z",
     "iopub.status.idle": "2020-07-18T17:04:52.232623Z",
     "shell.execute_reply": "2020-07-18T17:04:52.233049Z"
    },
    "papermill": {
     "duration": 0.320685,
     "end_time": "2020-07-18T17:04:52.233304",
     "exception": false,
     "start_time": "2020-07-18T17:04:51.912619",
     "status": "completed"
    },
    "tags": []
   },
   "outputs": [],
   "source": [
    "import pandas as pd\n",
    "import datetime\n",
    "import os\n",
    "import sqlalchemy as db"
   ]
  },
  {
   "cell_type": "markdown",
   "metadata": {
    "papermill": {
     "duration": 0.006031,
     "end_time": "2020-07-18T17:04:52.246023",
     "exception": false,
     "start_time": "2020-07-18T17:04:52.239992",
     "status": "completed"
    },
    "tags": []
   },
   "source": [
    "## functions"
   ]
  },
  {
   "cell_type": "code",
   "execution_count": null,
   "metadata": {
    "ExecuteTime": {
     "end_time": "2020-07-18T15:22:34.117145Z",
     "start_time": "2020-07-18T15:22:34.114162Z"
    },
    "papermill": {
     "duration": 0.005968,
     "end_time": "2020-07-18T17:04:52.257967",
     "exception": false,
     "start_time": "2020-07-18T17:04:52.251999",
     "status": "completed"
    },
    "tags": []
   },
   "outputs": [],
   "source": []
  },
  {
   "cell_type": "markdown",
   "metadata": {
    "papermill": {
     "duration": 0.006423,
     "end_time": "2020-07-18T17:04:52.270565",
     "exception": false,
     "start_time": "2020-07-18T17:04:52.264142",
     "status": "completed"
    },
    "tags": []
   },
   "source": [
    "## Paths"
   ]
  },
  {
   "cell_type": "code",
   "execution_count": null,
   "metadata": {
    "ExecuteTime": {
     "end_time": "2020-07-18T15:35:00.147397Z",
     "start_time": "2020-07-18T15:35:00.145003Z"
    },
    "papermill": {
     "duration": 0.005853,
     "end_time": "2020-07-18T17:04:52.283089",
     "exception": false,
     "start_time": "2020-07-18T17:04:52.277236",
     "status": "completed"
    },
    "tags": []
   },
   "outputs": [],
   "source": []
  },
  {
   "cell_type": "markdown",
   "metadata": {
    "papermill": {
     "duration": 0.006163,
     "end_time": "2020-07-18T17:04:52.295339",
     "exception": false,
     "start_time": "2020-07-18T17:04:52.289176",
     "status": "completed"
    },
    "tags": []
   },
   "source": [
    "# Connect SQL DB and Divide data"
   ]
  },
  {
   "cell_type": "markdown",
   "metadata": {
    "papermill": {
     "duration": 0.00637,
     "end_time": "2020-07-18T17:04:52.307856",
     "exception": false,
     "start_time": "2020-07-18T17:04:52.301486",
     "status": "completed"
    },
    "tags": []
   },
   "source": [
    "## Define connection parameters"
   ]
  },
  {
   "cell_type": "code",
   "execution_count": 2,
   "metadata": {
    "ExecuteTime": {
     "end_time": "2020-07-18T16:23:31.332357Z",
     "start_time": "2020-07-18T16:23:31.308864Z"
    },
    "execution": {
     "iopub.execute_input": "2020-07-18T17:04:52.328389Z",
     "iopub.status.busy": "2020-07-18T17:04:52.327700Z",
     "iopub.status.idle": "2020-07-18T17:04:52.347227Z",
     "shell.execute_reply": "2020-07-18T17:04:52.347728Z"
    },
    "papermill": {
     "duration": 0.033485,
     "end_time": "2020-07-18T17:04:52.348036",
     "exception": false,
     "start_time": "2020-07-18T17:04:52.314551",
     "status": "completed"
    },
    "tags": []
   },
   "outputs": [],
   "source": [
    "try:\n",
    "    os.environ[\"DB_HOST\"]\n",
    "except:\n",
    "    os.environ[\"DB_HOST\"] = \"localhost\"\n",
    "\n",
    "\n",
    "\n",
    "# specify database configurations\n",
    "config = {\n",
    "    'host': os.environ['DB_HOST'],\n",
    "    'port': 3306,\n",
    "    'user': 'mendes',\n",
    "    'password': 'test',\n",
    "    'database': 'test_db'\n",
    "}\n",
    "db_user = config.get('user')\n",
    "db_pwd = config.get('password')\n",
    "db_host = config.get('host')\n",
    "db_port = config.get('port')\n",
    "db_name = config.get('database')\n",
    "# specify connection string\n",
    "connection_str = f'mysql+pymysql://{db_user}:{db_pwd}@{db_host}:{db_port}/{db_name}'\n",
    "# connect to database\n",
    "engine = db.create_engine(connection_str)"
   ]
  },
  {
   "cell_type": "markdown",
   "metadata": {
    "papermill": {
     "duration": 0.006371,
     "end_time": "2020-07-18T17:04:52.363660",
     "exception": false,
     "start_time": "2020-07-18T17:04:52.357289",
     "status": "completed"
    },
    "tags": []
   },
   "source": [
    "## Create or append to table"
   ]
  },
  {
   "cell_type": "code",
   "execution_count": 3,
   "metadata": {
    "ExecuteTime": {
     "end_time": "2020-07-18T16:55:25.493698Z",
     "start_time": "2020-07-18T16:55:25.476059Z"
    },
    "execution": {
     "iopub.execute_input": "2020-07-18T17:04:52.384379Z",
     "iopub.status.busy": "2020-07-18T17:04:52.383705Z",
     "iopub.status.idle": "2020-07-18T17:04:52.418273Z",
     "shell.execute_reply": "2020-07-18T17:04:52.418717Z"
    },
    "papermill": {
     "duration": 0.049128,
     "end_time": "2020-07-18T17:04:52.418908",
     "exception": false,
     "start_time": "2020-07-18T17:04:52.369780",
     "status": "completed"
    },
    "tags": []
   },
   "outputs": [],
   "source": [
    "with engine.connect() as conn:\n",
    "    sql = '''SELECT MIN(timestamp), MAX(timestamp) FROM iris;'''\n",
    "    results = conn.execute(sql)\n",
    "    results = results.fetchall()\n",
    "\n",
    "    start_training = (results[0][0] + datetime.timedelta(minutes=60)) #.strftime(\"%Y-%m-%d %H:%M:%S.%f\")\n",
    "    end_training = start_training + datetime.timedelta(minutes=60)\n",
    "\n",
    "    start_test = end_training + datetime.timedelta(minutes=60)\n",
    "    end_test = start_test + datetime.timedelta(minutes=60)\n",
    "\n",
    "    start_val = end_test + datetime.timedelta(minutes=60)\n",
    "    end_val = start_val + datetime.timedelta(minutes=60)\n",
    "\n",
    "\n",
    "    sql = f'''\n",
    "            CREATE TABLE IF NOT EXISTS train AS\n",
    "            SELECT * \n",
    "            FROM iris\n",
    "            WHERE timestamp > '{start_training.strftime(\"%Y-%m-%d %H:%M:%S\")}'\n",
    "                AND timestamp < '{end_training.strftime(\"%Y-%m-%d %H:%M:%S\")}';\n",
    "            '''\n",
    "    results = conn.execute(sql)\n",
    "\n",
    "    sql = f'''\n",
    "            CREATE TABLE IF NOT EXISTS test AS\n",
    "            SELECT * \n",
    "            FROM iris\n",
    "            WHERE timestamp > '{start_test.strftime(\"%Y-%m-%d %H:%M:%S\")}'\n",
    "                AND timestamp < '{end_test.strftime(\"%Y-%m-%d %H:%M:%S\")}';\n",
    "            '''\n",
    "    results = conn.execute(sql)\n",
    "\n",
    "    sql = f'''\n",
    "            CREATE TABLE IF NOT EXISTS validation AS\n",
    "            SELECT * \n",
    "            FROM iris\n",
    "            WHERE timestamp > '{start_val.strftime(\"%Y-%m-%d %H:%M:%S\")}'\n",
    "                AND timestamp < '{end_val.strftime(\"%Y-%m-%d %H:%M:%S\")}';\n",
    "            '''\n",
    "    results = conn.execute(sql)"
   ]
  },
  {
   "cell_type": "code",
   "execution_count": 4,
   "metadata": {
    "ExecuteTime": {
     "end_time": "2020-07-18T17:00:39.220032Z",
     "start_time": "2020-07-18T17:00:39.217364Z"
    },
    "execution": {
     "iopub.execute_input": "2020-07-18T17:04:52.435955Z",
     "iopub.status.busy": "2020-07-18T17:04:52.435209Z",
     "iopub.status.idle": "2020-07-18T17:04:52.437722Z",
     "shell.execute_reply": "2020-07-18T17:04:52.438135Z"
    },
    "papermill": {
     "duration": 0.012865,
     "end_time": "2020-07-18T17:04:52.438331",
     "exception": false,
     "start_time": "2020-07-18T17:04:52.425466",
     "status": "completed"
    },
    "tags": []
   },
   "outputs": [
    {
     "name": "stdout",
     "output_type": "stream",
     "text": [
      "worked sql_data\n"
     ]
    }
   ],
   "source": [
    "print('worked sql_data')"
   ]
  },
  {
   "cell_type": "code",
   "execution_count": null,
   "metadata": {
    "papermill": {
     "duration": 0.00688,
     "end_time": "2020-07-18T17:04:52.453022",
     "exception": false,
     "start_time": "2020-07-18T17:04:52.446142",
     "status": "completed"
    },
    "tags": []
   },
   "outputs": [],
   "source": []
  }
 ],
 "metadata": {
  "hide_input": false,
  "kernelspec": {
   "display_name": "Python (split-data)",
   "language": "python",
   "name": "venv-kensho-split-data"
  },
  "language_info": {
   "codemirror_mode": {
    "name": "ipython",
    "version": 3
   },
   "file_extension": ".py",
   "mimetype": "text/x-python",
   "name": "python",
   "nbconvert_exporter": "python",
   "pygments_lexer": "ipython3",
   "version": "3.7.7"
  },
  "papermill": {
   "duration": 1.741801,
   "end_time": "2020-07-18T17:04:52.674248",
   "environment_variables": {},
   "exception": null,
   "input_path": "notebooks/split_data.ipynb",
   "output_path": "notebooks/output/code_exec_11.ipynb",
   "parameters": {},
   "start_time": "2020-07-18T17:04:50.932447",
   "version": "2.1.2"
  },
  "toc": {
   "base_numbering": 1,
   "nav_menu": {},
   "number_sections": true,
   "sideBar": true,
   "skip_h1_title": false,
   "title_cell": "Table of Contents",
   "title_sidebar": "Contents",
   "toc_cell": false,
   "toc_position": {},
   "toc_section_display": true,
   "toc_window_display": false
  },
  "varInspector": {
   "cols": {
    "lenName": 16,
    "lenType": 16,
    "lenVar": 40
   },
   "kernels_config": {
    "python": {
     "delete_cmd_postfix": "",
     "delete_cmd_prefix": "del ",
     "library": "var_list.py",
     "varRefreshCmd": "print(var_dic_list())"
    },
    "r": {
     "delete_cmd_postfix": ") ",
     "delete_cmd_prefix": "rm(",
     "library": "var_list.r",
     "varRefreshCmd": "cat(var_dic_list()) "
    }
   },
   "types_to_exclude": [
    "module",
    "function",
    "builtin_function_or_method",
    "instance",
    "_Feature"
   ],
   "window_display": false
  }
 },
 "nbformat": 4,
 "nbformat_minor": 4
}