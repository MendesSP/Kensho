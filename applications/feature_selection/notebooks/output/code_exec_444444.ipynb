{
 "cells": [
  {
   "cell_type": "code",
   "execution_count": 1,
   "metadata": {
    "ExecuteTime": {
     "end_time": "2020-07-18T22:06:18.265531Z",
     "start_time": "2020-07-18T22:06:18.262605Z"
    },
    "execution": {
     "iopub.execute_input": "2020-07-19T01:58:29.703435Z",
     "iopub.status.busy": "2020-07-19T01:58:29.702276Z",
     "iopub.status.idle": "2020-07-19T01:58:29.705174Z",
     "shell.execute_reply": "2020-07-19T01:58:29.704651Z"
    },
    "papermill": {
     "duration": 0.0284,
     "end_time": "2020-07-19T01:58:29.705308",
     "exception": false,
     "start_time": "2020-07-19T01:58:29.676908",
     "status": "completed"
    },
    "tags": []
   },
   "outputs": [],
   "source": [
    "###params\n",
    "import os\n",
    "try:\n",
    "    os.environ['OPT']\n",
    "except:\n",
    "    os.environ['OPT']='train'\n",
    "opt = os.environ['OPT']\n",
    "opt='validation'"
   ]
  },
  {
   "cell_type": "code",
   "execution_count": 2,
   "metadata": {
    "ExecuteTime": {
     "end_time": "2020-07-18T22:06:18.270180Z",
     "start_time": "2020-07-18T22:06:18.267547Z"
    },
    "execution": {
     "iopub.execute_input": "2020-07-19T01:58:29.743537Z",
     "iopub.status.busy": "2020-07-19T01:58:29.742002Z",
     "iopub.status.idle": "2020-07-19T01:58:29.746313Z",
     "shell.execute_reply": "2020-07-19T01:58:29.745783Z"
    },
    "papermill": {
     "duration": 0.024871,
     "end_time": "2020-07-19T01:58:29.746524",
     "exception": false,
     "start_time": "2020-07-19T01:58:29.721653",
     "status": "completed"
    },
    "tags": []
   },
   "outputs": [
    {
     "name": "stdout",
     "output_type": "stream",
     "text": [
      "name of the variable:docker.for.mac.host.internal\n"
     ]
    }
   ],
   "source": [
    "try:\n",
    "    print(f'name of the variable:{os.environ[\"DB_HOST\"]}')\n",
    "except:\n",
    "    print('variable not there')"
   ]
  },
  {
   "cell_type": "markdown",
   "metadata": {
    "papermill": {
     "duration": 0.016675,
     "end_time": "2020-07-19T01:58:29.779346",
     "exception": false,
     "start_time": "2020-07-19T01:58:29.762671",
     "status": "completed"
    },
    "tags": []
   },
   "source": [
    "# Description\n",
    "\n",
    "- Process the dataset to train the model\n",
    "- Create the labels\n",
    "\n",
    "to test the notebook\n",
    "- papermill notebooks/feature_selection.ipynb notebooks/output/code_exec.ipynb --log-output\n",
    "\n",
    "Run from a docker image\n",
    "\n",
    "- to build: docker build . -t feature_selection\n",
    "- to run: docker run -it  -v /Users/mendes/tech_interview/Kensho/applications/feature_selection/notebooks:/notebooks -e EXECUTION_ID=444444 -e DB_HOST=docker.for.mac.host.internal -e OPT=train feature_selection -p 3306:3306 \n",
    "\n",
    "obs: Change the DB_HOST env variable when not in MAC"
   ]
  },
  {
   "cell_type": "code",
   "execution_count": 3,
   "metadata": {
    "ExecuteTime": {
     "end_time": "2020-07-18T22:06:18.343181Z",
     "start_time": "2020-07-18T22:06:18.334979Z"
    },
    "execution": {
     "iopub.execute_input": "2020-07-19T01:58:29.822862Z",
     "iopub.status.busy": "2020-07-19T01:58:29.822178Z",
     "iopub.status.idle": "2020-07-19T01:58:29.827003Z",
     "shell.execute_reply": "2020-07-19T01:58:29.827515Z"
    },
    "papermill": {
     "duration": 0.032168,
     "end_time": "2020-07-19T01:58:29.827690",
     "exception": false,
     "start_time": "2020-07-19T01:58:29.795522",
     "status": "completed"
    },
    "tags": []
   },
   "outputs": [
    {
     "data": {
      "text/plain": [
       "'/'"
      ]
     },
     "execution_count": 3,
     "metadata": {},
     "output_type": "execute_result"
    }
   ],
   "source": [
    "pwd"
   ]
  },
  {
   "cell_type": "markdown",
   "metadata": {
    "papermill": {
     "duration": 0.017353,
     "end_time": "2020-07-19T01:58:29.861941",
     "exception": false,
     "start_time": "2020-07-19T01:58:29.844588",
     "status": "completed"
    },
    "tags": []
   },
   "source": [
    "# Import libraries and define functions and paths"
   ]
  },
  {
   "cell_type": "markdown",
   "metadata": {
    "papermill": {
     "duration": 0.015954,
     "end_time": "2020-07-19T01:58:29.895041",
     "exception": false,
     "start_time": "2020-07-19T01:58:29.879087",
     "status": "completed"
    },
    "tags": []
   },
   "source": [
    "## libraries"
   ]
  },
  {
   "cell_type": "code",
   "execution_count": 4,
   "metadata": {
    "ExecuteTime": {
     "end_time": "2020-07-18T22:06:19.168835Z",
     "start_time": "2020-07-18T22:06:18.488835Z"
    },
    "execution": {
     "iopub.execute_input": "2020-07-19T01:58:29.936430Z",
     "iopub.status.busy": "2020-07-19T01:58:29.935829Z",
     "iopub.status.idle": "2020-07-19T01:58:30.546789Z",
     "shell.execute_reply": "2020-07-19T01:58:30.545738Z"
    },
    "papermill": {
     "duration": 0.634858,
     "end_time": "2020-07-19T01:58:30.546952",
     "exception": false,
     "start_time": "2020-07-19T01:58:29.912094",
     "status": "completed"
    },
    "tags": []
   },
   "outputs": [],
   "source": [
    "import pandas as pd\n",
    "import datetime\n",
    "import os\n",
    "import sqlalchemy as db\n",
    "from sklearn.preprocessing import LabelEncoder\n",
    "import pickle"
   ]
  },
  {
   "cell_type": "markdown",
   "metadata": {
    "papermill": {
     "duration": 0.017104,
     "end_time": "2020-07-19T01:58:30.582365",
     "exception": false,
     "start_time": "2020-07-19T01:58:30.565261",
     "status": "completed"
    },
    "tags": []
   },
   "source": [
    "## functions"
   ]
  },
  {
   "cell_type": "code",
   "execution_count": 5,
   "metadata": {
    "ExecuteTime": {
     "end_time": "2020-07-18T22:06:19.176064Z",
     "start_time": "2020-07-18T22:06:19.170806Z"
    },
    "execution": {
     "iopub.execute_input": "2020-07-19T01:58:30.628363Z",
     "iopub.status.busy": "2020-07-19T01:58:30.626649Z",
     "iopub.status.idle": "2020-07-19T01:58:30.631244Z",
     "shell.execute_reply": "2020-07-19T01:58:30.630626Z"
    },
    "papermill": {
     "duration": 0.030964,
     "end_time": "2020-07-19T01:58:30.631397",
     "exception": false,
     "start_time": "2020-07-19T01:58:30.600433",
     "status": "completed"
    },
    "tags": []
   },
   "outputs": [],
   "source": [
    "def get_connection():\n",
    "    try:\n",
    "        os.environ[\"DB_HOST\"]\n",
    "    except:\n",
    "        os.environ[\"DB_HOST\"] = \"localhost\"\n",
    "        \n",
    "    print(f'name of the variable inside function:{os.environ[\"DB_HOST\"]}')\n",
    "\n",
    "\n",
    "\n",
    "    # specify database configurations\n",
    "    config = {\n",
    "        'host': os.environ['DB_HOST'],\n",
    "        'port': 3306,\n",
    "        'user': 'mendes',\n",
    "        'password': 'test',\n",
    "        'database': 'test_db'\n",
    "    }\n",
    "    db_user = config.get('user')\n",
    "    db_pwd = config.get('password')\n",
    "    db_host = config.get('host')\n",
    "    db_port = config.get('port')\n",
    "    db_name = config.get('database')\n",
    "    # specify connection string\n",
    "    connection_str = f'mysql+pymysql://{db_user}:{db_pwd}@{db_host}:{db_port}/{db_name}'\n",
    "    # connect to database\n",
    "    engine = db.create_engine(connection_str)\n",
    "    return engine"
   ]
  },
  {
   "cell_type": "markdown",
   "metadata": {
    "papermill": {
     "duration": 0.017574,
     "end_time": "2020-07-19T01:58:30.666731",
     "exception": false,
     "start_time": "2020-07-19T01:58:30.649157",
     "status": "completed"
    },
    "tags": []
   },
   "source": [
    "## Paths"
   ]
  },
  {
   "cell_type": "code",
   "execution_count": 6,
   "metadata": {
    "ExecuteTime": {
     "end_time": "2020-07-18T22:06:19.298217Z",
     "start_time": "2020-07-18T22:06:19.178672Z"
    },
    "execution": {
     "iopub.execute_input": "2020-07-19T01:58:30.709844Z",
     "iopub.status.busy": "2020-07-19T01:58:30.708662Z",
     "iopub.status.idle": "2020-07-19T01:58:31.323326Z",
     "shell.execute_reply": "2020-07-19T01:58:31.323791Z"
    },
    "papermill": {
     "duration": 0.638743,
     "end_time": "2020-07-19T01:58:31.323973",
     "exception": false,
     "start_time": "2020-07-19T01:58:30.685230",
     "status": "completed"
    },
    "tags": []
   },
   "outputs": [
    {
     "name": "stdout",
     "output_type": "stream",
     "text": [
      "docker.for.mac.host.internal\r\n"
     ]
    }
   ],
   "source": [
    "!echo $DB_HOST"
   ]
  },
  {
   "cell_type": "markdown",
   "metadata": {
    "papermill": {
     "duration": 0.017128,
     "end_time": "2020-07-19T01:58:31.359222",
     "exception": false,
     "start_time": "2020-07-19T01:58:31.342094",
     "status": "completed"
    },
    "tags": []
   },
   "source": [
    "# Connect SQL DB and transfer data"
   ]
  },
  {
   "cell_type": "code",
   "execution_count": 7,
   "metadata": {
    "ExecuteTime": {
     "end_time": "2020-07-18T22:06:19.325697Z",
     "start_time": "2020-07-18T22:06:19.300894Z"
    },
    "execution": {
     "iopub.execute_input": "2020-07-19T01:58:31.405783Z",
     "iopub.status.busy": "2020-07-19T01:58:31.403569Z",
     "iopub.status.idle": "2020-07-19T01:58:31.431864Z",
     "shell.execute_reply": "2020-07-19T01:58:31.431403Z"
    },
    "papermill": {
     "duration": 0.053566,
     "end_time": "2020-07-19T01:58:31.431990",
     "exception": false,
     "start_time": "2020-07-19T01:58:31.378424",
     "status": "completed"
    },
    "tags": []
   },
   "outputs": [
    {
     "name": "stdout",
     "output_type": "stream",
     "text": [
      "name of the variable inside function:docker.for.mac.host.internal\n"
     ]
    }
   ],
   "source": [
    "engine = get_connection()"
   ]
  },
  {
   "cell_type": "markdown",
   "metadata": {
    "papermill": {
     "duration": 0.018724,
     "end_time": "2020-07-19T01:58:31.468492",
     "exception": false,
     "start_time": "2020-07-19T01:58:31.449768",
     "status": "completed"
    },
    "tags": []
   },
   "source": [
    "## Process dataset"
   ]
  },
  {
   "cell_type": "code",
   "execution_count": 8,
   "metadata": {
    "ExecuteTime": {
     "end_time": "2020-07-18T22:06:19.420166Z",
     "start_time": "2020-07-18T22:06:19.328044Z"
    },
    "execution": {
     "iopub.execute_input": "2020-07-19T01:58:31.514419Z",
     "iopub.status.busy": "2020-07-19T01:58:31.510774Z",
     "iopub.status.idle": "2020-07-19T01:58:31.626250Z",
     "shell.execute_reply": "2020-07-19T01:58:31.625597Z"
    },
    "papermill": {
     "duration": 0.139984,
     "end_time": "2020-07-19T01:58:31.626389",
     "exception": false,
     "start_time": "2020-07-19T01:58:31.486405",
     "status": "completed"
    },
    "tags": []
   },
   "outputs": [],
   "source": [
    "with engine.connect() as conn:\n",
    "    sql = f'SELECT * FROM {opt};'\n",
    "    data = pd.read_sql(sql,conn)"
   ]
  },
  {
   "cell_type": "code",
   "execution_count": 9,
   "metadata": {
    "ExecuteTime": {
     "end_time": "2020-07-18T22:06:19.427569Z",
     "start_time": "2020-07-18T22:06:19.421949Z"
    },
    "execution": {
     "iopub.execute_input": "2020-07-19T01:58:31.675064Z",
     "iopub.status.busy": "2020-07-19T01:58:31.673410Z",
     "iopub.status.idle": "2020-07-19T01:58:31.676840Z",
     "shell.execute_reply": "2020-07-19T01:58:31.676420Z"
    },
    "papermill": {
     "duration": 0.030755,
     "end_time": "2020-07-19T01:58:31.676953",
     "exception": false,
     "start_time": "2020-07-19T01:58:31.646198",
     "status": "completed"
    },
    "tags": []
   },
   "outputs": [],
   "source": [
    "if opt=='train' or opt=='test':\n",
    "    ##separate labels\n",
    "    labels = data['species']\n",
    "\n",
    "    ## drop information about timestamp\n",
    "    data = data.drop(['timestamp','species','index'],axis=1)\n",
    "else:\n",
    "    #TEMPORARY\n",
    "    ##separate labels\n",
    "    labels = data['species']\n",
    "\n",
    "    ## drop information about timestamp\n",
    "    data = data.drop(['timestamp','species','index'],axis=1)"
   ]
  },
  {
   "cell_type": "code",
   "execution_count": 10,
   "metadata": {
    "ExecuteTime": {
     "end_time": "2020-07-18T22:06:19.434890Z",
     "start_time": "2020-07-18T22:06:19.429296Z"
    },
    "execution": {
     "iopub.execute_input": "2020-07-19T01:58:31.724422Z",
     "iopub.status.busy": "2020-07-19T01:58:31.722529Z",
     "iopub.status.idle": "2020-07-19T01:58:31.726710Z",
     "shell.execute_reply": "2020-07-19T01:58:31.726239Z"
    },
    "papermill": {
     "duration": 0.032187,
     "end_time": "2020-07-19T01:58:31.726825",
     "exception": false,
     "start_time": "2020-07-19T01:58:31.694638",
     "status": "completed"
    },
    "tags": []
   },
   "outputs": [
    {
     "name": "stdout",
     "output_type": "stream",
     "text": [
      "THIS IS THE:///notebooks/\n"
     ]
    }
   ],
   "source": [
    "path = os.path.abspath(os.getcwd())+'/'\n",
    "\n",
    "\n",
    "\n",
    "if 'notebooks' not in path:\n",
    "    path = path+'/notebooks/'\n",
    "    \n",
    "print('THIS IS THE:'+path)\n",
    "\n",
    "if opt =='train':\n",
    "    ## encode the labels to numerical values\n",
    "    le = LabelEncoder()\n",
    "    l = le.fit_transform(labels)\n",
    "    \n",
    "    with open(path+'label_encoder.p','wb') as handle:\n",
    "        pickle.dump(le,handle,protocol=pickle.HIGHEST_PROTOCOL)  \n",
    "elif opt=='test':\n",
    "    with open(path+'label_encoder.p','rb') as handle:\n",
    "        le = pickle.load(handle)\n",
    "    l=le.transform(labels)\n",
    "elif opt=='validation':\n",
    "    pass"
   ]
  },
  {
   "cell_type": "code",
   "execution_count": 11,
   "metadata": {
    "ExecuteTime": {
     "end_time": "2020-07-18T22:06:19.441553Z",
     "start_time": "2020-07-18T22:06:19.438314Z"
    },
    "execution": {
     "iopub.execute_input": "2020-07-19T01:58:31.772394Z",
     "iopub.status.busy": "2020-07-19T01:58:31.770202Z",
     "iopub.status.idle": "2020-07-19T01:58:31.776009Z",
     "shell.execute_reply": "2020-07-19T01:58:31.775503Z"
    },
    "papermill": {
     "duration": 0.031069,
     "end_time": "2020-07-19T01:58:31.776124",
     "exception": false,
     "start_time": "2020-07-19T01:58:31.745055",
     "status": "completed"
    },
    "tags": []
   },
   "outputs": [
    {
     "data": {
      "text/plain": [
       "'///notebooks/'"
      ]
     },
     "execution_count": 11,
     "metadata": {},
     "output_type": "execute_result"
    }
   ],
   "source": [
    "path"
   ]
  },
  {
   "cell_type": "code",
   "execution_count": 12,
   "metadata": {
    "ExecuteTime": {
     "end_time": "2020-07-18T22:06:19.564369Z",
     "start_time": "2020-07-18T22:06:19.444596Z"
    },
    "execution": {
     "iopub.execute_input": "2020-07-19T01:58:31.821899Z",
     "iopub.status.busy": "2020-07-19T01:58:31.820648Z",
     "iopub.status.idle": "2020-07-19T01:58:32.443993Z",
     "shell.execute_reply": "2020-07-19T01:58:32.443561Z"
    },
    "papermill": {
     "duration": 0.648672,
     "end_time": "2020-07-19T01:58:32.444118",
     "exception": false,
     "start_time": "2020-07-19T01:58:31.795446",
     "status": "completed"
    },
    "tags": []
   },
   "outputs": [
    {
     "name": "stdout",
     "output_type": "stream",
     "text": [
      "feature_selection.ipynb  label_encoder.p  \u001b[0m\u001b[01;34moutput\u001b[0m/\r\n"
     ]
    }
   ],
   "source": [
    "ls notebooks"
   ]
  },
  {
   "cell_type": "code",
   "execution_count": 13,
   "metadata": {
    "ExecuteTime": {
     "end_time": "2020-07-18T22:06:19.754624Z",
     "start_time": "2020-07-18T22:06:19.566288Z"
    },
    "execution": {
     "iopub.execute_input": "2020-07-19T01:58:32.495836Z",
     "iopub.status.busy": "2020-07-19T01:58:32.493639Z",
     "iopub.status.idle": "2020-07-19T01:58:32.686595Z",
     "shell.execute_reply": "2020-07-19T01:58:32.686034Z"
    },
    "papermill": {
     "duration": 0.22232,
     "end_time": "2020-07-19T01:58:32.686729",
     "exception": false,
     "start_time": "2020-07-19T01:58:32.464409",
     "status": "completed"
    },
    "tags": []
   },
   "outputs": [],
   "source": [
    "with engine.connect() as conn:\n",
    "    if opt=='train' or opt=='test':\n",
    "        df = pd.concat([data,pd.Series(l,name='label')],axis=1)\n",
    "        df.to_sql(f'{opt}_preprocessed',conn,index=False,if_exists='replace')\n",
    "    elif opt=='validation':\n",
    "        df=data\n",
    "        df.to_sql(f'{opt}_preprocessed',conn,index=False,if_exists='replace')"
   ]
  },
  {
   "cell_type": "code",
   "execution_count": 14,
   "metadata": {
    "ExecuteTime": {
     "end_time": "2020-07-18T22:06:19.758957Z",
     "start_time": "2020-07-18T22:06:19.756340Z"
    },
    "execution": {
     "iopub.execute_input": "2020-07-19T01:58:32.731777Z",
     "iopub.status.busy": "2020-07-19T01:58:32.730347Z",
     "iopub.status.idle": "2020-07-19T01:58:32.735301Z",
     "shell.execute_reply": "2020-07-19T01:58:32.734674Z"
    },
    "papermill": {
     "duration": 0.029901,
     "end_time": "2020-07-19T01:58:32.735429",
     "exception": false,
     "start_time": "2020-07-19T01:58:32.705528",
     "status": "completed"
    },
    "tags": []
   },
   "outputs": [
    {
     "name": "stdout",
     "output_type": "stream",
     "text": [
      "worked feature selection using . validation\n"
     ]
    }
   ],
   "source": [
    "print(f'worked feature selection using . {opt}')"
   ]
  },
  {
   "cell_type": "code",
   "execution_count": null,
   "metadata": {
    "papermill": {
     "duration": 0.020493,
     "end_time": "2020-07-19T01:58:32.775578",
     "exception": false,
     "start_time": "2020-07-19T01:58:32.755085",
     "status": "completed"
    },
    "tags": []
   },
   "outputs": [],
   "source": []
  }
 ],
 "metadata": {
  "hide_input": false,
  "kernelspec": {
   "display_name": "Python (feature-selection)",
   "language": "python",
   "name": "venv-kensho-feature-selection"
  },
  "language_info": {
   "codemirror_mode": {
    "name": "ipython",
    "version": 3
   },
   "file_extension": ".py",
   "mimetype": "text/x-python",
   "name": "python",
   "nbconvert_exporter": "python",
   "pygments_lexer": "ipython3",
   "version": "3.7.8"
  },
  "papermill": {
   "duration": 5.269634,
   "end_time": "2020-07-19T01:58:34.059523",
   "environment_variables": {},
   "exception": null,
   "input_path": "notebooks/feature_selection.ipynb",
   "output_path": "notebooks/output/code_exec_444444.ipynb",
   "parameters": {},
   "start_time": "2020-07-19T01:58:28.789889",
   "version": "2.1.2"
  },
  "toc": {
   "base_numbering": 1,
   "nav_menu": {},
   "number_sections": true,
   "sideBar": true,
   "skip_h1_title": false,
   "title_cell": "Table of Contents",
   "title_sidebar": "Contents",
   "toc_cell": false,
   "toc_position": {},
   "toc_section_display": true,
   "toc_window_display": false
  },
  "varInspector": {
   "cols": {
    "lenName": 16,
    "lenType": 16,
    "lenVar": 40
   },
   "kernels_config": {
    "python": {
     "delete_cmd_postfix": "",
     "delete_cmd_prefix": "del ",
     "library": "var_list.py",
     "varRefreshCmd": "print(var_dic_list())"
    },
    "r": {
     "delete_cmd_postfix": ") ",
     "delete_cmd_prefix": "rm(",
     "library": "var_list.r",
     "varRefreshCmd": "cat(var_dic_list()) "
    }
   },
   "types_to_exclude": [
    "module",
    "function",
    "builtin_function_or_method",
    "instance",
    "_Feature"
   ],
   "window_display": false
  }
 },
 "nbformat": 4,
 "nbformat_minor": 4
}