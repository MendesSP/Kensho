{
 "cells": [
  {
   "cell_type": "code",
   "execution_count": 1,
   "metadata": {
    "ExecuteTime": {
     "end_time": "2020-07-18T22:06:18.265531Z",
     "start_time": "2020-07-18T22:06:18.262605Z"
    },
    "execution": {
     "iopub.execute_input": "2020-07-19T01:48:18.548776Z",
     "iopub.status.busy": "2020-07-19T01:48:18.546615Z",
     "iopub.status.idle": "2020-07-19T01:48:18.549349Z",
     "shell.execute_reply": "2020-07-19T01:48:18.549806Z"
    },
    "papermill": {
     "duration": 0.028486,
     "end_time": "2020-07-19T01:48:18.549999",
     "exception": false,
     "start_time": "2020-07-19T01:48:18.521513",
     "status": "completed"
    },
    "tags": []
   },
   "outputs": [],
   "source": [
    "###params\n",
    "import os\n",
    "try:\n",
    "    os.environ['OPT']\n",
    "except:\n",
    "    os.environ['OPT']='train'\n",
    "opt = os.environ['OPT']\n",
    "opt='validation'"
   ]
  },
  {
   "cell_type": "code",
   "execution_count": 2,
   "metadata": {
    "ExecuteTime": {
     "end_time": "2020-07-18T22:06:18.270180Z",
     "start_time": "2020-07-18T22:06:18.267547Z"
    },
    "execution": {
     "iopub.execute_input": "2020-07-19T01:48:18.587878Z",
     "iopub.status.busy": "2020-07-19T01:48:18.587272Z",
     "iopub.status.idle": "2020-07-19T01:48:18.590070Z",
     "shell.execute_reply": "2020-07-19T01:48:18.589471Z"
    },
    "papermill": {
     "duration": 0.024674,
     "end_time": "2020-07-19T01:48:18.590188",
     "exception": false,
     "start_time": "2020-07-19T01:48:18.565514",
     "status": "completed"
    },
    "tags": []
   },
   "outputs": [
    {
     "name": "stdout",
     "output_type": "stream",
     "text": [
      "name of the variable:docker.for.mac.host.internal\n"
     ]
    }
   ],
   "source": [
    "try:\n",
    "    print(f'name of the variable:{os.environ[\"DB_HOST\"]}')\n",
    "except:\n",
    "    print('variable not there')"
   ]
  },
  {
   "cell_type": "markdown",
   "metadata": {
    "papermill": {
     "duration": 0.015884,
     "end_time": "2020-07-19T01:48:18.621946",
     "exception": false,
     "start_time": "2020-07-19T01:48:18.606062",
     "status": "completed"
    },
    "tags": []
   },
   "source": [
    "# Description\n",
    "\n",
    "- Process the dataset to train the model\n",
    "- Create the labels\n",
    "\n",
    "to test the notebook\n",
    "- papermill notebooks/feature_selection.ipynb notebooks/output/code_exec.ipynb --log-output\n",
    "\n",
    "Run from a docker image\n",
    "\n",
    "- to build: docker build . -t feature_selection\n",
    "- to run: docker run -it  -v /Users/mendes/tech_interview/Kensho/applications/feature_selection/notebooks:/notebooks -e EXECUTION_ID=444444 -e DB_HOST=docker.for.mac.host.internal -e OPT=train feature_selection -p 3306:3306 \n",
    "\n",
    "obs: Change the DB_HOST env variable when not in MAC"
   ]
  },
  {
   "cell_type": "code",
   "execution_count": 3,
   "metadata": {
    "ExecuteTime": {
     "end_time": "2020-07-18T22:06:18.343181Z",
     "start_time": "2020-07-18T22:06:18.334979Z"
    },
    "execution": {
     "iopub.execute_input": "2020-07-19T01:48:18.667148Z",
     "iopub.status.busy": "2020-07-19T01:48:18.665935Z",
     "iopub.status.idle": "2020-07-19T01:48:18.670274Z",
     "shell.execute_reply": "2020-07-19T01:48:18.669729Z"
    },
    "papermill": {
     "duration": 0.031542,
     "end_time": "2020-07-19T01:48:18.670401",
     "exception": false,
     "start_time": "2020-07-19T01:48:18.638859",
     "status": "completed"
    },
    "tags": []
   },
   "outputs": [
    {
     "data": {
      "text/plain": [
       "'/'"
      ]
     },
     "execution_count": 3,
     "metadata": {},
     "output_type": "execute_result"
    }
   ],
   "source": [
    "pwd"
   ]
  },
  {
   "cell_type": "markdown",
   "metadata": {
    "papermill": {
     "duration": 0.015879,
     "end_time": "2020-07-19T01:48:18.703174",
     "exception": false,
     "start_time": "2020-07-19T01:48:18.687295",
     "status": "completed"
    },
    "tags": []
   },
   "source": [
    "# Import libraries and define functions and paths"
   ]
  },
  {
   "cell_type": "markdown",
   "metadata": {
    "papermill": {
     "duration": 0.016706,
     "end_time": "2020-07-19T01:48:18.736343",
     "exception": false,
     "start_time": "2020-07-19T01:48:18.719637",
     "status": "completed"
    },
    "tags": []
   },
   "source": [
    "## libraries"
   ]
  },
  {
   "cell_type": "code",
   "execution_count": 4,
   "metadata": {
    "ExecuteTime": {
     "end_time": "2020-07-18T22:06:19.168835Z",
     "start_time": "2020-07-18T22:06:18.488835Z"
    },
    "execution": {
     "iopub.execute_input": "2020-07-19T01:48:18.778626Z",
     "iopub.status.busy": "2020-07-19T01:48:18.777308Z",
     "iopub.status.idle": "2020-07-19T01:48:19.481304Z",
     "shell.execute_reply": "2020-07-19T01:48:19.480483Z"
    },
    "papermill": {
     "duration": 0.727905,
     "end_time": "2020-07-19T01:48:19.481459",
     "exception": false,
     "start_time": "2020-07-19T01:48:18.753554",
     "status": "completed"
    },
    "tags": []
   },
   "outputs": [],
   "source": [
    "import pandas as pd\n",
    "import datetime\n",
    "import os\n",
    "import sqlalchemy as db\n",
    "from sklearn.preprocessing import LabelEncoder\n",
    "import pickle"
   ]
  },
  {
   "cell_type": "markdown",
   "metadata": {
    "papermill": {
     "duration": 0.016422,
     "end_time": "2020-07-19T01:48:19.514334",
     "exception": false,
     "start_time": "2020-07-19T01:48:19.497912",
     "status": "completed"
    },
    "tags": []
   },
   "source": [
    "## functions"
   ]
  },
  {
   "cell_type": "code",
   "execution_count": 5,
   "metadata": {
    "ExecuteTime": {
     "end_time": "2020-07-18T22:06:19.176064Z",
     "start_time": "2020-07-18T22:06:19.170806Z"
    },
    "execution": {
     "iopub.execute_input": "2020-07-19T01:48:19.558523Z",
     "iopub.status.busy": "2020-07-19T01:48:19.557821Z",
     "iopub.status.idle": "2020-07-19T01:48:19.560418Z",
     "shell.execute_reply": "2020-07-19T01:48:19.560943Z"
    },
    "papermill": {
     "duration": 0.028755,
     "end_time": "2020-07-19T01:48:19.561090",
     "exception": false,
     "start_time": "2020-07-19T01:48:19.532335",
     "status": "completed"
    },
    "tags": []
   },
   "outputs": [],
   "source": [
    "def get_connection():\n",
    "    try:\n",
    "        os.environ[\"DB_HOST\"]\n",
    "    except:\n",
    "        os.environ[\"DB_HOST\"] = \"localhost\"\n",
    "        \n",
    "    print(f'name of the variable inside function:{os.environ[\"DB_HOST\"]}')\n",
    "\n",
    "\n",
    "\n",
    "    # specify database configurations\n",
    "    config = {\n",
    "        'host': os.environ['DB_HOST'],\n",
    "        'port': 3306,\n",
    "        'user': 'mendes',\n",
    "        'password': 'test',\n",
    "        'database': 'test_db'\n",
    "    }\n",
    "    db_user = config.get('user')\n",
    "    db_pwd = config.get('password')\n",
    "    db_host = config.get('host')\n",
    "    db_port = config.get('port')\n",
    "    db_name = config.get('database')\n",
    "    # specify connection string\n",
    "    connection_str = f'mysql+pymysql://{db_user}:{db_pwd}@{db_host}:{db_port}/{db_name}'\n",
    "    # connect to database\n",
    "    engine = db.create_engine(connection_str)\n",
    "    return engine"
   ]
  },
  {
   "cell_type": "markdown",
   "metadata": {
    "papermill": {
     "duration": 0.018065,
     "end_time": "2020-07-19T01:48:19.596110",
     "exception": false,
     "start_time": "2020-07-19T01:48:19.578045",
     "status": "completed"
    },
    "tags": []
   },
   "source": [
    "## Paths"
   ]
  },
  {
   "cell_type": "code",
   "execution_count": 6,
   "metadata": {
    "ExecuteTime": {
     "end_time": "2020-07-18T22:06:19.298217Z",
     "start_time": "2020-07-18T22:06:19.178672Z"
    },
    "execution": {
     "iopub.execute_input": "2020-07-19T01:48:19.639182Z",
     "iopub.status.busy": "2020-07-19T01:48:19.638584Z",
     "iopub.status.idle": "2020-07-19T01:48:20.241640Z",
     "shell.execute_reply": "2020-07-19T01:48:20.240965Z"
    },
    "papermill": {
     "duration": 0.62773,
     "end_time": "2020-07-19T01:48:20.241782",
     "exception": false,
     "start_time": "2020-07-19T01:48:19.614052",
     "status": "completed"
    },
    "tags": []
   },
   "outputs": [
    {
     "name": "stdout",
     "output_type": "stream",
     "text": [
      "docker.for.mac.host.internal\r\n"
     ]
    }
   ],
   "source": [
    "!echo $DB_HOST"
   ]
  },
  {
   "cell_type": "markdown",
   "metadata": {
    "papermill": {
     "duration": 0.019181,
     "end_time": "2020-07-19T01:48:20.279869",
     "exception": false,
     "start_time": "2020-07-19T01:48:20.260688",
     "status": "completed"
    },
    "tags": []
   },
   "source": [
    "# Connect SQL DB and transfer data"
   ]
  },
  {
   "cell_type": "code",
   "execution_count": 7,
   "metadata": {
    "ExecuteTime": {
     "end_time": "2020-07-18T22:06:19.325697Z",
     "start_time": "2020-07-18T22:06:19.300894Z"
    },
    "execution": {
     "iopub.execute_input": "2020-07-19T01:48:20.324019Z",
     "iopub.status.busy": "2020-07-19T01:48:20.323010Z",
     "iopub.status.idle": "2020-07-19T01:48:20.350840Z",
     "shell.execute_reply": "2020-07-19T01:48:20.350309Z"
    },
    "papermill": {
     "duration": 0.050872,
     "end_time": "2020-07-19T01:48:20.350966",
     "exception": false,
     "start_time": "2020-07-19T01:48:20.300094",
     "status": "completed"
    },
    "tags": []
   },
   "outputs": [
    {
     "name": "stdout",
     "output_type": "stream",
     "text": [
      "name of the variable inside function:docker.for.mac.host.internal\n"
     ]
    }
   ],
   "source": [
    "engine = get_connection()"
   ]
  },
  {
   "cell_type": "markdown",
   "metadata": {
    "papermill": {
     "duration": 0.018693,
     "end_time": "2020-07-19T01:48:20.387004",
     "exception": false,
     "start_time": "2020-07-19T01:48:20.368311",
     "status": "completed"
    },
    "tags": []
   },
   "source": [
    "## Process dataset"
   ]
  },
  {
   "cell_type": "code",
   "execution_count": 8,
   "metadata": {
    "ExecuteTime": {
     "end_time": "2020-07-18T22:06:19.420166Z",
     "start_time": "2020-07-18T22:06:19.328044Z"
    },
    "execution": {
     "iopub.execute_input": "2020-07-19T01:48:20.428503Z",
     "iopub.status.busy": "2020-07-19T01:48:20.427676Z",
     "iopub.status.idle": "2020-07-19T01:48:20.545988Z",
     "shell.execute_reply": "2020-07-19T01:48:20.545529Z"
    },
    "papermill": {
     "duration": 0.141502,
     "end_time": "2020-07-19T01:48:20.546135",
     "exception": false,
     "start_time": "2020-07-19T01:48:20.404633",
     "status": "completed"
    },
    "tags": []
   },
   "outputs": [],
   "source": [
    "with engine.connect() as conn:\n",
    "    sql = f'SELECT * FROM {opt};'\n",
    "    data = pd.read_sql(sql,conn)"
   ]
  },
  {
   "cell_type": "code",
   "execution_count": 9,
   "metadata": {
    "ExecuteTime": {
     "end_time": "2020-07-18T22:06:19.427569Z",
     "start_time": "2020-07-18T22:06:19.421949Z"
    },
    "execution": {
     "iopub.execute_input": "2020-07-19T01:48:20.590704Z",
     "iopub.status.busy": "2020-07-19T01:48:20.589864Z",
     "iopub.status.idle": "2020-07-19T01:48:20.593420Z",
     "shell.execute_reply": "2020-07-19T01:48:20.593892Z"
    },
    "papermill": {
     "duration": 0.029557,
     "end_time": "2020-07-19T01:48:20.594037",
     "exception": false,
     "start_time": "2020-07-19T01:48:20.564480",
     "status": "completed"
    },
    "tags": []
   },
   "outputs": [],
   "source": [
    "if opt=='train' or opt=='test':\n",
    "    ##separate labels\n",
    "    labels = data['species']\n",
    "\n",
    "    ## drop information about timestamp\n",
    "    data = data.drop(['timestamp','species','index'],axis=1)\n",
    "else:\n",
    "    #TEMPORARY\n",
    "    ##separate labels\n",
    "    labels = data['species']\n",
    "\n",
    "    ## drop information about timestamp\n",
    "    data = data.drop(['timestamp','species','index'],axis=1)"
   ]
  },
  {
   "cell_type": "code",
   "execution_count": 10,
   "metadata": {
    "ExecuteTime": {
     "end_time": "2020-07-18T22:06:19.434890Z",
     "start_time": "2020-07-18T22:06:19.429296Z"
    },
    "execution": {
     "iopub.execute_input": "2020-07-19T01:48:20.639571Z",
     "iopub.status.busy": "2020-07-19T01:48:20.638067Z",
     "iopub.status.idle": "2020-07-19T01:48:20.642621Z",
     "shell.execute_reply": "2020-07-19T01:48:20.643030Z"
    },
    "papermill": {
     "duration": 0.031289,
     "end_time": "2020-07-19T01:48:20.643172",
     "exception": false,
     "start_time": "2020-07-19T01:48:20.611883",
     "status": "completed"
    },
    "tags": []
   },
   "outputs": [
    {
     "name": "stdout",
     "output_type": "stream",
     "text": [
      "THIS IS THE:///notebooks/\n"
     ]
    }
   ],
   "source": [
    "path = os.path.abspath(os.getcwd())+'/'\n",
    "\n",
    "\n",
    "\n",
    "if 'notebooks' not in path:\n",
    "    path = path+'/notebooks/'\n",
    "    \n",
    "print('THIS IS THE:'+path)\n",
    "\n",
    "if opt =='train':\n",
    "    ## encode the labels to numerical values\n",
    "    le = LabelEncoder()\n",
    "    l = le.fit_transform(labels)\n",
    "    \n",
    "    with open(path+'label_encoder.p','wb') as handle:\n",
    "        pickle.dump(le,handle,protocol=pickle.HIGHEST_PROTOCOL)  \n",
    "elif opt=='test':\n",
    "    with open(path+'label_encoder.p','rb') as handle:\n",
    "        le = pickle.load(handle)\n",
    "    l=le.transform(labels)\n",
    "elif opt=='validation':\n",
    "    pass"
   ]
  },
  {
   "cell_type": "code",
   "execution_count": 11,
   "metadata": {
    "ExecuteTime": {
     "end_time": "2020-07-18T22:06:19.441553Z",
     "start_time": "2020-07-18T22:06:19.438314Z"
    },
    "execution": {
     "iopub.execute_input": "2020-07-19T01:48:20.687412Z",
     "iopub.status.busy": "2020-07-19T01:48:20.686228Z",
     "iopub.status.idle": "2020-07-19T01:48:20.691108Z",
     "shell.execute_reply": "2020-07-19T01:48:20.690562Z"
    },
    "papermill": {
     "duration": 0.029542,
     "end_time": "2020-07-19T01:48:20.691225",
     "exception": false,
     "start_time": "2020-07-19T01:48:20.661683",
     "status": "completed"
    },
    "tags": []
   },
   "outputs": [
    {
     "data": {
      "text/plain": [
       "'///notebooks/'"
      ]
     },
     "execution_count": 11,
     "metadata": {},
     "output_type": "execute_result"
    }
   ],
   "source": [
    "path"
   ]
  },
  {
   "cell_type": "code",
   "execution_count": 12,
   "metadata": {
    "ExecuteTime": {
     "end_time": "2020-07-18T22:06:19.564369Z",
     "start_time": "2020-07-18T22:06:19.444596Z"
    },
    "execution": {
     "iopub.execute_input": "2020-07-19T01:48:20.748306Z",
     "iopub.status.busy": "2020-07-19T01:48:20.747606Z",
     "iopub.status.idle": "2020-07-19T01:48:21.346181Z",
     "shell.execute_reply": "2020-07-19T01:48:21.345666Z"
    },
    "papermill": {
     "duration": 0.636175,
     "end_time": "2020-07-19T01:48:21.346329",
     "exception": false,
     "start_time": "2020-07-19T01:48:20.710154",
     "status": "completed"
    },
    "tags": []
   },
   "outputs": [
    {
     "name": "stdout",
     "output_type": "stream",
     "text": [
      "feature_selection.ipynb  label_encoder.p  \u001b[0m\u001b[01;34moutput\u001b[0m/\r\n"
     ]
    }
   ],
   "source": [
    "ls notebooks"
   ]
  },
  {
   "cell_type": "code",
   "execution_count": 13,
   "metadata": {
    "ExecuteTime": {
     "end_time": "2020-07-18T22:06:19.754624Z",
     "start_time": "2020-07-18T22:06:19.566288Z"
    },
    "execution": {
     "iopub.execute_input": "2020-07-19T01:48:21.400993Z",
     "iopub.status.busy": "2020-07-19T01:48:21.399516Z",
     "iopub.status.idle": "2020-07-19T01:48:21.599231Z",
     "shell.execute_reply": "2020-07-19T01:48:21.598758Z"
    },
    "papermill": {
     "duration": 0.232645,
     "end_time": "2020-07-19T01:48:21.599367",
     "exception": false,
     "start_time": "2020-07-19T01:48:21.366722",
     "status": "completed"
    },
    "tags": []
   },
   "outputs": [],
   "source": [
    "with engine.connect() as conn:\n",
    "    if opt=='train' or opt=='test':\n",
    "        df = pd.concat([data,pd.Series(l,name='label')],axis=1)\n",
    "        df.to_sql(f'{opt}_preprocessed',conn,index=False,if_exists='replace')\n",
    "    elif opt=='validation':\n",
    "        df=data\n",
    "        df.to_sql(f'{opt}_preprocessed',conn,index=False,if_exists='replace')"
   ]
  },
  {
   "cell_type": "code",
   "execution_count": 14,
   "metadata": {
    "ExecuteTime": {
     "end_time": "2020-07-18T22:06:19.758957Z",
     "start_time": "2020-07-18T22:06:19.756340Z"
    },
    "execution": {
     "iopub.execute_input": "2020-07-19T01:48:21.647412Z",
     "iopub.status.busy": "2020-07-19T01:48:21.646493Z",
     "iopub.status.idle": "2020-07-19T01:48:21.651857Z",
     "shell.execute_reply": "2020-07-19T01:48:21.651235Z"
    },
    "papermill": {
     "duration": 0.031726,
     "end_time": "2020-07-19T01:48:21.651975",
     "exception": false,
     "start_time": "2020-07-19T01:48:21.620249",
     "status": "completed"
    },
    "tags": []
   },
   "outputs": [
    {
     "name": "stdout",
     "output_type": "stream",
     "text": [
      "worked feature selection using . validation\n"
     ]
    }
   ],
   "source": [
    "print(f'worked feature selection using . {opt}')"
   ]
  },
  {
   "cell_type": "code",
   "execution_count": null,
   "metadata": {
    "papermill": {
     "duration": 0.020711,
     "end_time": "2020-07-19T01:48:21.692353",
     "exception": false,
     "start_time": "2020-07-19T01:48:21.671642",
     "status": "completed"
    },
    "tags": []
   },
   "outputs": [],
   "source": []
  }
 ],
 "metadata": {
  "hide_input": false,
  "kernelspec": {
   "display_name": "Python (feature-selection)",
   "language": "python",
   "name": "venv-kensho-feature-selection"
  },
  "language_info": {
   "codemirror_mode": {
    "name": "ipython",
    "version": 3
   },
   "file_extension": ".py",
   "mimetype": "text/x-python",
   "name": "python",
   "nbconvert_exporter": "python",
   "pygments_lexer": "ipython3",
   "version": "3.7.8"
  },
  "papermill": {
   "duration": 5.260712,
   "end_time": "2020-07-19T01:48:22.892604",
   "environment_variables": {},
   "exception": null,
   "input_path": "notebooks/feature_selection.ipynb",
   "output_path": "notebooks/output/code_exec_444444.ipynb",
   "parameters": {},
   "start_time": "2020-07-19T01:48:17.631892",
   "version": "2.1.2"
  },
  "toc": {
   "base_numbering": 1,
   "nav_menu": {},
   "number_sections": true,
   "sideBar": true,
   "skip_h1_title": false,
   "title_cell": "Table of Contents",
   "title_sidebar": "Contents",
   "toc_cell": false,
   "toc_position": {},
   "toc_section_display": true,
   "toc_window_display": false
  },
  "varInspector": {
   "cols": {
    "lenName": 16,
    "lenType": 16,
    "lenVar": 40
   },
   "kernels_config": {
    "python": {
     "delete_cmd_postfix": "",
     "delete_cmd_prefix": "del ",
     "library": "var_list.py",
     "varRefreshCmd": "print(var_dic_list())"
    },
    "r": {
     "delete_cmd_postfix": ") ",
     "delete_cmd_prefix": "rm(",
     "library": "var_list.r",
     "varRefreshCmd": "cat(var_dic_list()) "
    }
   },
   "types_to_exclude": [
    "module",
    "function",
    "builtin_function_or_method",
    "instance",
    "_Feature"
   ],
   "window_display": false
  }
 },
 "nbformat": 4,
 "nbformat_minor": 4
}