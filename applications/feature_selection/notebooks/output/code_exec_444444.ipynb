{
 "cells": [
  {
   "cell_type": "code",
   "execution_count": 1,
   "metadata": {
    "ExecuteTime": {
     "end_time": "2020-07-18T21:50:09.480602Z",
     "start_time": "2020-07-18T21:50:09.477722Z"
    },
    "execution": {
     "iopub.execute_input": "2020-07-18T21:52:22.739973Z",
     "iopub.status.busy": "2020-07-18T21:52:22.739412Z",
     "iopub.status.idle": "2020-07-18T21:52:22.742940Z",
     "shell.execute_reply": "2020-07-18T21:52:22.742446Z"
    },
    "papermill": {
     "duration": 0.025717,
     "end_time": "2020-07-18T21:52:22.743082",
     "exception": false,
     "start_time": "2020-07-18T21:52:22.717365",
     "status": "completed"
    },
    "tags": []
   },
   "outputs": [],
   "source": [
    "###params\n",
    "import os\n",
    "try:\n",
    "    os.environ['OPT']\n",
    "except:\n",
    "    os.environ['OPT']='train'\n",
    "opt = os.environ['OPT']\n",
    "opt='test'"
   ]
  },
  {
   "cell_type": "code",
   "execution_count": 2,
   "metadata": {
    "ExecuteTime": {
     "end_time": "2020-07-18T21:50:09.485307Z",
     "start_time": "2020-07-18T21:50:09.482560Z"
    },
    "execution": {
     "iopub.execute_input": "2020-07-18T21:52:22.782191Z",
     "iopub.status.busy": "2020-07-18T21:52:22.781195Z",
     "iopub.status.idle": "2020-07-18T21:52:22.787623Z",
     "shell.execute_reply": "2020-07-18T21:52:22.787117Z"
    },
    "papermill": {
     "duration": 0.027225,
     "end_time": "2020-07-18T21:52:22.787765",
     "exception": false,
     "start_time": "2020-07-18T21:52:22.760540",
     "status": "completed"
    },
    "tags": []
   },
   "outputs": [
    {
     "name": "stdout",
     "output_type": "stream",
     "text": [
      "name of the variable:docker.for.mac.host.internal\n"
     ]
    }
   ],
   "source": [
    "try:\n",
    "    print(f'name of the variable:{os.environ[\"DB_HOST\"]}')\n",
    "except:\n",
    "    print('variable not there')"
   ]
  },
  {
   "cell_type": "markdown",
   "metadata": {
    "papermill": {
     "duration": 0.016278,
     "end_time": "2020-07-18T21:52:22.821960",
     "exception": false,
     "start_time": "2020-07-18T21:52:22.805682",
     "status": "completed"
    },
    "tags": []
   },
   "source": [
    "# Description\n",
    "\n",
    "- Process the dataset to train the model\n",
    "- Create the labels\n",
    "\n",
    "to test the notebook\n",
    "- papermill notebooks/feature_selection.ipynb notebooks/output/code_exec.ipynb --log-output\n",
    "\n",
    "Run from a docker image\n",
    "\n",
    "- to build: docker build . -t feature_selection\n",
    "- to run: docker run -it  -v /Users/mendes/tech_interview/Kensho/applications/feature_selection/notebooks:/notebooks -e EXECUTION_ID=444444 -e DB_HOST=docker.for.mac.host.internal -e OPT=train feature_selection -p 3306:3306 \n",
    "\n",
    "obs: Change the DB_HOST env variable when not in MAC"
   ]
  },
  {
   "cell_type": "code",
   "execution_count": 3,
   "metadata": {
    "ExecuteTime": {
     "end_time": "2020-07-18T21:50:09.559970Z",
     "start_time": "2020-07-18T21:50:09.551241Z"
    },
    "execution": {
     "iopub.execute_input": "2020-07-18T21:52:22.868868Z",
     "iopub.status.busy": "2020-07-18T21:52:22.868132Z",
     "iopub.status.idle": "2020-07-18T21:52:22.872212Z",
     "shell.execute_reply": "2020-07-18T21:52:22.872611Z"
    },
    "papermill": {
     "duration": 0.033854,
     "end_time": "2020-07-18T21:52:22.872757",
     "exception": false,
     "start_time": "2020-07-18T21:52:22.838903",
     "status": "completed"
    },
    "tags": []
   },
   "outputs": [
    {
     "data": {
      "text/plain": [
       "'/'"
      ]
     },
     "execution_count": 3,
     "metadata": {},
     "output_type": "execute_result"
    }
   ],
   "source": [
    "pwd"
   ]
  },
  {
   "cell_type": "markdown",
   "metadata": {
    "papermill": {
     "duration": 0.017452,
     "end_time": "2020-07-18T21:52:22.907548",
     "exception": false,
     "start_time": "2020-07-18T21:52:22.890096",
     "status": "completed"
    },
    "tags": []
   },
   "source": [
    "# Import libraries and define functions and paths"
   ]
  },
  {
   "cell_type": "markdown",
   "metadata": {
    "papermill": {
     "duration": 0.016655,
     "end_time": "2020-07-18T21:52:22.941801",
     "exception": false,
     "start_time": "2020-07-18T21:52:22.925146",
     "status": "completed"
    },
    "tags": []
   },
   "source": [
    "## libraries"
   ]
  },
  {
   "cell_type": "code",
   "execution_count": 4,
   "metadata": {
    "ExecuteTime": {
     "end_time": "2020-07-18T21:50:10.339507Z",
     "start_time": "2020-07-18T21:50:09.701067Z"
    },
    "execution": {
     "iopub.execute_input": "2020-07-18T21:52:22.983495Z",
     "iopub.status.busy": "2020-07-18T21:52:22.982937Z",
     "iopub.status.idle": "2020-07-18T21:52:23.629544Z",
     "shell.execute_reply": "2020-07-18T21:52:23.628923Z"
    },
    "papermill": {
     "duration": 0.669499,
     "end_time": "2020-07-18T21:52:23.629675",
     "exception": false,
     "start_time": "2020-07-18T21:52:22.960176",
     "status": "completed"
    },
    "tags": []
   },
   "outputs": [],
   "source": [
    "import pandas as pd\n",
    "import datetime\n",
    "import os\n",
    "import sqlalchemy as db\n",
    "from sklearn.preprocessing import LabelEncoder\n",
    "import pickle"
   ]
  },
  {
   "cell_type": "markdown",
   "metadata": {
    "papermill": {
     "duration": 0.017511,
     "end_time": "2020-07-18T21:52:23.665216",
     "exception": false,
     "start_time": "2020-07-18T21:52:23.647705",
     "status": "completed"
    },
    "tags": []
   },
   "source": [
    "## functions"
   ]
  },
  {
   "cell_type": "code",
   "execution_count": 5,
   "metadata": {
    "ExecuteTime": {
     "end_time": "2020-07-18T21:50:10.346987Z",
     "start_time": "2020-07-18T21:50:10.341662Z"
    },
    "execution": {
     "iopub.execute_input": "2020-07-18T21:52:23.711726Z",
     "iopub.status.busy": "2020-07-18T21:52:23.710770Z",
     "iopub.status.idle": "2020-07-18T21:52:23.715098Z",
     "shell.execute_reply": "2020-07-18T21:52:23.714500Z"
    },
    "papermill": {
     "duration": 0.031374,
     "end_time": "2020-07-18T21:52:23.715229",
     "exception": false,
     "start_time": "2020-07-18T21:52:23.683855",
     "status": "completed"
    },
    "tags": []
   },
   "outputs": [],
   "source": [
    "def get_connection():\n",
    "    try:\n",
    "        os.environ[\"DB_HOST\"]\n",
    "    except:\n",
    "        os.environ[\"DB_HOST\"] = \"localhost\"\n",
    "        \n",
    "    print(f'name of the variable inside function:{os.environ[\"DB_HOST\"]}')\n",
    "\n",
    "\n",
    "\n",
    "    # specify database configurations\n",
    "    config = {\n",
    "        'host': os.environ['DB_HOST'],\n",
    "        'port': 3306,\n",
    "        'user': 'mendes',\n",
    "        'password': 'test',\n",
    "        'database': 'test_db'\n",
    "    }\n",
    "    db_user = config.get('user')\n",
    "    db_pwd = config.get('password')\n",
    "    db_host = config.get('host')\n",
    "    db_port = config.get('port')\n",
    "    db_name = config.get('database')\n",
    "    # specify connection string\n",
    "    connection_str = f'mysql+pymysql://{db_user}:{db_pwd}@{db_host}:{db_port}/{db_name}'\n",
    "    # connect to database\n",
    "    engine = db.create_engine(connection_str)\n",
    "    return engine"
   ]
  },
  {
   "cell_type": "markdown",
   "metadata": {
    "papermill": {
     "duration": 0.017804,
     "end_time": "2020-07-18T21:52:23.751577",
     "exception": false,
     "start_time": "2020-07-18T21:52:23.733773",
     "status": "completed"
    },
    "tags": []
   },
   "source": [
    "## Paths"
   ]
  },
  {
   "cell_type": "code",
   "execution_count": 6,
   "metadata": {
    "ExecuteTime": {
     "end_time": "2020-07-18T21:50:10.465499Z",
     "start_time": "2020-07-18T21:50:10.350492Z"
    },
    "execution": {
     "iopub.execute_input": "2020-07-18T21:52:23.793285Z",
     "iopub.status.busy": "2020-07-18T21:52:23.792368Z",
     "iopub.status.idle": "2020-07-18T21:52:24.396842Z",
     "shell.execute_reply": "2020-07-18T21:52:24.396290Z"
    },
    "papermill": {
     "duration": 0.627269,
     "end_time": "2020-07-18T21:52:24.396989",
     "exception": false,
     "start_time": "2020-07-18T21:52:23.769720",
     "status": "completed"
    },
    "tags": []
   },
   "outputs": [
    {
     "name": "stdout",
     "output_type": "stream",
     "text": [
      "docker.for.mac.host.internal\r\n"
     ]
    }
   ],
   "source": [
    "!echo $DB_HOST"
   ]
  },
  {
   "cell_type": "markdown",
   "metadata": {
    "papermill": {
     "duration": 0.019501,
     "end_time": "2020-07-18T21:52:24.435456",
     "exception": false,
     "start_time": "2020-07-18T21:52:24.415955",
     "status": "completed"
    },
    "tags": []
   },
   "source": [
    "# Connect SQL DB and transfer data"
   ]
  },
  {
   "cell_type": "code",
   "execution_count": 7,
   "metadata": {
    "ExecuteTime": {
     "end_time": "2020-07-18T21:50:10.493333Z",
     "start_time": "2020-07-18T21:50:10.467995Z"
    },
    "execution": {
     "iopub.execute_input": "2020-07-18T21:52:24.479165Z",
     "iopub.status.busy": "2020-07-18T21:52:24.478568Z",
     "iopub.status.idle": "2020-07-18T21:52:24.503378Z",
     "shell.execute_reply": "2020-07-18T21:52:24.502961Z"
    },
    "papermill": {
     "duration": 0.049959,
     "end_time": "2020-07-18T21:52:24.503501",
     "exception": false,
     "start_time": "2020-07-18T21:52:24.453542",
     "status": "completed"
    },
    "tags": []
   },
   "outputs": [
    {
     "name": "stdout",
     "output_type": "stream",
     "text": [
      "name of the variable inside function:docker.for.mac.host.internal\n"
     ]
    }
   ],
   "source": [
    "engine = get_connection()"
   ]
  },
  {
   "cell_type": "markdown",
   "metadata": {
    "papermill": {
     "duration": 0.019106,
     "end_time": "2020-07-18T21:52:24.540153",
     "exception": false,
     "start_time": "2020-07-18T21:52:24.521047",
     "status": "completed"
    },
    "tags": []
   },
   "source": [
    "## Process dataset"
   ]
  },
  {
   "cell_type": "code",
   "execution_count": 8,
   "metadata": {
    "ExecuteTime": {
     "end_time": "2020-07-18T21:50:10.537438Z",
     "start_time": "2020-07-18T21:50:10.495562Z"
    },
    "execution": {
     "iopub.execute_input": "2020-07-18T21:52:24.583706Z",
     "iopub.status.busy": "2020-07-18T21:52:24.582630Z",
     "iopub.status.idle": "2020-07-18T21:52:24.629633Z",
     "shell.execute_reply": "2020-07-18T21:52:24.630134Z"
    },
    "papermill": {
     "duration": 0.07178,
     "end_time": "2020-07-18T21:52:24.630297",
     "exception": false,
     "start_time": "2020-07-18T21:52:24.558517",
     "status": "completed"
    },
    "tags": []
   },
   "outputs": [],
   "source": [
    "with engine.connect() as conn:\n",
    "    sql = f'SELECT * FROM {opt};'\n",
    "    data = pd.read_sql(sql,conn)"
   ]
  },
  {
   "cell_type": "code",
   "execution_count": 9,
   "metadata": {
    "ExecuteTime": {
     "end_time": "2020-07-18T21:50:10.543732Z",
     "start_time": "2020-07-18T21:50:10.538991Z"
    },
    "execution": {
     "iopub.execute_input": "2020-07-18T21:52:24.680901Z",
     "iopub.status.busy": "2020-07-18T21:52:24.678712Z",
     "iopub.status.idle": "2020-07-18T21:52:24.681520Z",
     "shell.execute_reply": "2020-07-18T21:52:24.681982Z"
    },
    "papermill": {
     "duration": 0.032314,
     "end_time": "2020-07-18T21:52:24.682121",
     "exception": false,
     "start_time": "2020-07-18T21:52:24.649807",
     "status": "completed"
    },
    "tags": []
   },
   "outputs": [],
   "source": [
    "if opt=='train' or opt=='test':\n",
    "    ##separate labels\n",
    "    labels = data['species']\n",
    "\n",
    "    ## drop information about timestamp\n",
    "    data = data.drop(['timestamp','species','index'],axis=1)\n",
    "else:\n",
    "    #TEMPORARY\n",
    "    ##separate labels\n",
    "    labels = data['species']\n",
    "\n",
    "    ## drop information about timestamp\n",
    "    data = data.drop(['timestamp','species','index'],axis=1)"
   ]
  },
  {
   "cell_type": "code",
   "execution_count": 10,
   "metadata": {
    "ExecuteTime": {
     "end_time": "2020-07-18T21:50:10.551319Z",
     "start_time": "2020-07-18T21:50:10.545577Z"
    },
    "execution": {
     "iopub.execute_input": "2020-07-18T21:52:24.731280Z",
     "iopub.status.busy": "2020-07-18T21:52:24.730283Z",
     "iopub.status.idle": "2020-07-18T21:52:24.736699Z",
     "shell.execute_reply": "2020-07-18T21:52:24.737109Z"
    },
    "papermill": {
     "duration": 0.035257,
     "end_time": "2020-07-18T21:52:24.737248",
     "exception": false,
     "start_time": "2020-07-18T21:52:24.701991",
     "status": "completed"
    },
    "tags": []
   },
   "outputs": [
    {
     "name": "stdout",
     "output_type": "stream",
     "text": [
      "THIS IS THE:///notebooks/\n"
     ]
    }
   ],
   "source": [
    "path = os.path.abspath(os.getcwd())+'/'\n",
    "\n",
    "\n",
    "\n",
    "if 'notebooks' not in path:\n",
    "    path = path+'/notebooks/'\n",
    "    \n",
    "print('THIS IS THE:'+path)\n",
    "\n",
    "if opt =='train':\n",
    "    ## encode the labels to numerical values\n",
    "    le = LabelEncoder()\n",
    "    l = le.fit_transform(labels)\n",
    "    \n",
    "    with open(path+'label_encoder.p','wb') as handle:\n",
    "        pickle.dump(le,handle,protocol=pickle.HIGHEST_PROTOCOL)  \n",
    "elif opt=='test':\n",
    "    with open(path+'label_encoder.p','rb') as handle:\n",
    "        le = pickle.load(handle)\n",
    "    l=le.transform(labels)\n",
    "elif opt=='validation':\n",
    "    pass"
   ]
  },
  {
   "cell_type": "code",
   "execution_count": 11,
   "metadata": {
    "ExecuteTime": {
     "end_time": "2020-07-18T21:50:10.558918Z",
     "start_time": "2020-07-18T21:50:10.555641Z"
    },
    "execution": {
     "iopub.execute_input": "2020-07-18T21:52:24.783560Z",
     "iopub.status.busy": "2020-07-18T21:52:24.782218Z",
     "iopub.status.idle": "2020-07-18T21:52:24.787354Z",
     "shell.execute_reply": "2020-07-18T21:52:24.787869Z"
    },
    "papermill": {
     "duration": 0.029888,
     "end_time": "2020-07-18T21:52:24.788028",
     "exception": false,
     "start_time": "2020-07-18T21:52:24.758140",
     "status": "completed"
    },
    "tags": []
   },
   "outputs": [
    {
     "data": {
      "text/plain": [
       "'///notebooks/'"
      ]
     },
     "execution_count": 11,
     "metadata": {},
     "output_type": "execute_result"
    }
   ],
   "source": [
    "path"
   ]
  },
  {
   "cell_type": "code",
   "execution_count": 12,
   "metadata": {
    "ExecuteTime": {
     "end_time": "2020-07-18T21:50:10.680804Z",
     "start_time": "2020-07-18T21:50:10.561890Z"
    },
    "execution": {
     "iopub.execute_input": "2020-07-18T21:52:24.838970Z",
     "iopub.status.busy": "2020-07-18T21:52:24.837345Z",
     "iopub.status.idle": "2020-07-18T21:52:25.441940Z",
     "shell.execute_reply": "2020-07-18T21:52:25.441225Z"
    },
    "papermill": {
     "duration": 0.634787,
     "end_time": "2020-07-18T21:52:25.442082",
     "exception": false,
     "start_time": "2020-07-18T21:52:24.807295",
     "status": "completed"
    },
    "tags": []
   },
   "outputs": [
    {
     "name": "stdout",
     "output_type": "stream",
     "text": [
      "feature_selection.ipynb  label_encoder.p  \u001b[0m\u001b[01;34moutput\u001b[0m/\r\n"
     ]
    }
   ],
   "source": [
    "ls notebooks"
   ]
  },
  {
   "cell_type": "code",
   "execution_count": 13,
   "metadata": {
    "ExecuteTime": {
     "end_time": "2020-07-18T21:50:10.754006Z",
     "start_time": "2020-07-18T21:50:10.682880Z"
    },
    "execution": {
     "iopub.execute_input": "2020-07-18T21:52:25.498031Z",
     "iopub.status.busy": "2020-07-18T21:52:25.496360Z",
     "iopub.status.idle": "2020-07-18T21:52:25.559949Z",
     "shell.execute_reply": "2020-07-18T21:52:25.559315Z"
    },
    "papermill": {
     "duration": 0.096871,
     "end_time": "2020-07-18T21:52:25.560084",
     "exception": false,
     "start_time": "2020-07-18T21:52:25.463213",
     "status": "completed"
    },
    "tags": []
   },
   "outputs": [],
   "source": [
    "with engine.connect() as conn:\n",
    "    if opt=='train' or opt=='test':\n",
    "        df = pd.concat([data,pd.Series(l,name='label')],axis=1)\n",
    "        df.to_sql(f'{opt}_preprocessed',conn,index=False,if_exists='replace')\n",
    "    elif opt=='validation':\n",
    "        df=data\n",
    "        df.to_sql(f'{opt}_preprocessed',conn,index=False,if_exists='replace')"
   ]
  },
  {
   "cell_type": "code",
   "execution_count": 14,
   "metadata": {
    "ExecuteTime": {
     "end_time": "2020-07-18T21:50:10.758347Z",
     "start_time": "2020-07-18T21:50:10.755684Z"
    },
    "execution": {
     "iopub.execute_input": "2020-07-18T21:52:25.609459Z",
     "iopub.status.busy": "2020-07-18T21:52:25.608061Z",
     "iopub.status.idle": "2020-07-18T21:52:25.613175Z",
     "shell.execute_reply": "2020-07-18T21:52:25.612640Z"
    },
    "papermill": {
     "duration": 0.030396,
     "end_time": "2020-07-18T21:52:25.613299",
     "exception": false,
     "start_time": "2020-07-18T21:52:25.582903",
     "status": "completed"
    },
    "tags": []
   },
   "outputs": [
    {
     "name": "stdout",
     "output_type": "stream",
     "text": [
      "worked feature selection using . test\n"
     ]
    }
   ],
   "source": [
    "print(f'worked feature selection using . {opt}')"
   ]
  },
  {
   "cell_type": "code",
   "execution_count": 15,
   "metadata": {
    "ExecuteTime": {
     "end_time": "2020-07-18T21:50:41.420886Z",
     "start_time": "2020-07-18T21:50:41.413552Z"
    },
    "execution": {
     "iopub.execute_input": "2020-07-18T21:52:25.666491Z",
     "iopub.status.busy": "2020-07-18T21:52:25.665910Z",
     "iopub.status.idle": "2020-07-18T21:52:25.672368Z",
     "shell.execute_reply": "2020-07-18T21:52:25.671505Z"
    },
    "papermill": {
     "duration": 0.037217,
     "end_time": "2020-07-18T21:52:25.672507",
     "exception": false,
     "start_time": "2020-07-18T21:52:25.635290",
     "status": "completed"
    },
    "tags": []
   },
   "outputs": [
    {
     "data": {
      "text/html": [
       "<div>\n",
       "<style scoped>\n",
       "    .dataframe tbody tr th:only-of-type {\n",
       "        vertical-align: middle;\n",
       "    }\n",
       "\n",
       "    .dataframe tbody tr th {\n",
       "        vertical-align: top;\n",
       "    }\n",
       "\n",
       "    .dataframe thead th {\n",
       "        text-align: right;\n",
       "    }\n",
       "</style>\n",
       "<table border=\"1\" class=\"dataframe\">\n",
       "  <thead>\n",
       "    <tr style=\"text-align: right;\">\n",
       "      <th></th>\n",
       "      <th>sepal_length</th>\n",
       "      <th>sepal_width</th>\n",
       "      <th>petal_length</th>\n",
       "      <th>petal_width</th>\n",
       "      <th>label</th>\n",
       "    </tr>\n",
       "  </thead>\n",
       "  <tbody>\n",
       "  </tbody>\n",
       "</table>\n",
       "</div>"
      ],
      "text/plain": [
       "Empty DataFrame\n",
       "Columns: [sepal_length, sepal_width, petal_length, petal_width, label]\n",
       "Index: []"
      ]
     },
     "execution_count": 15,
     "metadata": {},
     "output_type": "execute_result"
    }
   ],
   "source": [
    "df"
   ]
  },
  {
   "cell_type": "code",
   "execution_count": null,
   "metadata": {
    "papermill": {
     "duration": 0.022409,
     "end_time": "2020-07-18T21:52:25.716921",
     "exception": false,
     "start_time": "2020-07-18T21:52:25.694512",
     "status": "completed"
    },
    "tags": []
   },
   "outputs": [],
   "source": []
  }
 ],
 "metadata": {
  "hide_input": false,
  "kernelspec": {
   "display_name": "Python (feature-selection)",
   "language": "python",
   "name": "venv-kensho-feature-selection"
  },
  "language_info": {
   "codemirror_mode": {
    "name": "ipython",
    "version": 3
   },
   "file_extension": ".py",
   "mimetype": "text/x-python",
   "name": "python",
   "nbconvert_exporter": "python",
   "pygments_lexer": "ipython3",
   "version": "3.7.8"
  },
  "papermill": {
   "duration": 4.200481,
   "end_time": "2020-07-18T21:52:26.046691",
   "environment_variables": {},
   "exception": null,
   "input_path": "notebooks/feature_selection.ipynb",
   "output_path": "notebooks/output/code_exec_444444.ipynb",
   "parameters": {},
   "start_time": "2020-07-18T21:52:21.846210",
   "version": "2.1.2"
  },
  "toc": {
   "base_numbering": 1,
   "nav_menu": {},
   "number_sections": true,
   "sideBar": true,
   "skip_h1_title": false,
   "title_cell": "Table of Contents",
   "title_sidebar": "Contents",
   "toc_cell": false,
   "toc_position": {},
   "toc_section_display": true,
   "toc_window_display": false
  },
  "varInspector": {
   "cols": {
    "lenName": 16,
    "lenType": 16,
    "lenVar": 40
   },
   "kernels_config": {
    "python": {
     "delete_cmd_postfix": "",
     "delete_cmd_prefix": "del ",
     "library": "var_list.py",
     "varRefreshCmd": "print(var_dic_list())"
    },
    "r": {
     "delete_cmd_postfix": ") ",
     "delete_cmd_prefix": "rm(",
     "library": "var_list.r",
     "varRefreshCmd": "cat(var_dic_list()) "
    }
   },
   "types_to_exclude": [
    "module",
    "function",
    "builtin_function_or_method",
    "instance",
    "_Feature"
   ],
   "window_display": false
  }
 },
 "nbformat": 4,
 "nbformat_minor": 4
}