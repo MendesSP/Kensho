{
 "cells": [
  {
   "cell_type": "code",
   "execution_count": 1,
   "metadata": {
    "ExecuteTime": {
     "end_time": "2020-07-18T17:52:46.778214Z",
     "start_time": "2020-07-18T17:52:46.775604Z"
    },
    "execution": {
     "iopub.execute_input": "2020-07-18T17:55:38.158024Z",
     "iopub.status.busy": "2020-07-18T17:55:38.157313Z",
     "iopub.status.idle": "2020-07-18T17:55:38.159265Z",
     "shell.execute_reply": "2020-07-18T17:55:38.159668Z"
    },
    "papermill": {
     "duration": 0.016985,
     "end_time": "2020-07-18T17:55:38.159933",
     "exception": false,
     "start_time": "2020-07-18T17:55:38.142948",
     "status": "completed"
    },
    "tags": []
   },
   "outputs": [],
   "source": [
    "###params\n",
    "import os\n",
    "try:\n",
    "    os.environ['OPT']\n",
    "except:\n",
    "    os.environ['OPT']='validation'\n",
    "opt = os.environ['OPT']"
   ]
  },
  {
   "cell_type": "markdown",
   "metadata": {
    "papermill": {
     "duration": 0.007103,
     "end_time": "2020-07-18T17:55:38.175442",
     "exception": false,
     "start_time": "2020-07-18T17:55:38.168339",
     "status": "completed"
    },
    "tags": []
   },
   "source": [
    "# Description\n",
    "\n",
    "- Process the dataset to train the model\n",
    "- Create the labels\n",
    "\n",
    "to test the notebook\n",
    "- papermill notebooks/feature_selection.ipynb notebooks/output/code_exec.ipynb --log-output"
   ]
  },
  {
   "cell_type": "markdown",
   "metadata": {
    "papermill": {
     "duration": 0.007677,
     "end_time": "2020-07-18T17:55:38.191299",
     "exception": false,
     "start_time": "2020-07-18T17:55:38.183622",
     "status": "completed"
    },
    "tags": []
   },
   "source": [
    "# Import libraries and define functions and paths"
   ]
  },
  {
   "cell_type": "markdown",
   "metadata": {
    "papermill": {
     "duration": 0.006996,
     "end_time": "2020-07-18T17:55:38.206759",
     "exception": false,
     "start_time": "2020-07-18T17:55:38.199763",
     "status": "completed"
    },
    "tags": []
   },
   "source": [
    "## libraries"
   ]
  },
  {
   "cell_type": "code",
   "execution_count": 2,
   "metadata": {
    "ExecuteTime": {
     "end_time": "2020-07-18T17:43:18.386575Z",
     "start_time": "2020-07-18T17:43:17.883231Z"
    },
    "execution": {
     "iopub.execute_input": "2020-07-18T17:55:38.226974Z",
     "iopub.status.busy": "2020-07-18T17:55:38.226253Z",
     "iopub.status.idle": "2020-07-18T17:55:38.844583Z",
     "shell.execute_reply": "2020-07-18T17:55:38.845015Z"
    },
    "papermill": {
     "duration": 0.630363,
     "end_time": "2020-07-18T17:55:38.845234",
     "exception": false,
     "start_time": "2020-07-18T17:55:38.214871",
     "status": "completed"
    },
    "tags": []
   },
   "outputs": [],
   "source": [
    "import pandas as pd\n",
    "import datetime\n",
    "import os\n",
    "import sqlalchemy as db\n",
    "from sklearn.preprocessing import LabelEncoder\n",
    "import pickle"
   ]
  },
  {
   "cell_type": "markdown",
   "metadata": {
    "papermill": {
     "duration": 0.007162,
     "end_time": "2020-07-18T17:55:38.859862",
     "exception": false,
     "start_time": "2020-07-18T17:55:38.852700",
     "status": "completed"
    },
    "tags": []
   },
   "source": [
    "## functions"
   ]
  },
  {
   "cell_type": "code",
   "execution_count": 3,
   "metadata": {
    "ExecuteTime": {
     "end_time": "2020-07-18T17:43:18.681104Z",
     "start_time": "2020-07-18T17:43:18.675448Z"
    },
    "execution": {
     "iopub.execute_input": "2020-07-18T17:55:38.882421Z",
     "iopub.status.busy": "2020-07-18T17:55:38.881730Z",
     "iopub.status.idle": "2020-07-18T17:55:38.883548Z",
     "shell.execute_reply": "2020-07-18T17:55:38.884053Z"
    },
    "papermill": {
     "duration": 0.016441,
     "end_time": "2020-07-18T17:55:38.884277",
     "exception": false,
     "start_time": "2020-07-18T17:55:38.867836",
     "status": "completed"
    },
    "tags": []
   },
   "outputs": [],
   "source": [
    "def get_connection():\n",
    "    try:\n",
    "        os.environ[\"DB_HOST\"]\n",
    "    except:\n",
    "        os.environ[\"DB_HOST\"] = \"localhost\"\n",
    "\n",
    "\n",
    "\n",
    "    # specify database configurations\n",
    "    config = {\n",
    "        'host': os.environ['DB_HOST'],\n",
    "        'port': 3306,\n",
    "        'user': 'mendes',\n",
    "        'password': 'test',\n",
    "        'database': 'test_db'\n",
    "    }\n",
    "    db_user = config.get('user')\n",
    "    db_pwd = config.get('password')\n",
    "    db_host = config.get('host')\n",
    "    db_port = config.get('port')\n",
    "    db_name = config.get('database')\n",
    "    # specify connection string\n",
    "    connection_str = f'mysql+pymysql://{db_user}:{db_pwd}@{db_host}:{db_port}/{db_name}'\n",
    "    # connect to database\n",
    "    engine = db.create_engine(connection_str)\n",
    "    return engine"
   ]
  },
  {
   "cell_type": "markdown",
   "metadata": {
    "papermill": {
     "duration": 0.008075,
     "end_time": "2020-07-18T17:55:38.900265",
     "exception": false,
     "start_time": "2020-07-18T17:55:38.892190",
     "status": "completed"
    },
    "tags": []
   },
   "source": [
    "## Paths"
   ]
  },
  {
   "cell_type": "code",
   "execution_count": null,
   "metadata": {
    "ExecuteTime": {
     "end_time": "2020-07-18T15:35:00.147397Z",
     "start_time": "2020-07-18T15:35:00.145003Z"
    },
    "papermill": {
     "duration": 0.008267,
     "end_time": "2020-07-18T17:55:38.915829",
     "exception": false,
     "start_time": "2020-07-18T17:55:38.907562",
     "status": "completed"
    },
    "tags": []
   },
   "outputs": [],
   "source": []
  },
  {
   "cell_type": "markdown",
   "metadata": {
    "papermill": {
     "duration": 0.008311,
     "end_time": "2020-07-18T17:55:38.931927",
     "exception": false,
     "start_time": "2020-07-18T17:55:38.923616",
     "status": "completed"
    },
    "tags": []
   },
   "source": [
    "# Connect SQL DB and transfer data"
   ]
  },
  {
   "cell_type": "code",
   "execution_count": 4,
   "metadata": {
    "ExecuteTime": {
     "end_time": "2020-07-18T17:43:20.409743Z",
     "start_time": "2020-07-18T17:43:20.387352Z"
    },
    "execution": {
     "iopub.execute_input": "2020-07-18T17:55:38.951939Z",
     "iopub.status.busy": "2020-07-18T17:55:38.951366Z",
     "iopub.status.idle": "2020-07-18T17:55:38.971692Z",
     "shell.execute_reply": "2020-07-18T17:55:38.972192Z"
    },
    "papermill": {
     "duration": 0.033097,
     "end_time": "2020-07-18T17:55:38.972419",
     "exception": false,
     "start_time": "2020-07-18T17:55:38.939322",
     "status": "completed"
    },
    "tags": []
   },
   "outputs": [],
   "source": [
    "engine = get_connection()"
   ]
  },
  {
   "cell_type": "markdown",
   "metadata": {
    "papermill": {
     "duration": 0.007771,
     "end_time": "2020-07-18T17:55:38.988534",
     "exception": false,
     "start_time": "2020-07-18T17:55:38.980763",
     "status": "completed"
    },
    "tags": []
   },
   "source": [
    "## Process dataset"
   ]
  },
  {
   "cell_type": "code",
   "execution_count": 5,
   "metadata": {
    "ExecuteTime": {
     "end_time": "2020-07-18T17:43:21.004722Z",
     "start_time": "2020-07-18T17:43:20.963677Z"
    },
    "execution": {
     "iopub.execute_input": "2020-07-18T17:55:39.008543Z",
     "iopub.status.busy": "2020-07-18T17:55:39.007953Z",
     "iopub.status.idle": "2020-07-18T17:55:39.046302Z",
     "shell.execute_reply": "2020-07-18T17:55:39.046751Z"
    },
    "papermill": {
     "duration": 0.050139,
     "end_time": "2020-07-18T17:55:39.046960",
     "exception": false,
     "start_time": "2020-07-18T17:55:38.996821",
     "status": "completed"
    },
    "tags": []
   },
   "outputs": [],
   "source": [
    "with engine.connect() as conn:\n",
    "    sql = f'SELECT * FROM {opt};'\n",
    "    data = pd.read_sql(sql,conn)"
   ]
  },
  {
   "cell_type": "code",
   "execution_count": 6,
   "metadata": {
    "ExecuteTime": {
     "end_time": "2020-07-18T17:43:21.726062Z",
     "start_time": "2020-07-18T17:43:21.721986Z"
    },
    "execution": {
     "iopub.execute_input": "2020-07-18T17:55:39.068906Z",
     "iopub.status.busy": "2020-07-18T17:55:39.068293Z",
     "iopub.status.idle": "2020-07-18T17:55:39.070361Z",
     "shell.execute_reply": "2020-07-18T17:55:39.070791Z"
    },
    "papermill": {
     "duration": 0.016219,
     "end_time": "2020-07-18T17:55:39.071015",
     "exception": false,
     "start_time": "2020-07-18T17:55:39.054796",
     "status": "completed"
    },
    "tags": []
   },
   "outputs": [],
   "source": [
    "if opt=='train' or opt=='test':\n",
    "    ##separate labels\n",
    "    labels = data['species']\n",
    "\n",
    "    ## drop information about timestamp\n",
    "    data = data.drop(['timestamp','species','index'],axis=1)\n",
    "else:\n",
    "    #TEMPORARY\n",
    "    ##separate labels\n",
    "    labels = data['species']\n",
    "\n",
    "    ## drop information about timestamp\n",
    "    data = data.drop(['timestamp','species','index'],axis=1)"
   ]
  },
  {
   "cell_type": "code",
   "execution_count": 7,
   "metadata": {
    "ExecuteTime": {
     "end_time": "2020-07-18T17:43:26.975271Z",
     "start_time": "2020-07-18T17:43:26.971082Z"
    },
    "execution": {
     "iopub.execute_input": "2020-07-18T17:55:39.093653Z",
     "iopub.status.busy": "2020-07-18T17:55:39.092893Z",
     "iopub.status.idle": "2020-07-18T17:55:39.094736Z",
     "shell.execute_reply": "2020-07-18T17:55:39.095212Z"
    },
    "papermill": {
     "duration": 0.015705,
     "end_time": "2020-07-18T17:55:39.095439",
     "exception": false,
     "start_time": "2020-07-18T17:55:39.079734",
     "status": "completed"
    },
    "tags": []
   },
   "outputs": [],
   "source": [
    "if opt =='train':\n",
    "    ## encode the labels to numerical values\n",
    "    le = LabelEncoder()\n",
    "    l = le.fit_transform(labels)\n",
    "    \n",
    "    with open('label_encoder.p','wb') as handle:\n",
    "        pickle.dump(le,handle,protocol=pickle.HIGHEST_PROTOCOL)  \n",
    "elif opt=='test':\n",
    "    with open('label_encoder.p','rb') as handle:\n",
    "        le = pickle.load(handle)\n",
    "    l=le.transform(labels)\n",
    "elif opt=='validation':\n",
    "    pass"
   ]
  },
  {
   "cell_type": "code",
   "execution_count": 8,
   "metadata": {
    "ExecuteTime": {
     "end_time": "2020-07-18T17:44:05.793482Z",
     "start_time": "2020-07-18T17:44:05.754315Z"
    },
    "execution": {
     "iopub.execute_input": "2020-07-18T17:55:39.119472Z",
     "iopub.status.busy": "2020-07-18T17:55:39.118637Z",
     "iopub.status.idle": "2020-07-18T17:55:39.182786Z",
     "shell.execute_reply": "2020-07-18T17:55:39.183225Z"
    },
    "papermill": {
     "duration": 0.079653,
     "end_time": "2020-07-18T17:55:39.183415",
     "exception": false,
     "start_time": "2020-07-18T17:55:39.103762",
     "status": "completed"
    },
    "tags": []
   },
   "outputs": [],
   "source": [
    "with engine.connect() as conn:\n",
    "    if opt=='train' or opt=='test':\n",
    "        df = pd.concat([data,pd.Series(l,name='label')],axis=1)\n",
    "        df.to_sql(f'{opt}_preprocessed',conn,index=False,if_exists='replace')\n",
    "    elif opt=='validation':\n",
    "        df=data\n",
    "        df.to_sql(f'{opt}_preprocessed',conn,index=False,if_exists='replace')"
   ]
  },
  {
   "cell_type": "code",
   "execution_count": 9,
   "metadata": {
    "ExecuteTime": {
     "end_time": "2020-07-18T17:44:30.004204Z",
     "start_time": "2020-07-18T17:44:30.001513Z"
    },
    "execution": {
     "iopub.execute_input": "2020-07-18T17:55:39.204863Z",
     "iopub.status.busy": "2020-07-18T17:55:39.204188Z",
     "iopub.status.idle": "2020-07-18T17:55:39.206634Z",
     "shell.execute_reply": "2020-07-18T17:55:39.207116Z"
    },
    "papermill": {
     "duration": 0.015793,
     "end_time": "2020-07-18T17:55:39.207356",
     "exception": false,
     "start_time": "2020-07-18T17:55:39.191563",
     "status": "completed"
    },
    "tags": []
   },
   "outputs": [
    {
     "name": "stdout",
     "output_type": "stream",
     "text": [
      "worked feature selection\n"
     ]
    }
   ],
   "source": [
    "print('worked feature selection')"
   ]
  },
  {
   "cell_type": "code",
   "execution_count": null,
   "metadata": {
    "papermill": {
     "duration": 0.008141,
     "end_time": "2020-07-18T17:55:39.224766",
     "exception": false,
     "start_time": "2020-07-18T17:55:39.216625",
     "status": "completed"
    },
    "tags": []
   },
   "outputs": [],
   "source": []
  }
 ],
 "metadata": {
  "hide_input": false,
  "kernelspec": {
   "display_name": "Python (feature-selection)",
   "language": "python",
   "name": "venv-kensho-feature-selection"
  },
  "language_info": {
   "codemirror_mode": {
    "name": "ipython",
    "version": 3
   },
   "file_extension": ".py",
   "mimetype": "text/x-python",
   "name": "python",
   "nbconvert_exporter": "python",
   "pygments_lexer": "ipython3",
   "version": "3.7.7"
  },
  "papermill": {
   "duration": 3.272243,
   "end_time": "2020-07-18T17:55:40.456221",
   "environment_variables": {},
   "exception": null,
   "input_path": "notebooks/feature_selection.ipynb",
   "output_path": "notebooks/output/code_exec.ipynb",
   "parameters": {},
   "start_time": "2020-07-18T17:55:37.183978",
   "version": "2.1.2"
  },
  "toc": {
   "base_numbering": 1,
   "nav_menu": {},
   "number_sections": true,
   "sideBar": true,
   "skip_h1_title": false,
   "title_cell": "Table of Contents",
   "title_sidebar": "Contents",
   "toc_cell": false,
   "toc_position": {},
   "toc_section_display": true,
   "toc_window_display": false
  },
  "varInspector": {
   "cols": {
    "lenName": 16,
    "lenType": 16,
    "lenVar": 40
   },
   "kernels_config": {
    "python": {
     "delete_cmd_postfix": "",
     "delete_cmd_prefix": "del ",
     "library": "var_list.py",
     "varRefreshCmd": "print(var_dic_list())"
    },
    "r": {
     "delete_cmd_postfix": ") ",
     "delete_cmd_prefix": "rm(",
     "library": "var_list.r",
     "varRefreshCmd": "cat(var_dic_list()) "
    }
   },
   "types_to_exclude": [
    "module",
    "function",
    "builtin_function_or_method",
    "instance",
    "_Feature"
   ],
   "window_display": false
  }
 },
 "nbformat": 4,
 "nbformat_minor": 4
}