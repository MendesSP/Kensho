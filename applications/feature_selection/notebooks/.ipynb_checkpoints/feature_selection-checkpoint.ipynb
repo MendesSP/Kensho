{
 "cells": [
  {
   "cell_type": "code",
   "execution_count": 1,
   "metadata": {
    "ExecuteTime": {
     "end_time": "2020-07-18T22:06:18.265531Z",
     "start_time": "2020-07-18T22:06:18.262605Z"
    }
   },
   "outputs": [],
   "source": [
    "###params\n",
    "import os\n",
    "try:\n",
    "    os.environ['OPT']\n",
    "except:\n",
    "    os.environ['OPT']='train'\n",
    "opt = os.environ['OPT']\n",
    "opt='train'"
   ]
  },
  {
   "cell_type": "code",
   "execution_count": 2,
   "metadata": {
    "ExecuteTime": {
     "end_time": "2020-07-18T22:06:18.270180Z",
     "start_time": "2020-07-18T22:06:18.267547Z"
    }
   },
   "outputs": [],
   "source": [
    "try:\n",
    "    print(f'name of the variable:{os.environ[\"DB_HOST\"]}')\n",
    "except:\n",
    "    print('variable not there')"
   ]
  },
  {
   "cell_type": "markdown",
   "metadata": {},
   "source": [
    "# Description\n",
    "\n",
    "- Process the dataset to train the model\n",
    "- Create the labels\n",
    "\n",
    "to test the notebook\n",
    "- papermill notebooks/feature_selection.ipynb notebooks/output/code_exec.ipynb --log-output\n",
    "\n",
    "Run from a docker image\n",
    "\n",
    "- to build: docker build . -t feature_selection\n",
    "- to run: docker run -it  -v /Users/mendes/tech_interview/Kensho/applications/feature_selection/notebooks:/notebooks -e EXECUTION_ID=444444 -e DB_HOST=docker.for.mac.host.internal -e OPT=train feature_selection -p 3306:3306 \n",
    "\n",
    "obs: Change the DB_HOST env variable when not in MAC"
   ]
  },
  {
   "cell_type": "code",
   "execution_count": 3,
   "metadata": {
    "ExecuteTime": {
     "end_time": "2020-07-18T22:06:18.343181Z",
     "start_time": "2020-07-18T22:06:18.334979Z"
    }
   },
   "outputs": [
    {
     "data": {
      "text/plain": [
       "'/Users/mendes/tech_interview/Kensho/applications/feature_selection/notebooks'"
      ]
     },
     "execution_count": 3,
     "metadata": {},
     "output_type": "execute_result"
    }
   ],
   "source": [
    "pwd"
   ]
  },
  {
   "cell_type": "markdown",
   "metadata": {},
   "source": [
    "# Import libraries and define functions and paths"
   ]
  },
  {
   "cell_type": "markdown",
   "metadata": {},
   "source": [
    "## libraries"
   ]
  },
  {
   "cell_type": "code",
   "execution_count": 4,
   "metadata": {
    "ExecuteTime": {
     "end_time": "2020-07-18T22:06:19.168835Z",
     "start_time": "2020-07-18T22:06:18.488835Z"
    }
   },
   "outputs": [],
   "source": [
    "import pandas as pd\n",
    "import datetime\n",
    "import os\n",
    "import sqlalchemy as db\n",
    "from sklearn.preprocessing import LabelEncoder\n",
    "import pickle"
   ]
  },
  {
   "cell_type": "markdown",
   "metadata": {},
   "source": [
    "## functions"
   ]
  },
  {
   "cell_type": "code",
   "execution_count": 5,
   "metadata": {
    "ExecuteTime": {
     "end_time": "2020-07-18T22:06:19.176064Z",
     "start_time": "2020-07-18T22:06:19.170806Z"
    }
   },
   "outputs": [],
   "source": [
    "def get_connection():\n",
    "    try:\n",
    "        os.environ[\"DB_HOST\"]\n",
    "    except:\n",
    "        os.environ[\"DB_HOST\"] = \"localhost\"\n",
    "        \n",
    "    print(f'name of the variable inside function:{os.environ[\"DB_HOST\"]}')\n",
    "\n",
    "\n",
    "\n",
    "    # specify database configurations\n",
    "    config = {\n",
    "        'host': os.environ['DB_HOST'],\n",
    "        'port': 3306,\n",
    "        'user': 'mendes',\n",
    "        'password': 'test',\n",
    "        'database': 'test_db'\n",
    "    }\n",
    "    db_user = config.get('user')\n",
    "    db_pwd = config.get('password')\n",
    "    db_host = config.get('host')\n",
    "    db_port = config.get('port')\n",
    "    db_name = config.get('database')\n",
    "    # specify connection string\n",
    "    connection_str = f'mysql+pymysql://{db_user}:{db_pwd}@{db_host}:{db_port}/{db_name}'\n",
    "    # connect to database\n",
    "    engine = db.create_engine(connection_str)\n",
    "    return engine"
   ]
  },
  {
   "cell_type": "markdown",
   "metadata": {},
   "source": [
    "## Paths"
   ]
  },
  {
   "cell_type": "code",
   "execution_count": 6,
   "metadata": {
    "ExecuteTime": {
     "end_time": "2020-07-18T22:06:19.298217Z",
     "start_time": "2020-07-18T22:06:19.178672Z"
    }
   },
   "outputs": [
    {
     "name": "stdout",
     "output_type": "stream",
     "text": [
      "\r\n"
     ]
    }
   ],
   "source": [
    "!echo $DB_HOST"
   ]
  },
  {
   "cell_type": "markdown",
   "metadata": {},
   "source": [
    "# Connect SQL DB and transfer data"
   ]
  },
  {
   "cell_type": "code",
   "execution_count": 7,
   "metadata": {
    "ExecuteTime": {
     "end_time": "2020-07-18T22:06:19.325697Z",
     "start_time": "2020-07-18T22:06:19.300894Z"
    }
   },
   "outputs": [
    {
     "name": "stdout",
     "output_type": "stream",
     "text": [
      "name of the variable inside function:localhost\n"
     ]
    }
   ],
   "source": [
    "engine = get_connection()"
   ]
  },
  {
   "cell_type": "markdown",
   "metadata": {},
   "source": [
    "## Process dataset"
   ]
  },
  {
   "cell_type": "code",
   "execution_count": 8,
   "metadata": {
    "ExecuteTime": {
     "end_time": "2020-07-18T22:06:19.420166Z",
     "start_time": "2020-07-18T22:06:19.328044Z"
    }
   },
   "outputs": [],
   "source": [
    "with engine.connect() as conn:\n",
    "    sql = f'SELECT * FROM {opt};'\n",
    "    data = pd.read_sql(sql,conn)"
   ]
  },
  {
   "cell_type": "code",
   "execution_count": 9,
   "metadata": {
    "ExecuteTime": {
     "end_time": "2020-07-18T22:06:19.427569Z",
     "start_time": "2020-07-18T22:06:19.421949Z"
    }
   },
   "outputs": [],
   "source": [
    "if opt=='train' or opt=='test':\n",
    "    ##separate labels\n",
    "    labels = data['species']\n",
    "\n",
    "    ## drop information about timestamp\n",
    "    data = data.drop(['timestamp','species','index'],axis=1)\n",
    "else:\n",
    "    #TEMPORARY\n",
    "    ##separate labels\n",
    "    labels = data['species']\n",
    "\n",
    "    ## drop information about timestamp\n",
    "    data = data.drop(['timestamp','species','index'],axis=1)"
   ]
  },
  {
   "cell_type": "code",
   "execution_count": 10,
   "metadata": {
    "ExecuteTime": {
     "end_time": "2020-07-18T22:06:19.434890Z",
     "start_time": "2020-07-18T22:06:19.429296Z"
    }
   },
   "outputs": [
    {
     "name": "stdout",
     "output_type": "stream",
     "text": [
      "THIS IS THE:/Users/mendes/tech_interview/Kensho/applications/feature_selection/notebooks/\n"
     ]
    }
   ],
   "source": [
    "path = os.path.abspath(os.getcwd())+'/'\n",
    "\n",
    "\n",
    "\n",
    "if 'notebooks' not in path:\n",
    "    path = path+'/notebooks/'\n",
    "    \n",
    "print('THIS IS THE:'+path)\n",
    "\n",
    "if opt =='train':\n",
    "    ## encode the labels to numerical values\n",
    "    le = LabelEncoder()\n",
    "    l = le.fit_transform(labels)\n",
    "    \n",
    "    with open(path+'label_encoder.p','wb') as handle:\n",
    "        pickle.dump(le,handle,protocol=pickle.HIGHEST_PROTOCOL)  \n",
    "elif opt=='test':\n",
    "    with open(path+'label_encoder.p','rb') as handle:\n",
    "        le = pickle.load(handle)\n",
    "    l=le.transform(labels)\n",
    "elif opt=='validation':\n",
    "    pass"
   ]
  },
  {
   "cell_type": "code",
   "execution_count": 11,
   "metadata": {
    "ExecuteTime": {
     "end_time": "2020-07-18T22:06:19.441553Z",
     "start_time": "2020-07-18T22:06:19.438314Z"
    }
   },
   "outputs": [
    {
     "data": {
      "text/plain": [
       "'/Users/mendes/tech_interview/Kensho/applications/feature_selection/notebooks/'"
      ]
     },
     "execution_count": 11,
     "metadata": {},
     "output_type": "execute_result"
    }
   ],
   "source": [
    "path"
   ]
  },
  {
   "cell_type": "code",
   "execution_count": 12,
   "metadata": {
    "ExecuteTime": {
     "end_time": "2020-07-18T22:06:19.564369Z",
     "start_time": "2020-07-18T22:06:19.444596Z"
    }
   },
   "outputs": [
    {
     "name": "stdout",
     "output_type": "stream",
     "text": [
      "ls: notebooks: No such file or directory\r\n"
     ]
    }
   ],
   "source": [
    "ls notebooks"
   ]
  },
  {
   "cell_type": "code",
   "execution_count": 13,
   "metadata": {
    "ExecuteTime": {
     "end_time": "2020-07-18T22:06:19.754624Z",
     "start_time": "2020-07-18T22:06:19.566288Z"
    }
   },
   "outputs": [],
   "source": [
    "with engine.connect() as conn:\n",
    "    if opt=='train' or opt=='test':\n",
    "        df = pd.concat([data,pd.Series(l,name='label')],axis=1)\n",
    "        df.to_sql(f'{opt}_preprocessed',conn,index=False,if_exists='replace')\n",
    "    elif opt=='validation':\n",
    "        df=data\n",
    "        df.to_sql(f'{opt}_preprocessed',conn,index=False,if_exists='replace')"
   ]
  },
  {
   "cell_type": "code",
   "execution_count": 14,
   "metadata": {
    "ExecuteTime": {
     "end_time": "2020-07-18T22:06:19.758957Z",
     "start_time": "2020-07-18T22:06:19.756340Z"
    }
   },
   "outputs": [
    {
     "name": "stdout",
     "output_type": "stream",
     "text": [
      "worked feature selection using . validation\n"
     ]
    }
   ],
   "source": [
    "print(f'worked feature selection using . {opt}')"
   ]
  },
  {
   "cell_type": "code",
   "execution_count": null,
   "metadata": {},
   "outputs": [],
   "source": []
  }
 ],
 "metadata": {
  "hide_input": false,
  "kernelspec": {
   "display_name": "Python (feature-selection)",
   "language": "python",
   "name": "venv-kensho-feature-selection"
  },
  "language_info": {
   "codemirror_mode": {
    "name": "ipython",
    "version": 3
   },
   "file_extension": ".py",
   "mimetype": "text/x-python",
   "name": "python",
   "nbconvert_exporter": "python",
   "pygments_lexer": "ipython3",
   "version": "3.7.7"
  },
  "toc": {
   "base_numbering": 1,
   "nav_menu": {},
   "number_sections": true,
   "sideBar": true,
   "skip_h1_title": false,
   "title_cell": "Table of Contents",
   "title_sidebar": "Contents",
   "toc_cell": false,
   "toc_position": {},
   "toc_section_display": true,
   "toc_window_display": false
  },
  "varInspector": {
   "cols": {
    "lenName": 16,
    "lenType": 16,
    "lenVar": 40
   },
   "kernels_config": {
    "python": {
     "delete_cmd_postfix": "",
     "delete_cmd_prefix": "del ",
     "library": "var_list.py",
     "varRefreshCmd": "print(var_dic_list())"
    },
    "r": {
     "delete_cmd_postfix": ") ",
     "delete_cmd_prefix": "rm(",
     "library": "var_list.r",
     "varRefreshCmd": "cat(var_dic_list()) "
    }
   },
   "types_to_exclude": [
    "module",
    "function",
    "builtin_function_or_method",
    "instance",
    "_Feature"
   ],
   "window_display": false
  }
 },
 "nbformat": 4,
 "nbformat_minor": 4
}
